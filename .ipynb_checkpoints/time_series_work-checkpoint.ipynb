{
 "cells": [
  {
   "cell_type": "markdown",
   "id": "2c1d6b93-986b-4517-be80-99f2530515ad",
   "metadata": {},
   "source": [
    "# Machine learning for time series with Python"
   ]
  },
  {
   "cell_type": "markdown",
   "id": "0da08c32-1537-4b6b-9d92-1cab4162ec92",
   "metadata": {
    "jp-MarkdownHeadingCollapsed": true
   },
   "source": [
    "## 1/. Introduction to Time-Series with Python"
   ]
  },
  {
   "cell_type": "markdown",
   "id": "75ca7531-f18d-4586-90f8-4c5ebcc01bba",
   "metadata": {},
   "source": [
    "**Time-Series** are datasets where observations are arranged in chronological order."
   ]
  },
  {
   "cell_type": "markdown",
   "id": "f0a2f4c2-8601-42ff-a508-7a55dee88441",
   "metadata": {},
   "source": [
    "Formally we can define a time-series as a mapping:\n"
   ]
  },
  {
   "cell_type": "markdown",
   "id": "7936302d-50a5-45fd-8db3-b152848cae1d",
   "metadata": {},
   "source": [
    "$$ x: T \\to \\mathbb{R}^{k}$$\n",
    "\n",
    "so $x(t)$ is a real values, $k$-dimensional vector. These values are measures of whatever we are observing and $t$ is time. What type of things follow time-series:\n",
    "\n",
    "- Daily closing values of a stock index\n",
    "- \n",
    "Number of weekly infections of a diseas\n",
    "- \r\n",
    "Weekly series of train acciden\n",
    "- s\r\n",
    "Rainfall per day"
   ]
  },
  {
   "cell_type": "markdown",
   "id": "cd021f8a-cd96-465a-aecc-079c884ee34e",
   "metadata": {},
   "source": [
    "An alternative way to look at it is as a stochastic (random) process:\n",
    "\n",
    "$$ \\{ X_t \\}_{t \\in T} $$\n",
    "\n",
    "where $X_{t}$ is the value of a random variable $X$ and time $t$."
   ]
  },
  {
   "cell_type": "markdown",
   "id": "47058ec4-72b0-4512-a59f-5555e7bc5eee",
   "metadata": {},
   "source": [
    "**Forecasting** - How the future can be predicted based on the past.\n",
    "\n",
    "**Multivariate time-series** - One that tracks the time evolution of multiple variables.\n",
    "\n",
    "Times series are usually discrete, as in, time takes discrete values and usually are conveniently spaced e.g. months apart, days apart etc. The most important characteristics of a time-series are \n",
    "\n",
    "- Long-term movements of the values (**trend**). Climate change for example.\n",
    "- Seasonal variations (**seasonality**). Occurs at specific regular intervals of less than a year. Can be daily, weekly, monthly, yearly.\n",
    "- Irregular or cyclic components. E.g. cyclic variability that is irregular: bank holidays cause sales differences but fall on different days each year. New products introduced to market, not necesarily a regular occurence.\n",
    "\n",
    "If a time-series is **stationary**, it means that it has no trend and no deterministic seasonal variability, although other cyclical variability is permitted. The task of identifying, quantifying, and decomposing these and other characteristics is called time-series analysis. Exploratory time-series analysis is often the first step before any feature transformation and machine learning."
   ]
  },
  {
   "cell_type": "markdown",
   "id": "0aac17cf-4a89-40de-807b-2328e7e6280e",
   "metadata": {},
   "source": [
    "**Important historical findings** \n",
    "\n",
    "- Gruant with demography and death expectancy.\n",
    "- Bernoulli, law of large numbers. The expected value is approached by repeating an experiment many many times.\n",
    "- Neumann and Liebniz mortality.\n",
    "- De Moivre again mortality and also approximation of binomial distribution from Poisson distribution.\n",
    "- \"Malthusian catastrophe\" - Malthus predicted exponential growth in population and linear growth in food supply lead to population death.\n",
    "- Verhulst developed the logsitic function as a model for population growth: $f(x) = \\frac{L}{1- e^{k(x-x_{0})}} $, $L$ supremum, $x_{0}$ function centre, $k$ growth rate. Also used as an activation function in ML.\n",
    "- Lexis ratio distinguishes between stable and non-stable series.\n",
    "- Pearson invented standard deviation replacing Gauss' concept of mean error. Also made the histogram, principal component analysis.\n",
    "- Least squares underpins linear regression. Has an analytic formula in terms of input and target/output matrices. About optimising the $\\beta$ \"weight\" parameter.\n",
    "- Laplace: central limit theorem, which roughly states that the sum of independent variables, even if they are not from the normal distribution, tends toward a normal distribution.\n",
    "- Cauchy: Invents gradient descent algorithm, repeated steps in the oppsosite direction of the graident lead to finding a local minimum.\n",
    "- Levenberg–Marquardt algorithm.\n",
    "- Playfair: bar chart and time series chart.\n",
    "- Electrocardiogram (ECG). The ECG is important for monitoring and screening the function of the heart and can detect cardiac rhythm disturbances, inadequate coronary artery blood flow, and electrolyte disturbances. \n",
    "- Electroencephalography (EEG) Records electrical brain activity.Voltage vs seconds. Fourier transforming then leads to particular frequencies occuring, alpha beta and gamma are interesting levels which typical indicate different thought processes.\n",
    "- Bayes theorem, posterior probabilities etc.\n",
    "- Box Jenkins produced book Time-Seires Analysis and Forecasting and Control\" in 1970. Formalised ARIMA and ARMAX models and how to apply to time-series forecasting."
   ]
  },
  {
   "cell_type": "markdown",
   "id": "d6f9f941-a58e-460d-a6c9-42c2279aecf0",
   "metadata": {},
   "source": [
    "### 1.1/. Python for time-series"
   ]
  },
  {
   "cell_type": "markdown",
   "id": "9c99f759-59b0-489b-a8c6-e454e7f8f56f",
   "metadata": {},
   "source": [
    "- Some of the common libraries used in time-series are gluon-ts belonging to AWS, sktime belonding the the alan turing institute.\n",
    "- Jupyter stands for Julia, Python, R."
   ]
  },
  {
   "cell_type": "code",
   "execution_count": 9,
   "id": "8d086b5c-fb65-4777-820d-1d1f25c1232a",
   "metadata": {},
   "outputs": [],
   "source": [
    "#!pip install xgboost\n",
    "#!pip install dython\n",
    "#All other libraries installed as recommended."
   ]
  },
  {
   "cell_type": "code",
   "execution_count": 11,
   "id": "b6c41fc0-7553-4d8c-aa92-3da38a184f5e",
   "metadata": {},
   "outputs": [],
   "source": [
    "import xgboost as xgb"
   ]
  },
  {
   "cell_type": "code",
   "execution_count": 3,
   "id": "47b09907-6268-4103-ac49-f6b13f9fc649",
   "metadata": {},
   "outputs": [],
   "source": [
    "def func(x,y):\n",
    "    \"\"\" test function: sum of squares of two variables x and y\"\"\"\n",
    "    return x**2 + y**2 "
   ]
  },
  {
   "cell_type": "code",
   "execution_count": 4,
   "id": "35902712-a80a-4ccf-b8f2-7af50412dbf7",
   "metadata": {},
   "outputs": [
    {
     "data": {
      "text/plain": [
       "5"
      ]
     },
     "execution_count": 4,
     "metadata": {},
     "output_type": "execute_result"
    }
   ],
   "source": [
    "func(1,2)"
   ]
  },
  {
   "cell_type": "code",
   "execution_count": 5,
   "id": "70e40ede-6e9c-467f-8d5a-5c66a9a6883d",
   "metadata": {
    "editable": true,
    "slideshow": {
     "slide_type": ""
    },
    "tags": []
   },
   "outputs": [
    {
     "data": {
      "text/plain": [
       "\u001b[1;31mSignature:\u001b[0m \u001b[0mfunc\u001b[0m\u001b[1;33m(\u001b[0m\u001b[0mx\u001b[0m\u001b[1;33m,\u001b[0m \u001b[0my\u001b[0m\u001b[1;33m)\u001b[0m\u001b[1;33m\u001b[0m\u001b[1;33m\u001b[0m\u001b[0m\n",
       "\u001b[1;31mDocstring:\u001b[0m test function: sum of squares of two variables x and y\n",
       "\u001b[1;31mFile:\u001b[0m      c:\\users\\lewis sword\\appdata\\local\\temp\\ipykernel_312\\2176317980.py\n",
       "\u001b[1;31mType:\u001b[0m      function"
      ]
     },
     "metadata": {},
     "output_type": "display_data"
    }
   ],
   "source": [
    "?func"
   ]
  },
  {
   "cell_type": "markdown",
   "id": "1a3ac53c-a0a2-449e-82a4-563ecce44f48",
   "metadata": {},
   "source": [
    "NumPy library interfaces with ML libraries such as PyTorch and TensorFlow. Pandas is basically a high-level interface around NumPy arrays. SciPy also builds on NumPy."
   ]
  },
  {
   "cell_type": "markdown",
   "id": "b6d7c2e7-bb81-4c11-ae4d-6eea3755f982",
   "metadata": {},
   "source": [
    "**Datetime library**"
   ]
  },
  {
   "cell_type": "markdown",
   "id": "c9a7b06c-1b9b-4ac8-8664-320831fefc13",
   "metadata": {},
   "source": [
    "Date and datetime objects must be imported into the script "
   ]
  },
  {
   "cell_type": "code",
   "execution_count": 10,
   "id": "f55ae10b-76a8-4b38-b37c-13065b4fffd5",
   "metadata": {},
   "outputs": [],
   "source": [
    "from datetime import date"
   ]
  },
  {
   "cell_type": "code",
   "execution_count": 22,
   "id": "ceaa7ed0-7853-4367-99c6-103ae5a30588",
   "metadata": {},
   "outputs": [
    {
     "data": {
      "text/plain": [
       "datetime.date(2024, 3, 8)"
      ]
     },
     "execution_count": 22,
     "metadata": {},
     "output_type": "execute_result"
    }
   ],
   "source": [
    "today = date.today()\n",
    "today"
   ]
  },
  {
   "cell_type": "code",
   "execution_count": 24,
   "id": "09c71197-8862-459e-968d-8ab724ca5032",
   "metadata": {},
   "outputs": [
    {
     "data": {
      "text/plain": [
       "datetime.date(2024, 9, 9)"
      ]
     },
     "execution_count": 24,
     "metadata": {},
     "output_type": "execute_result"
    }
   ],
   "source": [
    "other_date = date(2024,9,9)\n",
    "other_date"
   ]
  },
  {
   "cell_type": "markdown",
   "id": "b6a7d624-1a93-498c-aca6-245674077e8b",
   "metadata": {},
   "source": [
    "Can also get date and time. iso short for ISO 8601 is an international standard for representing dates and times."
   ]
  },
  {
   "cell_type": "code",
   "execution_count": 32,
   "id": "8e12fc62-1b0a-438c-8940-f73a58418f52",
   "metadata": {},
   "outputs": [
    {
     "name": "stdout",
     "output_type": "stream",
     "text": [
      "2024-03-08T23:32:16.123677\n"
     ]
    },
    {
     "data": {
      "text/plain": [
       "datetime.datetime(2024, 3, 8, 23, 32, 16, 123677)"
      ]
     },
     "execution_count": 32,
     "metadata": {},
     "output_type": "execute_result"
    }
   ],
   "source": [
    "from datetime import datetime\n",
    "now = datetime.now()\n",
    "print(now.isoformat()) \n",
    "now"
   ]
  },
  {
   "cell_type": "markdown",
   "id": "4b4fa38a-15dd-417d-9024-43e5b97692f4",
   "metadata": {},
   "source": [
    "We can use timedelta to do calculations"
   ]
  },
  {
   "cell_type": "code",
   "execution_count": 33,
   "id": "9b428cec-dced-44b2-9b32-d8464ae40fc0",
   "metadata": {},
   "outputs": [],
   "source": [
    "from datetime import timedelta \n",
    "year = timedelta(days=365)"
   ]
  },
  {
   "cell_type": "code",
   "execution_count": 34,
   "id": "7fa37768-6ac1-4649-a48f-0b7c153f867d",
   "metadata": {},
   "outputs": [
    {
     "data": {
      "text/plain": [
       "datetime.timedelta(days=1825)"
      ]
     },
     "execution_count": 34,
     "metadata": {},
     "output_type": "execute_result"
    }
   ],
   "source": [
    "year *5"
   ]
  },
  {
   "cell_type": "markdown",
   "id": "8d4de94d-8bc1-4375-9b4f-16f9c1cc0e5e",
   "metadata": {},
   "source": [
    "Strings can be parsed to becomes date and datetime types. It can also be formatted."
   ]
  },
  {
   "cell_type": "code",
   "execution_count": 37,
   "id": "3ce53b82-1094-49f9-a061-c6855c1128cc",
   "metadata": {},
   "outputs": [
    {
     "data": {
      "text/plain": [
       "datetime.date(2021, 3, 24)"
      ]
     },
     "execution_count": 37,
     "metadata": {},
     "output_type": "execute_result"
    }
   ],
   "source": [
    "some_date = date.fromisoformat('2021-03-24')\n",
    "some_date"
   ]
  },
  {
   "cell_type": "code",
   "execution_count": 38,
   "id": "796e3af3-27ac-4c72-8cc9-402fc9c352f5",
   "metadata": {},
   "outputs": [
    {
     "data": {
      "text/plain": [
       "'Wednesday 24. March 2021'"
      ]
     },
     "execution_count": 38,
     "metadata": {},
     "output_type": "execute_result"
    }
   ],
   "source": [
    "some_date.strftime('%A %d. %B %Y')"
   ]
  },
  {
   "cell_type": "markdown",
   "id": "3a9f7ef7-fd59-4647-8a65-9e22234cc8fb",
   "metadata": {},
   "source": [
    "## 2/.  Time-series analysis with Python"
   ]
  },
  {
   "cell_type": "markdown",
   "id": "6a9d2f49-b5e9-4b93-b833-86d657bbfe36",
   "metadata": {},
   "source": [
    "Roughly speaking, the main difference between time-series analysis and machine learning is that time-series analysis does not include formal statistical modeling and inference."
   ]
  },
  {
   "cell_type": "markdown",
   "id": "e4cff93f-f185-405d-88f8-5fdeb5cc7130",
   "metadata": {},
   "source": [
    "Time-series analysis can be done using a number of interavtive queries and tools at our fingertips. Loading data, applying trend and seasonaility fits can all be done. Pay attention to the general outline."
   ]
  },
  {
   "cell_type": "markdown",
   "id": "95e64b59-a076-42a9-ab15-7888e4b0c54a",
   "metadata": {},
   "source": [
    "**Time-series analysis (TSA)** - The statistical approach to time-series or the analysis of trend and seasonality. Usually involves visualiseing distributions, trends, cyclic patterns and relationships between features as well as features and targets. It is an initial investigation of a dataset with the goal of discovering patterns and obtaining insights and testing hypothesis."
   ]
  },
  {
   "cell_type": "markdown",
   "id": "5a9b57ff-7f0f-4453-996a-76c54318cb9e",
   "metadata": {},
   "source": [
    "The first part of TSA is collecting and reviewing data. Checking distributions and for any errors/outliers (NaN, extreme values etc.)"
   ]
  },
  {
   "cell_type": "markdown",
   "id": "49dc3864-8846-4407-9697-fb2c63014a25",
   "metadata": {},
   "source": [
    "Crucial steps (some of which aren't necessarily coined as part of TSA):\n",
    "- Importing data\n",
    "- Cleaning data\n",
    "- Understading variables (TSA)\n",
    "- Uncovering relationships between variables (TSA)\n",
    "- Identifying trend and seasonality (TSA)\n",
    "- Preprocessing (including feature engineering)\n",
    "- Training a machine learning model"
   ]
  },
  {
   "cell_type": "markdown",
   "id": "99e85510-aa17-40d6-8a49-40084a4f769a",
   "metadata": {},
   "source": [
    "The above steps are actually iterative. If we make a change at any part of the cycle, we can run the cycle again."
   ]
  },
  {
   "cell_type": "markdown",
   "id": "26e13f2a-88c1-4c21-9e6c-a08f6bdd4808",
   "metadata": {},
   "source": [
    "### datetime \n",
    "Start by looking at the below datetime library as time is of fundamental importance"
   ]
  },
  {
   "cell_type": "code",
   "execution_count": 10,
   "id": "e517ec47-fba7-41a3-8ebf-a48de1dc6239",
   "metadata": {},
   "outputs": [],
   "source": [
    "from datetime import date"
   ]
  },
  {
   "cell_type": "code",
   "execution_count": 22,
   "id": "00cbcf0c-38de-4e96-8adc-637b10587160",
   "metadata": {},
   "outputs": [
    {
     "data": {
      "text/plain": [
       "datetime.date(2024, 3, 8)"
      ]
     },
     "execution_count": 22,
     "metadata": {},
     "output_type": "execute_result"
    }
   ],
   "source": [
    "today = date.today()\n",
    "today"
   ]
  },
  {
   "cell_type": "code",
   "execution_count": 24,
   "id": "1d07bbc1-b995-4b61-a0f2-79f1a7254e3d",
   "metadata": {},
   "outputs": [
    {
     "data": {
      "text/plain": [
       "datetime.date(2024, 9, 9)"
      ]
     },
     "execution_count": 24,
     "metadata": {},
     "output_type": "execute_result"
    }
   ],
   "source": [
    "other_date = date(2024,9,9)\n",
    "other_date"
   ]
  },
  {
   "cell_type": "markdown",
   "id": "3c522cc0-0795-4f8b-84ae-3abcb9e7fcbe",
   "metadata": {},
   "source": [
    "Can also get date and time. iso short for ISO 8601 is an international standard for representing dates and times."
   ]
  },
  {
   "cell_type": "code",
   "execution_count": 32,
   "id": "9c111100-7bf7-46b8-a5b1-fef3fc1926e2",
   "metadata": {},
   "outputs": [
    {
     "name": "stdout",
     "output_type": "stream",
     "text": [
      "2024-03-08T23:32:16.123677\n"
     ]
    },
    {
     "data": {
      "text/plain": [
       "datetime.datetime(2024, 3, 8, 23, 32, 16, 123677)"
      ]
     },
     "execution_count": 32,
     "metadata": {},
     "output_type": "execute_result"
    }
   ],
   "source": [
    "from datetime import datetime\n",
    "now = datetime.now()\n",
    "print(now.isoformat()) \n",
    "now"
   ]
  },
  {
   "cell_type": "markdown",
   "id": "3632f76e-2b0b-4037-9b09-b1a0f252fe6e",
   "metadata": {},
   "source": [
    "We can use timedelta to do calculations"
   ]
  },
  {
   "cell_type": "code",
   "execution_count": 33,
   "id": "11c72fae-4dc7-4dde-a606-06d9f224589b",
   "metadata": {},
   "outputs": [],
   "source": [
    "from datetime import timedelta \n",
    "year = timedelta(days=365)"
   ]
  },
  {
   "cell_type": "code",
   "execution_count": 34,
   "id": "ceb8d9f3-5772-428e-a1fc-77da166b9680",
   "metadata": {},
   "outputs": [
    {
     "data": {
      "text/plain": [
       "datetime.timedelta(days=1825)"
      ]
     },
     "execution_count": 34,
     "metadata": {},
     "output_type": "execute_result"
    }
   ],
   "source": [
    "year *5"
   ]
  },
  {
   "cell_type": "markdown",
   "id": "a3a62a31-7f3d-4162-81aa-08cf598df716",
   "metadata": {},
   "source": [
    "Strings can be parsed to becomes date and datetime types. It can also be formatted."
   ]
  },
  {
   "cell_type": "code",
   "execution_count": 37,
   "id": "8987f1fb-597e-44f0-bba8-c9f632056f45",
   "metadata": {},
   "outputs": [
    {
     "data": {
      "text/plain": [
       "datetime.date(2021, 3, 24)"
      ]
     },
     "execution_count": 37,
     "metadata": {},
     "output_type": "execute_result"
    }
   ],
   "source": [
    "some_date = date.fromisoformat('2021-03-24')\n",
    "some_date"
   ]
  },
  {
   "cell_type": "code",
   "execution_count": 38,
   "id": "1c800e4f-7c4e-4325-9e25-ae95e2c33e16",
   "metadata": {},
   "outputs": [
    {
     "data": {
      "text/plain": [
       "'Wednesday 24. March 2021'"
      ]
     },
     "execution_count": 38,
     "metadata": {},
     "output_type": "execute_result"
    }
   ],
   "source": [
    "some_date.strftime('%A %d. %B %Y')"
   ]
  },
  {
   "cell_type": "markdown",
   "id": "26f2a11e-a43e-453a-a64e-8958885cca0d",
   "metadata": {},
   "source": [
    "### pandas"
   ]
  },
  {
   "cell_type": "markdown",
   "id": "0f5c57ea-3975-45e6-a26e-46f0bb06f552",
   "metadata": {},
   "source": [
    "Uses dataframes which can allow for feature engineering, cleaning and general preprocessing. We can create a time-series in different ways. For example using `date_range`"
   ]
  },
  {
   "cell_type": "code",
   "execution_count": 4,
   "id": "860ea495-c698-49a7-b37f-6e30d094383d",
   "metadata": {},
   "outputs": [
    {
     "data": {
      "text/plain": [
       "DatetimeIndex(['2021-03-24', '2021-03-25', '2021-03-26', '2021-03-27',\n",
       "               '2021-03-28', '2021-03-29', '2021-03-30', '2021-03-31',\n",
       "               '2021-04-01', '2021-04-02',\n",
       "               ...\n",
       "               '2021-08-23', '2021-08-24', '2021-08-25', '2021-08-26',\n",
       "               '2021-08-27', '2021-08-28', '2021-08-29', '2021-08-30',\n",
       "               '2021-08-31', '2021-09-01'],\n",
       "              dtype='datetime64[ns]', length=162, freq='D')"
      ]
     },
     "execution_count": 4,
     "metadata": {},
     "output_type": "execute_result"
    }
   ],
   "source": [
    "import pandas as pd\n",
    "pd.date_range(start='2021-03-24', end='2021-09-01') # date_range is a specific date formatting dataframe"
   ]
  },
  {
   "cell_type": "markdown",
   "id": "ba1c1876-f0ed-44fb-a50f-bd7e3b91f557",
   "metadata": {},
   "source": [
    "Or using a standard Series object (a one column/feature dataframe in essence)"
   ]
  },
  {
   "cell_type": "code",
   "execution_count": 5,
   "id": "1ded6707-b960-45dd-969d-e0d97a3c185d",
   "metadata": {},
   "outputs": [
    {
     "data": {
      "text/plain": [
       "0   2021-01-01\n",
       "1   2021-01-02\n",
       "2   2021-01-03\n",
       "dtype: datetime64[ns]"
      ]
     },
     "execution_count": 5,
     "metadata": {},
     "output_type": "execute_result"
    }
   ],
   "source": [
    "pd.Series(pd.date_range(\"2021\", freq=\"D\", periods=3))"
   ]
  },
  {
   "cell_type": "markdown",
   "id": "b152b6b6-5312-4b77-bb35-e83ba5906f67",
   "metadata": {},
   "source": [
    "We can parse to `date` or `datetime` objects from either `string` or separate columns"
   ]
  },
  {
   "cell_type": "code",
   "execution_count": 15,
   "id": "862e7e9d-9a3b-44ee-a12e-0b3894d17b8a",
   "metadata": {},
   "outputs": [
    {
     "name": "stdout",
     "output_type": "stream",
     "text": [
      "0   2021-03-24\n",
      "1   2022-04-25\n",
      "dtype: datetime64[ns]\n",
      "<class 'pandas.core.series.Series'>\n",
      "2021-03-24 00:00:00\n"
     ]
    }
   ],
   "source": [
    "import pandas as pd\n",
    "\n",
    "# Note in the below dataframe, year, month and date are separate variables/series/columns, but the to_datetime automatically combines them into a single series. \n",
    "df = pd.DataFrame({'year': [2021, 2022],\n",
    "    'month': [3, 4],\n",
    "    'day': [24, 25]}\n",
    ")\n",
    "ts1 = pd.to_datetime(df)\n",
    "ts2 = pd.to_datetime('20210324', format='%Y%m%d')\n",
    "print(ts1)\n",
    "print(type(ts1))\n",
    "print(ts2)"
   ]
  },
  {
   "cell_type": "markdown",
   "id": "40567f70-3dcf-4097-aaeb-b2b13002d721",
   "metadata": {},
   "source": [
    "Interestingly, `.rolling` method gives us the ability to calculate cumulative values. Its argument determines how many previous values it uses. E.g. rolling(3) will access 3 pieces of data in the series where if $i$ is the current element, it will look at $i-2$, $i-1$ and $i$."
   ]
  },
  {
   "cell_type": "code",
   "execution_count": 20,
   "id": "6acd13f4-40d3-48e9-bc7f-8db2cad06e81",
   "metadata": {},
   "outputs": [
    {
     "name": "stdout",
     "output_type": "stream",
     "text": [
      "0    NaN\n",
      "1    NaN\n",
      "2    2.0\n",
      "3    3.0\n",
      "4    4.0\n",
      "dtype: float64\n",
      "0     NaN\n",
      "1     NaN\n",
      "2     6.0\n",
      "3     9.0\n",
      "4    12.0\n",
      "dtype: float64\n"
     ]
    }
   ],
   "source": [
    "s = pd.Series([1, 2, 3, 4, 5])\n",
    "print(s.rolling(3).mean())\n",
    "print(s.rolling(3).sum())"
   ]
  },
  {
   "cell_type": "markdown",
   "id": "9a2682e7-5573-4d7b-b6da-ff5ce115db59",
   "metadata": {},
   "source": [
    "Let us generate some random data"
   ]
  },
  {
   "cell_type": "code",
   "execution_count": 21,
   "id": "2a086800-a446-4a60-b9de-176f1a3323c5",
   "metadata": {},
   "outputs": [],
   "source": [
    "import numpy as np \n",
    "rng = pd.date_range('2021-03-24', '2021-09-01', freq='D')\n",
    "ts = pd.Series(np.random.randn(len(rng)), index=rng)"
   ]
  },
  {
   "cell_type": "code",
   "execution_count": 22,
   "id": "1f0b2da8-e7af-47fa-88e2-72a609a996aa",
   "metadata": {},
   "outputs": [
    {
     "data": {
      "text/plain": [
       "2021-03-24   -2.271653\n",
       "2021-03-25   -0.299767\n",
       "2021-03-26    1.118888\n",
       "2021-03-27   -1.421214\n",
       "2021-03-28    0.525504\n",
       "                ...   \n",
       "2021-08-28    0.099458\n",
       "2021-08-29    0.165718\n",
       "2021-08-30    0.288771\n",
       "2021-08-31   -0.541150\n",
       "2021-09-01    0.855115\n",
       "Freq: D, Length: 162, dtype: float64"
      ]
     },
     "execution_count": 22,
     "metadata": {},
     "output_type": "execute_result"
    }
   ],
   "source": [
    "ts"
   ]
  },
  {
   "cell_type": "markdown",
   "id": "aa03380d-e2c1-495f-b7d3-5f025222683f",
   "metadata": {},
   "source": [
    "We can access particular series elements using slicing, index and values. We can also index directly with the date or between dates:"
   ]
  },
  {
   "cell_type": "code",
   "execution_count": 38,
   "id": "da333c8f-2f3b-47b6-beb9-96622d62af2c",
   "metadata": {},
   "outputs": [
    {
     "name": "stdout",
     "output_type": "stream",
     "text": [
      "index: \n",
      " DatetimeIndex(['2021-03-24', '2021-03-25'], dtype='datetime64[ns]', freq='D')\n",
      "values: \n",
      " [-2.27165333 -0.29976676]\n",
      "sliced frame \n",
      " 2021-03-24   -2.271653\n",
      "2021-03-25   -0.299767\n",
      "Freq: D, dtype: float64\n",
      "date index \n",
      "  2021-03-28    0.525504\n",
      "2021-03-29   -0.279304\n",
      "2021-03-30    1.061743\n",
      "2021-03-31   -0.351517\n",
      "2021-04-01    0.577927\n",
      "2021-04-02    0.304149\n",
      "Freq: D, dtype: float64\n"
     ]
    }
   ],
   "source": [
    "print(\"index: \\n\", ts[:2].index)\n",
    "print(\"values: \\n\", ts[:2].values)\n",
    "print(\"sliced frame \\n\", ts[:2])\n",
    "print(\"date index \\n \", ts['2021-03-28':'2021-04-02'])"
   ]
  },
  {
   "cell_type": "markdown",
   "id": "3bfdefef-ff06-45fc-9c93-a98321d5ae6e",
   "metadata": {},
   "source": [
    "As previously encountered, we can create a lag to compare previous and next day data i.e. to see if there is correlation. We do this using the `.shift` method."
   ]
  },
  {
   "cell_type": "code",
   "execution_count": 42,
   "id": "f300f804-cad1-488b-a117-5beb654c0794",
   "metadata": {},
   "outputs": [
    {
     "data": {
      "text/plain": [
       "2021-03-24         NaN\n",
       "2021-03-25   -2.271653\n",
       "2021-03-26   -0.299767\n",
       "2021-03-27    1.118888\n",
       "2021-03-28   -1.421214\n",
       "Freq: D, dtype: float64"
      ]
     },
     "execution_count": 42,
     "metadata": {},
     "output_type": "execute_result"
    }
   ],
   "source": [
    "ts.shift(1)[:5] #Notice how the output shows a NaN for the first data entry, this must be the case as lag shifts the current data entry to the next. There is no data before the first, hence it is NaN."
   ]
  },
  {
   "cell_type": "markdown",
   "id": "2a43a3dd-8d73-47e1-b5aa-060ea5af1432",
   "metadata": {},
   "source": [
    "Another cool feature is the `.asfreq(a)` method where `a` is a string either `S,H,D,M,Y` to choose what frequnecy the data is shown in, seconds, hours, days, months, years."
   ]
  },
  {
   "cell_type": "code",
   "execution_count": 50,
   "id": "b36393c2-6ab1-4bc9-95e6-75dde855a8d1",
   "metadata": {},
   "outputs": [
    {
     "data": {
      "text/plain": [
       "2021-03-31   -0.351517\n",
       "2021-04-30   -0.997903\n",
       "2021-05-31   -0.058643\n",
       "2021-06-30    1.809681\n",
       "2021-07-31   -1.452749\n",
       "2021-08-31   -0.541150\n",
       "Freq: M, dtype: float64"
      ]
     },
     "execution_count": 50,
     "metadata": {},
     "output_type": "execute_result"
    }
   ],
   "source": [
    "ts.asfreq('M')"
   ]
  },
  {
   "cell_type": "markdown",
   "id": "35822d80-90ff-4378-b113-4d5d3b0138d6",
   "metadata": {},
   "source": [
    "We can also make a plot of the data directly using the dataframe and matplotlib"
   ]
  },
  {
   "cell_type": "code",
   "execution_count": 25,
   "id": "5370d929-f0e9-4941-a45a-46e538d79cf1",
   "metadata": {},
   "outputs": [
    {
     "data": {
      "text/plain": [
       "[<matplotlib.lines.Line2D at 0x1c8dc0f6bb0>]"
      ]
     },
     "execution_count": 25,
     "metadata": {},
     "output_type": "execute_result"
    },
    {
     "data": {
      "image/png": "[encoded data removed]",
      "text/plain": [
       "<Figure size 640x480 with 1 Axes>"
      ]
     },
     "metadata": {},
     "output_type": "display_data"
    }
   ],
   "source": [
    "import matplotlib.pyplot as plt\n",
    "plt.plot(ts) #Do not even have to split into (x,y) data here, dataframe automatically gets processed in matplotlib"
   ]
  },
  {
   "cell_type": "markdown",
   "id": "5eb9baf8-b701-4dda-83eb-9f09439fb42d",
   "metadata": {},
   "source": [
    "### Understanding the variables"
   ]
  },
  {
   "cell_type": "markdown",
   "id": "6fa493c2-fe14-43c7-83fc-3f6755fa7ca4",
   "metadata": {},
   "source": [
    "- To help understand the data as a whole, we first look at individual variables as a function of time. Includes histograms, finding missing values etc.\n",
    "- Most important descriptors are **mean** $$\\bar{x} = \\frac{1}{n}\\sum_{i=1}^{n} x_{i}$$\n",
    "and **standard deviation** $$ \\sigma_{X} = \\sqrt{ \\frac{1}{n}\\sum_{i=1}^{n} (x_{i} - \\bar{x})^2 } = \\sqrt{\\mathbb{E}(X-\\bar{x})^2}\\,.$$\n",
    "- NOTE WELL: the standard deviation here is of same form as the root mean square error, but here we are looking at the difference between input data and its mean. In the loss function root mean square error, we look at the difference between the target variable and the predicted variable.\n",
    "- SD measures the variability of a dataset around its mean.\r",
    "- \n",
    "RMSE measures the average error of predictions made by a model."
   ]
  },
  {
   "cell_type": "markdown",
   "id": "f2a7100c-aeb4-41c8-833f-f514a699b780",
   "metadata": {},
   "source": [
    "**Confidence interval**: gives a range of values for a parameter.  E.g. the 95th percentile upper confidence limit $CI^{+}$, defined as $$CI^{+} = \\bar{x} + (SE \\times 1.96)\\,,$$ where $SE = \\sigma_{\\bar{x}} = \\sigma_{X}/\\sqrt{n}$."
   ]
  },
  {
   "cell_type": "markdown",
   "id": "042ca927-9229-4d7c-978f-4090cbfee4b9",
   "metadata": {},
   "source": [
    "**Median: $$ median(X) = x_{(n+1)}/2$$ assumes that X is ordered in ascending/descending direction and that $n$ is odd. It is just the middle value. The median is the 50th percentile, simply meaning that it is higher exactly $50\\%$ of points in $X$ (the dataset). Other perecentiles are also relevant $25\\%$ and $75\\%$ whose difference is the interquartile range."
   ]
  },
  {
   "cell_type": "markdown",
   "id": "eb120bc1-8cfa-432f-a47f-88643cbf0318",
   "metadata": {},
   "source": [
    "Let us look at some code. Reading in some pollution data."
   ]
  },
  {
   "cell_type": "code",
   "execution_count": 1,
   "id": "bc0b75e0-0de3-4f21-b51e-529af954f5d4",
   "metadata": {},
   "outputs": [],
   "source": [
    "import datetime\n",
    "import pandas as pd\n",
    "import matplotlib.pyplot as plt"
   ]
  },
  {
   "cell_type": "code",
   "execution_count": 2,
   "id": "81b79ad9-22c1-4b0f-92de-01de1e29aca6",
   "metadata": {},
   "outputs": [
    {
     "data": {
      "text/plain": [
       "331"
      ]
     },
     "execution_count": 2,
     "metadata": {},
     "output_type": "execute_result"
    }
   ],
   "source": [
    "pollution = pd.read_csv(\n",
    "    'https://raw.githubusercontent.com/owid/owid-datasets/master/datasets/Air%20pollution%20by%20city%20-%20Fouquet%20and%20DPCC%20(2011)/Air%20pollution%20by%20city%20-%20Fouquet%20and%20DPCC%20(2011).csv'\n",
    ")\n",
    "len(pollution)"
   ]
  },
  {
   "cell_type": "code",
   "execution_count": 3,
   "id": "4d769559-547a-4827-b8b1-70d005016d0d",
   "metadata": {},
   "outputs": [
    {
     "data": {
      "text/html": [
       "<div>\n",
       "<style scoped>\n",
       "    .dataframe tbody tr th:only-of-type {\n",
       "        vertical-align: middle;\n",
       "    }\n",
       "\n",
       "    .dataframe tbody tr th {\n",
       "        vertical-align: top;\n",
       "    }\n",
       "\n",
       "    .dataframe thead th {\n",
       "        text-align: right;\n",
       "    }\n",
       "</style>\n",
       "<table border=\"1\" class=\"dataframe\">\n",
       "  <thead>\n",
       "    <tr style=\"text-align: right;\">\n",
       "      <th></th>\n",
       "      <th>Entity</th>\n",
       "      <th>Year</th>\n",
       "      <th>Smoke (Fouquet and DPCC (2011))</th>\n",
       "      <th>Suspended Particulate Matter (SPM) (Fouquet and DPCC (2011))</th>\n",
       "    </tr>\n",
       "  </thead>\n",
       "  <tbody>\n",
       "    <tr>\n",
       "      <th>0</th>\n",
       "      <td>Delhi</td>\n",
       "      <td>1997</td>\n",
       "      <td>NaN</td>\n",
       "      <td>363.0</td>\n",
       "    </tr>\n",
       "    <tr>\n",
       "      <th>1</th>\n",
       "      <td>Delhi</td>\n",
       "      <td>1998</td>\n",
       "      <td>NaN</td>\n",
       "      <td>378.0</td>\n",
       "    </tr>\n",
       "    <tr>\n",
       "      <th>2</th>\n",
       "      <td>Delhi</td>\n",
       "      <td>1999</td>\n",
       "      <td>NaN</td>\n",
       "      <td>375.0</td>\n",
       "    </tr>\n",
       "    <tr>\n",
       "      <th>3</th>\n",
       "      <td>Delhi</td>\n",
       "      <td>2000</td>\n",
       "      <td>NaN</td>\n",
       "      <td>431.0</td>\n",
       "    </tr>\n",
       "    <tr>\n",
       "      <th>4</th>\n",
       "      <td>Delhi</td>\n",
       "      <td>2001</td>\n",
       "      <td>NaN</td>\n",
       "      <td>382.0</td>\n",
       "    </tr>\n",
       "  </tbody>\n",
       "</table>\n",
       "</div>"
      ],
      "text/plain": [
       "  Entity  Year  Smoke (Fouquet and DPCC (2011))  \\\n",
       "0  Delhi  1997                              NaN   \n",
       "1  Delhi  1998                              NaN   \n",
       "2  Delhi  1999                              NaN   \n",
       "3  Delhi  2000                              NaN   \n",
       "4  Delhi  2001                              NaN   \n",
       "\n",
       "   Suspended Particulate Matter (SPM) (Fouquet and DPCC (2011))  \n",
       "0                                              363.0             \n",
       "1                                              378.0             \n",
       "2                                              375.0             \n",
       "3                                              431.0             \n",
       "4                                              382.0             "
      ]
     },
     "execution_count": 3,
     "metadata": {},
     "output_type": "execute_result"
    }
   ],
   "source": [
    "pollution.head()"
   ]
  },
  {
   "cell_type": "code",
   "execution_count": 4,
   "id": "4c164f64-1cca-4987-8d22-57b1d7791b59",
   "metadata": {},
   "outputs": [
    {
     "data": {
      "text/plain": [
       "Index(['Entity', 'Year', 'Smoke (Fouquet and DPCC (2011))',\n",
       "       'Suspended Particulate Matter (SPM) (Fouquet and DPCC (2011))'],\n",
       "      dtype='object')"
      ]
     },
     "execution_count": 4,
     "metadata": {},
     "output_type": "execute_result"
    }
   ],
   "source": [
    "pollution.columns"
   ]
  },
  {
   "cell_type": "code",
   "execution_count": 5,
   "id": "ccb28411-017a-465f-9cbf-643bd99627e1",
   "metadata": {},
   "outputs": [],
   "source": [
    "#we may want to call on columns specifically, so let us rename them to something simpler\n",
    "pollution = pollution.rename(\n",
    "    columns={\n",
    "        'Suspended Particulate Matter (SPM) (Fouquet and DPCC (2011))':            'SPM',\n",
    "           'Smoke (Fouquet and DPCC (2011))' : 'Smoke',\n",
    "        'Entity': 'City'\n",
    "    }\n",
    ")"
   ]
  },
  {
   "cell_type": "code",
   "execution_count": 6,
   "id": "6e46ff0b-0529-4bfd-9305-b3b32623abcc",
   "metadata": {},
   "outputs": [
    {
     "data": {
      "text/plain": [
       "Index(['City', 'Year', 'Smoke', 'SPM'], dtype='object')"
      ]
     },
     "execution_count": 6,
     "metadata": {},
     "output_type": "execute_result"
    }
   ],
   "source": [
    "pollution.columns"
   ]
  },
  {
   "cell_type": "code",
   "execution_count": 7,
   "id": "48016e89-d3e1-44de-acdc-5497d7c981a1",
   "metadata": {},
   "outputs": [],
   "source": [
    "# pollution.asfreq('D') Note we have not converted this to datetime format so calling asfreq won't work here."
   ]
  },
  {
   "cell_type": "code",
   "execution_count": 7,
   "id": "f91e7cbf-1bab-4784-9659-29d4ec952015",
   "metadata": {},
   "outputs": [
    {
     "data": {
      "text/html": [
       "<div>\n",
       "<style scoped>\n",
       "    .dataframe tbody tr th:only-of-type {\n",
       "        vertical-align: middle;\n",
       "    }\n",
       "\n",
       "    .dataframe tbody tr th {\n",
       "        vertical-align: top;\n",
       "    }\n",
       "\n",
       "    .dataframe thead th {\n",
       "        text-align: right;\n",
       "    }\n",
       "</style>\n",
       "<table border=\"1\" class=\"dataframe\">\n",
       "  <thead>\n",
       "    <tr style=\"text-align: right;\">\n",
       "      <th></th>\n",
       "      <th>Year</th>\n",
       "      <th>Smoke</th>\n",
       "      <th>SPM</th>\n",
       "    </tr>\n",
       "  </thead>\n",
       "  <tbody>\n",
       "    <tr>\n",
       "      <th>count</th>\n",
       "      <td>331.000000</td>\n",
       "      <td>301.000000</td>\n",
       "      <td>331.000000</td>\n",
       "    </tr>\n",
       "    <tr>\n",
       "      <th>mean</th>\n",
       "      <td>1864.154079</td>\n",
       "      <td>210.296440</td>\n",
       "      <td>365.970050</td>\n",
       "    </tr>\n",
       "    <tr>\n",
       "      <th>std</th>\n",
       "      <td>94.366037</td>\n",
       "      <td>88.543288</td>\n",
       "      <td>172.512674</td>\n",
       "    </tr>\n",
       "    <tr>\n",
       "      <th>min</th>\n",
       "      <td>1700.000000</td>\n",
       "      <td>13.750000</td>\n",
       "      <td>15.000000</td>\n",
       "    </tr>\n",
       "    <tr>\n",
       "      <th>25%</th>\n",
       "      <td>1782.500000</td>\n",
       "      <td>168.571429</td>\n",
       "      <td>288.474026</td>\n",
       "    </tr>\n",
       "    <tr>\n",
       "      <th>50%</th>\n",
       "      <td>1865.000000</td>\n",
       "      <td>208.214286</td>\n",
       "      <td>375.324675</td>\n",
       "    </tr>\n",
       "    <tr>\n",
       "      <th>75%</th>\n",
       "      <td>1947.500000</td>\n",
       "      <td>291.818182</td>\n",
       "      <td>512.609209</td>\n",
       "    </tr>\n",
       "    <tr>\n",
       "      <th>max</th>\n",
       "      <td>2016.000000</td>\n",
       "      <td>342.857143</td>\n",
       "      <td>623.376623</td>\n",
       "    </tr>\n",
       "  </tbody>\n",
       "</table>\n",
       "</div>"
      ],
      "text/plain": [
       "              Year       Smoke         SPM\n",
       "count   331.000000  301.000000  331.000000\n",
       "mean   1864.154079  210.296440  365.970050\n",
       "std      94.366037   88.543288  172.512674\n",
       "min    1700.000000   13.750000   15.000000\n",
       "25%    1782.500000  168.571429  288.474026\n",
       "50%    1865.000000  208.214286  375.324675\n",
       "75%    1947.500000  291.818182  512.609209\n",
       "max    2016.000000  342.857143  623.376623"
      ]
     },
     "execution_count": 7,
     "metadata": {},
     "output_type": "execute_result"
    }
   ],
   "source": [
    "pollution.describe()"
   ]
  },
  {
   "cell_type": "code",
   "execution_count": 8,
   "id": "87ae29af-ff61-4c84-9920-cb3a290c4c60",
   "metadata": {},
   "outputs": [
    {
     "data": {
      "text/plain": [
       "0     NaN\n",
       "1     NaN\n",
       "2     NaN\n",
       "3     NaN\n",
       "4     NaN\n",
       "       ..\n",
       "326   NaN\n",
       "327   NaN\n",
       "328   NaN\n",
       "329   NaN\n",
       "330   NaN\n",
       "Name: Smoke, Length: 331, dtype: float64"
      ]
     },
     "execution_count": 8,
     "metadata": {},
     "output_type": "execute_result"
    }
   ],
   "source": [
    "# accessing one particular columns\n",
    "pollution[\"Smoke\"]\n",
    "# pollution.iloc[5] loc and iloc also allow for data sample specifics."
   ]
  },
  {
   "cell_type": "code",
   "execution_count": 10,
   "id": "a3179872-bf04-4034-bf48-825dcc69341f",
   "metadata": {},
   "outputs": [
    {
     "data": {
      "text/plain": [
       "342.8571429"
      ]
     },
     "execution_count": 10,
     "metadata": {},
     "output_type": "execute_result"
    }
   ],
   "source": [
    "# Can check which are the unique entries into a given column/series\n",
    "pollution.City.unique()\n",
    "# can also check max min data or general with describe\n",
    "pollution[\"Smoke\"].max()"
   ]
  },
  {
   "cell_type": "markdown",
   "id": "45aac195-a886-48a1-8026-3802dfd02875",
   "metadata": {},
   "source": [
    "Let us convert the year column from an integer to datetime"
   ]
  },
  {
   "cell_type": "code",
   "execution_count": 11,
   "id": "7c02aa9b-32d0-4997-861b-38b09102c200",
   "metadata": {},
   "outputs": [
    {
     "data": {
      "text/plain": [
       "City      object\n",
       "Year       int64\n",
       "Smoke    float64\n",
       "SPM      float64\n",
       "dtype: object"
      ]
     },
     "execution_count": 11,
     "metadata": {},
     "output_type": "execute_result"
    }
   ],
   "source": [
    "pollution.dtypes"
   ]
  },
  {
   "cell_type": "code",
   "execution_count": 12,
   "id": "1c09f5a7-9fa9-497f-b872-d0e16792cab0",
   "metadata": {},
   "outputs": [],
   "source": [
    "pollution[\"Year\"] = pollution[\"Year\"].apply(lambda x: datetime.datetime.strptime(str(x), \"%Y\")) # the lambda simply takes an x to the right hand side of the colon, for all x in the column"
   ]
  },
  {
   "cell_type": "code",
   "execution_count": 13,
   "id": "d4646771-bb32-4b85-af28-74f8253ea043",
   "metadata": {},
   "outputs": [
    {
     "data": {
      "text/plain": [
       "City             object\n",
       "Year     datetime64[ns]\n",
       "Smoke           float64\n",
       "SPM             float64\n",
       "dtype: object"
      ]
     },
     "execution_count": 13,
     "metadata": {},
     "output_type": "execute_result"
    }
   ],
   "source": [
    "pollution.dtypes # dtype now changed. Note ns stands for nanosecond, which i imagine is the smallest unit one can have."
   ]
  },
  {
   "cell_type": "code",
   "execution_count": 14,
   "id": "f836529b-af3d-4f1e-8312-73c81ab098f2",
   "metadata": {},
   "outputs": [
    {
     "data": {
      "text/html": [
       "<div>\n",
       "<style scoped>\n",
       "    .dataframe tbody tr th:only-of-type {\n",
       "        vertical-align: middle;\n",
       "    }\n",
       "\n",
       "    .dataframe tbody tr th {\n",
       "        vertical-align: top;\n",
       "    }\n",
       "\n",
       "    .dataframe thead th {\n",
       "        text-align: right;\n",
       "    }\n",
       "</style>\n",
       "<table border=\"1\" class=\"dataframe\">\n",
       "  <thead>\n",
       "    <tr style=\"text-align: right;\">\n",
       "      <th></th>\n",
       "      <th>City</th>\n",
       "      <th>Year</th>\n",
       "      <th>Smoke</th>\n",
       "      <th>SPM</th>\n",
       "    </tr>\n",
       "  </thead>\n",
       "  <tbody>\n",
       "    <tr>\n",
       "      <th>0</th>\n",
       "      <td>Delhi</td>\n",
       "      <td>1997-01-01</td>\n",
       "      <td>NaN</td>\n",
       "      <td>363.0</td>\n",
       "    </tr>\n",
       "    <tr>\n",
       "      <th>1</th>\n",
       "      <td>Delhi</td>\n",
       "      <td>1998-01-01</td>\n",
       "      <td>NaN</td>\n",
       "      <td>378.0</td>\n",
       "    </tr>\n",
       "    <tr>\n",
       "      <th>2</th>\n",
       "      <td>Delhi</td>\n",
       "      <td>1999-01-01</td>\n",
       "      <td>NaN</td>\n",
       "      <td>375.0</td>\n",
       "    </tr>\n",
       "    <tr>\n",
       "      <th>3</th>\n",
       "      <td>Delhi</td>\n",
       "      <td>2000-01-01</td>\n",
       "      <td>NaN</td>\n",
       "      <td>431.0</td>\n",
       "    </tr>\n",
       "    <tr>\n",
       "      <th>4</th>\n",
       "      <td>Delhi</td>\n",
       "      <td>2001-01-01</td>\n",
       "      <td>NaN</td>\n",
       "      <td>382.0</td>\n",
       "    </tr>\n",
       "  </tbody>\n",
       "</table>\n",
       "</div>"
      ],
      "text/plain": [
       "    City       Year  Smoke    SPM\n",
       "0  Delhi 1997-01-01    NaN  363.0\n",
       "1  Delhi 1998-01-01    NaN  378.0\n",
       "2  Delhi 1999-01-01    NaN  375.0\n",
       "3  Delhi 2000-01-01    NaN  431.0\n",
       "4  Delhi 2001-01-01    NaN  382.0"
      ]
     },
     "execution_count": 14,
     "metadata": {},
     "output_type": "execute_result"
    }
   ],
   "source": [
    "pollution.head()"
   ]
  },
  {
   "cell_type": "markdown",
   "id": "15ccdf8f-b2b3-4ea4-b0c5-e24e032156de",
   "metadata": {},
   "source": [
    "Continuing with the preprocessing we see that numerous entries have NaN (not a number) and so we can check this with is null. To get an overall view of how many entries are missing we can call `.mean`"
   ]
  },
  {
   "cell_type": "code",
   "execution_count": 15,
   "id": "813ff438-9f64-488d-81ae-58fc9fbf4182",
   "metadata": {},
   "outputs": [
    {
     "data": {
      "text/plain": [
       "City     0.000000\n",
       "Year     0.000000\n",
       "Smoke    0.090634\n",
       "SPM      0.000000\n",
       "dtype: float64"
      ]
     },
     "execution_count": 15,
     "metadata": {},
     "output_type": "execute_result"
    }
   ],
   "source": [
    "pollution.isnull().mean()"
   ]
  },
  {
   "cell_type": "code",
   "execution_count": 16,
   "id": "17173324-8efb-42a7-9cdc-0e233d70b6a2",
   "metadata": {},
   "outputs": [
    {
     "data": {
      "text/plain": [
       "0            NaN\n",
       "1            NaN\n",
       "2            NaN\n",
       "3            NaN\n",
       "4            NaN\n",
       "5            NaN\n",
       "6            NaN\n",
       "7            NaN\n",
       "8            NaN\n",
       "9            NaN\n",
       "10           NaN\n",
       "11           NaN\n",
       "12           NaN\n",
       "13           NaN\n",
       "14    142.857143\n",
       "15    144.285714\n",
       "16    145.714286\n",
       "17    147.142857\n",
       "18    148.571429\n",
       "19    150.000000\n",
       "20    151.428571\n",
       "21    152.857143\n",
       "22    154.285714\n",
       "23    155.714286\n",
       "24    157.142857\n",
       "25    158.571429\n",
       "26    160.000000\n",
       "27    161.428571\n",
       "28    162.857143\n",
       "29    164.285714\n",
       "Name: Smoke, dtype: float64"
      ]
     },
     "execution_count": 16,
     "metadata": {},
     "output_type": "execute_result"
    }
   ],
   "source": [
    "pollution[\"Smoke\"][0:30]"
   ]
  },
  {
   "cell_type": "code",
   "execution_count": 17,
   "id": "029cab4c-c101-4aec-8fb1-69d663f6d463",
   "metadata": {},
   "outputs": [
    {
     "data": {
      "text/html": [
       "<div>\n",
       "<style scoped>\n",
       "    .dataframe tbody tr th:only-of-type {\n",
       "        vertical-align: middle;\n",
       "    }\n",
       "\n",
       "    .dataframe tbody tr th {\n",
       "        vertical-align: top;\n",
       "    }\n",
       "\n",
       "    .dataframe thead th {\n",
       "        text-align: right;\n",
       "    }\n",
       "</style>\n",
       "<table border=\"1\" class=\"dataframe\">\n",
       "  <thead>\n",
       "    <tr style=\"text-align: right;\">\n",
       "      <th></th>\n",
       "      <th>Year</th>\n",
       "      <th>Smoke</th>\n",
       "      <th>SPM</th>\n",
       "    </tr>\n",
       "  </thead>\n",
       "  <tbody>\n",
       "    <tr>\n",
       "      <th>count</th>\n",
       "      <td>331</td>\n",
       "      <td>301.000000</td>\n",
       "      <td>331.000000</td>\n",
       "    </tr>\n",
       "    <tr>\n",
       "      <th>mean</th>\n",
       "      <td>1864-02-26 13:37:53.111782400</td>\n",
       "      <td>210.296440</td>\n",
       "      <td>365.970050</td>\n",
       "    </tr>\n",
       "    <tr>\n",
       "      <th>min</th>\n",
       "      <td>1700-01-01 00:00:00</td>\n",
       "      <td>13.750000</td>\n",
       "      <td>15.000000</td>\n",
       "    </tr>\n",
       "    <tr>\n",
       "      <th>25%</th>\n",
       "      <td>1782-07-02 12:00:00</td>\n",
       "      <td>168.571429</td>\n",
       "      <td>288.474026</td>\n",
       "    </tr>\n",
       "    <tr>\n",
       "      <th>50%</th>\n",
       "      <td>1865-01-01 00:00:00</td>\n",
       "      <td>208.214286</td>\n",
       "      <td>375.324675</td>\n",
       "    </tr>\n",
       "    <tr>\n",
       "      <th>75%</th>\n",
       "      <td>1947-07-02 12:00:00</td>\n",
       "      <td>291.818182</td>\n",
       "      <td>512.609209</td>\n",
       "    </tr>\n",
       "    <tr>\n",
       "      <th>max</th>\n",
       "      <td>2016-01-01 00:00:00</td>\n",
       "      <td>342.857143</td>\n",
       "      <td>623.376623</td>\n",
       "    </tr>\n",
       "    <tr>\n",
       "      <th>std</th>\n",
       "      <td>NaN</td>\n",
       "      <td>88.543288</td>\n",
       "      <td>172.512674</td>\n",
       "    </tr>\n",
       "  </tbody>\n",
       "</table>\n",
       "</div>"
      ],
      "text/plain": [
       "                                Year       Smoke         SPM\n",
       "count                            331  301.000000  331.000000\n",
       "mean   1864-02-26 13:37:53.111782400  210.296440  365.970050\n",
       "min              1700-01-01 00:00:00   13.750000   15.000000\n",
       "25%              1782-07-02 12:00:00  168.571429  288.474026\n",
       "50%              1865-01-01 00:00:00  208.214286  375.324675\n",
       "75%              1947-07-02 12:00:00  291.818182  512.609209\n",
       "max              2016-01-01 00:00:00  342.857143  623.376623\n",
       "std                              NaN   88.543288  172.512674"
      ]
     },
     "execution_count": 17,
     "metadata": {},
     "output_type": "execute_result"
    }
   ],
   "source": [
    "pollution.describe() # Note in describe, it provides a count, which automatically discards the NaN values."
   ]
  },
  {
   "cell_type": "markdown",
   "id": "e8804003-1bc1-4298-ba83-4e7b059be980",
   "metadata": {},
   "source": [
    "Let us inspect the data with a histogram. Here we plot the SPM variable, by defining a number of bins first (simply defined by a set range of values in the SPM space) and then counting the number of data points which fall into those ranges."
   ]
  },
  {
   "cell_type": "code",
   "execution_count": 18,
   "id": "57053967-7dbf-45d1-8209-cd2d3e999ad3",
   "metadata": {},
   "outputs": [
    {
     "data": {
      "text/plain": [
       "Text(0, 0.5, 'Frequency')"
      ]
     },
     "execution_count": 18,
     "metadata": {},
     "output_type": "execute_result"
    },
    {
     "data": {
      "image/png": "[encoded data removed]",
      "text/plain": [
       "<Figure size 640x480 with 1 Axes>"
      ]
     },
     "metadata": {},
     "output_type": "display_data"
    }
   ],
   "source": [
    "n, bins, patches = plt.hist(\n",
    "    x=pollution['SPM'], bins='auto',\n",
    "    alpha=0.7, rwidth=0.85\n",
    ")\n",
    "plt.grid(axis='y', alpha=0.75)\n",
    "plt.xlabel('SPM')\n",
    "plt.ylabel('Frequency')"
   ]
  },
  {
   "cell_type": "markdown",
   "id": "cb0e7cf7-b161-4bec-a503-4f9afab2725f",
   "metadata": {},
   "source": [
    "Histograms can be useful if you have continuous measurements and want to understand the distribution of data. It can also indicate outliers."
   ]
  },
  {
   "cell_type": "markdown",
   "id": "bdfc6b63-96f6-4e3b-88b9-d812b974a862",
   "metadata": {},
   "source": [
    "### Uncovering relationships between variables"
   ]
  },
  {
   "cell_type": "markdown",
   "id": "ebd769cc-650b-4ad3-a572-563c582be255",
   "metadata": {},
   "source": [
    "Multi-variate datesets mean we should explore the relationship between variables. This gives an idea of correlation and avoids feature leakage and collinearity."
   ]
  },
  {
   "cell_type": "markdown",
   "id": "74d6ed45-0fdd-48e2-aecd-cf575c6f9387",
   "metadata": {},
   "source": [
    "**Feature leakage** is when a variable unintentionally gives away the target. For example, the variable named amount_paid would give away the label has_paid."
   ]
  },
  {
   "cell_type": "markdown",
   "id": "8c543020-f388-4e3b-a445-0fdd6ba92f0c",
   "metadata": {},
   "source": [
    "**Collinearity** means that independent variables (features) are correlated. If two variables/features are correlated we should either remove one or combine them using dimensional reduction such as PCA."
   ]
  },
  {
   "cell_type": "markdown",
   "id": "39c2cc05-0778-4997-afa0-9e9c6a7742dc",
   "metadata": {},
   "source": [
    "**Pearson correlation coefficient** - Determines correlation. Positive correlation means one variable increases as the other does. Its range is from -1 to 1 and formulae can be found in text. We can implement this in Python using the following code. Close to 1 means strong positive linear correlation, close to -1 means strong negative correlation, close to 0 means little correlation. Importantly, the PCC struggles with cases that are not linear."
   ]
  },
  {
   "cell_type": "code",
   "execution_count": 19,
   "id": "645549e7-ff8c-4a90-91ca-a471e0f6eeda",
   "metadata": {},
   "outputs": [
    {
     "data": {
      "text/plain": [
       "PearsonRResult(statistic=0.9999999999999999, pvalue=0.0)"
      ]
     },
     "execution_count": 19,
     "metadata": {},
     "output_type": "execute_result"
    }
   ],
   "source": [
    "from scipy import stats\n",
    "def ignore_nans(a, b):\n",
    "    index = ~a.isnull() & ~b.isnull()\n",
    "    return a[index], b[index]\n",
    "\n",
    "stats.pearsonr(*ignore_nans(pollution['Smoke'], pollution['SPM']))"
   ]
  },
  {
   "cell_type": "code",
   "execution_count": 20,
   "id": "d8967f15-b49c-493e-a62d-81ec72a91591",
   "metadata": {},
   "outputs": [
    {
     "data": {
      "text/plain": [
       "PearsonRResult(statistic=0.9999999999999999, pvalue=0.0)"
      ]
     },
     "execution_count": 20,
     "metadata": {},
     "output_type": "execute_result"
    }
   ],
   "source": [
    "stats.pearsonr(*ignore_nans(pollution['Smoke'], pollution['SPM']))"
   ]
  },
  {
   "cell_type": "markdown",
   "id": "b7c336a2-cd1a-471f-9065-e114bb35a375",
   "metadata": {},
   "source": [
    "Later we will get a plot of the Year vs SPM for both cities. London, with more data, clearly had two distinct trends: positive up to 1880, negative afterwards. This is confirmed by slicing the pearson rank data."
   ]
  },
  {
   "cell_type": "code",
   "execution_count": 25,
   "id": "af0a24fb-4593-4454-ad54-012b0652b28c",
   "metadata": {},
   "outputs": [],
   "source": [
    "#stats.pearsonr(*ignore_nans(pollution['Year'][150:], pollution['SPM'][150:]))"
   ]
  },
  {
   "cell_type": "markdown",
   "id": "d9f6c2fe-4aff-46a4-97b0-dc0b7051943f",
   "metadata": {},
   "source": [
    "We can introduce basic scatter plots to compare numeric values. Given sometimes this is hard to read as clusters of points are close together, by introducing the histograms on the side, we can get a measure of the density of points in each area. These histograms are called marginal histograms: they sit on the margin of the plot."
   ]
  },
  {
   "cell_type": "code",
   "execution_count": 26,
   "id": "cb1eb4d2-2be7-44d2-b071-41a4d1b8551e",
   "metadata": {},
   "outputs": [],
   "source": [
    "import seaborn as sns"
   ]
  },
  {
   "cell_type": "code",
   "execution_count": 27,
   "id": "4fcbd633-4678-4408-b8bd-b6ef546288eb",
   "metadata": {},
   "outputs": [
    {
     "data": {
      "text/plain": [
       "<Figure size 1200x600 with 0 Axes>"
      ]
     },
     "metadata": {},
     "output_type": "display_data"
    },
    {
     "data": {
      "image/png": "[encoded data removed]",
      "text/plain": [
       "<Figure size 600x600 with 3 Axes>"
      ]
     },
     "metadata": {},
     "output_type": "display_data"
    }
   ],
   "source": [
    "plt.figure(figsize=(12, 6))\n",
    "sns.jointplot(\n",
    "    x=\"Smoke\", y=\"SPM\",\n",
    "    edgecolor=\"white\",\n",
    "    data=pollution\n",
    ")\n",
    "plt.xlabel(\"Smoke\")\n",
    "plt.ylabel(\"SPM\");"
   ]
  },
  {
   "cell_type": "markdown",
   "id": "e076219c-0f3f-459f-b902-68efa7eba12f",
   "metadata": {},
   "source": [
    "Can also do something similar with a pair plot"
   ]
  },
  {
   "cell_type": "code",
   "execution_count": 29,
   "id": "79f0c103-c64e-4723-bbd6-306adfa66f08",
   "metadata": {},
   "outputs": [
    {
     "name": "stderr",
     "output_type": "stream",
     "text": [
      "C:\\Users\\Lewis Sword\\miniconda3\\envs\\pml3\\lib\\site-packages\\seaborn\\axisgrid.py:123: UserWarning: The figure layout has changed to tight\n",
      "  self._figure.tight_layout(*args, **kwargs)\n"
     ]
    },
    {
     "data": {
      "text/plain": [
       "<seaborn.axisgrid.PairGrid at 0x258d138b2e0>"
      ]
     },
     "execution_count": 29,
     "metadata": {},
     "output_type": "execute_result"
    },
    {
     "data": {
      "text/plain": [
       "<Figure size 1200x600 with 0 Axes>"
      ]
     },
     "metadata": {},
     "output_type": "display_data"
    },
    {
     "data": {
      "image/png": "[encoded data removed]",
      "text/plain": [
       "<Figure size 500x500 with 6 Axes>"
      ]
     },
     "metadata": {},
     "output_type": "display_data"
    }
   ],
   "source": [
    "plt.figure(figsize=(12, 6))\n",
    "sns.pairplot(pollution[[\"SPM\",\"Smoke\"]]\n",
    ")"
   ]
  },
  {
   "cell_type": "code",
   "execution_count": 30,
   "id": "7f54f812-8c01-42a5-9ebe-d9f078f017d8",
   "metadata": {},
   "outputs": [],
   "source": [
    "#?pollution.pivot"
   ]
  },
  {
   "cell_type": "markdown",
   "id": "fca59dcc-cf55-451b-8b33-47965a079b64",
   "metadata": {},
   "source": [
    "The extreme similarity between these variables means they are linear/identical as was determined by the PCC calculation."
   ]
  },
  {
   "cell_type": "code",
   "execution_count": 49,
   "id": "c0f728e5-9282-4a71-b51d-bdf4ff69f43c",
   "metadata": {},
   "outputs": [
    {
     "ename": "KeyError",
     "evalue": "'Year'",
     "output_type": "error",
     "traceback": [
      "\u001b[1;31m---------------------------------------------------------------------------\u001b[0m",
      "\u001b[1;31mKeyError\u001b[0m                                  Traceback (most recent call last)",
      "File \u001b[1;32m~\\miniconda3\\envs\\pml3\\lib\\site-packages\\pandas\\core\\indexes\\base.py:3653\u001b[0m, in \u001b[0;36mIndex.get_loc\u001b[1;34m(self, key)\u001b[0m\n\u001b[0;32m   3652\u001b[0m \u001b[38;5;28;01mtry\u001b[39;00m:\n\u001b[1;32m-> 3653\u001b[0m     \u001b[38;5;28;01mreturn\u001b[39;00m \u001b[38;5;28;43mself\u001b[39;49m\u001b[38;5;241;43m.\u001b[39;49m\u001b[43m_engine\u001b[49m\u001b[38;5;241;43m.\u001b[39;49m\u001b[43mget_loc\u001b[49m\u001b[43m(\u001b[49m\u001b[43mcasted_key\u001b[49m\u001b[43m)\u001b[49m\n\u001b[0;32m   3654\u001b[0m \u001b[38;5;28;01mexcept\u001b[39;00m \u001b[38;5;167;01mKeyError\u001b[39;00m \u001b[38;5;28;01mas\u001b[39;00m err:\n",
      "File \u001b[1;32m~\\miniconda3\\envs\\pml3\\lib\\site-packages\\pandas\\_libs\\index.pyx:147\u001b[0m, in \u001b[0;36mpandas._libs.index.IndexEngine.get_loc\u001b[1;34m()\u001b[0m\n",
      "File \u001b[1;32m~\\miniconda3\\envs\\pml3\\lib\\site-packages\\pandas\\_libs\\index.pyx:176\u001b[0m, in \u001b[0;36mpandas._libs.index.IndexEngine.get_loc\u001b[1;34m()\u001b[0m\n",
      "File \u001b[1;32mpandas\\_libs\\hashtable_class_helper.pxi:7080\u001b[0m, in \u001b[0;36mpandas._libs.hashtable.PyObjectHashTable.get_item\u001b[1;34m()\u001b[0m\n",
      "File \u001b[1;32mpandas\\_libs\\hashtable_class_helper.pxi:7088\u001b[0m, in \u001b[0;36mpandas._libs.hashtable.PyObjectHashTable.get_item\u001b[1;34m()\u001b[0m\n",
      "\u001b[1;31mKeyError\u001b[0m: 'Year'",
      "\nThe above exception was the direct cause of the following exception:\n",
      "\u001b[1;31mKeyError\u001b[0m                                  Traceback (most recent call last)",
      "Cell \u001b[1;32mIn[49], line 1\u001b[0m\n\u001b[1;32m----> 1\u001b[0m pollution \u001b[38;5;241m=\u001b[39m \u001b[43mpollution\u001b[49m\u001b[38;5;241;43m.\u001b[39;49m\u001b[43mpivot\u001b[49m\u001b[43m(\u001b[49m\u001b[43mindex\u001b[49m\u001b[38;5;241;43m=\u001b[39;49m\u001b[38;5;124;43m\"\u001b[39;49m\u001b[38;5;124;43mYear\u001b[39;49m\u001b[38;5;124;43m\"\u001b[39;49m\u001b[43m,\u001b[49m\u001b[43m \u001b[49m\u001b[43mcolumns\u001b[49m\u001b[38;5;241;43m=\u001b[39;49m\u001b[38;5;124;43m\"\u001b[39;49m\u001b[38;5;124;43mCity\u001b[39;49m\u001b[38;5;124;43m\"\u001b[39;49m\u001b[43m,\u001b[49m\u001b[43m \u001b[49m\u001b[43mvalues\u001b[49m\u001b[38;5;241;43m=\u001b[39;49m\u001b[38;5;124;43m\"\u001b[39;49m\u001b[38;5;124;43mSPM\u001b[39;49m\u001b[38;5;124;43m\"\u001b[39;49m\u001b[43m)\u001b[49m \u001b[38;5;66;03m# Need to specify the variables in the argument\u001b[39;00m\n\u001b[0;32m      2\u001b[0m \u001b[38;5;66;03m#print(pollution.head())\u001b[39;00m\n\u001b[0;32m      3\u001b[0m plt\u001b[38;5;241m.\u001b[39mfigure(figsize\u001b[38;5;241m=\u001b[39m(\u001b[38;5;241m12\u001b[39m, \u001b[38;5;241m6\u001b[39m))\n",
      "File \u001b[1;32m~\\miniconda3\\envs\\pml3\\lib\\site-packages\\pandas\\core\\frame.py:8414\u001b[0m, in \u001b[0;36mDataFrame.pivot\u001b[1;34m(self, columns, index, values)\u001b[0m\n\u001b[0;32m   8409\u001b[0m \u001b[38;5;129m@Substitution\u001b[39m(\u001b[38;5;124m\"\u001b[39m\u001b[38;5;124m\"\u001b[39m)\n\u001b[0;32m   8410\u001b[0m \u001b[38;5;129m@Appender\u001b[39m(_shared_docs[\u001b[38;5;124m\"\u001b[39m\u001b[38;5;124mpivot\u001b[39m\u001b[38;5;124m\"\u001b[39m])\n\u001b[0;32m   8411\u001b[0m \u001b[38;5;28;01mdef\u001b[39;00m \u001b[38;5;21mpivot\u001b[39m(\u001b[38;5;28mself\u001b[39m, \u001b[38;5;241m*\u001b[39m, columns, index\u001b[38;5;241m=\u001b[39mlib\u001b[38;5;241m.\u001b[39mNoDefault, values\u001b[38;5;241m=\u001b[39mlib\u001b[38;5;241m.\u001b[39mNoDefault) \u001b[38;5;241m-\u001b[39m\u001b[38;5;241m>\u001b[39m DataFrame:\n\u001b[0;32m   8412\u001b[0m     \u001b[38;5;28;01mfrom\u001b[39;00m \u001b[38;5;21;01mpandas\u001b[39;00m\u001b[38;5;21;01m.\u001b[39;00m\u001b[38;5;21;01mcore\u001b[39;00m\u001b[38;5;21;01m.\u001b[39;00m\u001b[38;5;21;01mreshape\u001b[39;00m\u001b[38;5;21;01m.\u001b[39;00m\u001b[38;5;21;01mpivot\u001b[39;00m \u001b[38;5;28;01mimport\u001b[39;00m pivot\n\u001b[1;32m-> 8414\u001b[0m     \u001b[38;5;28;01mreturn\u001b[39;00m \u001b[43mpivot\u001b[49m\u001b[43m(\u001b[49m\u001b[38;5;28;43mself\u001b[39;49m\u001b[43m,\u001b[49m\u001b[43m \u001b[49m\u001b[43mindex\u001b[49m\u001b[38;5;241;43m=\u001b[39;49m\u001b[43mindex\u001b[49m\u001b[43m,\u001b[49m\u001b[43m \u001b[49m\u001b[43mcolumns\u001b[49m\u001b[38;5;241;43m=\u001b[39;49m\u001b[43mcolumns\u001b[49m\u001b[43m,\u001b[49m\u001b[43m \u001b[49m\u001b[43mvalues\u001b[49m\u001b[38;5;241;43m=\u001b[39;49m\u001b[43mvalues\u001b[49m\u001b[43m)\u001b[49m\n",
      "File \u001b[1;32m~\\miniconda3\\envs\\pml3\\lib\\site-packages\\pandas\\core\\reshape\\pivot.py:540\u001b[0m, in \u001b[0;36mpivot\u001b[1;34m(data, columns, index, values)\u001b[0m\n\u001b[0;32m    538\u001b[0m         index_list \u001b[38;5;241m=\u001b[39m [Series(data\u001b[38;5;241m.\u001b[39mindex, name\u001b[38;5;241m=\u001b[39mdata\u001b[38;5;241m.\u001b[39mindex\u001b[38;5;241m.\u001b[39mname)]\n\u001b[0;32m    539\u001b[0m \u001b[38;5;28;01melse\u001b[39;00m:\n\u001b[1;32m--> 540\u001b[0m     index_list \u001b[38;5;241m=\u001b[39m [data[idx] \u001b[38;5;28;01mfor\u001b[39;00m idx \u001b[38;5;129;01min\u001b[39;00m com\u001b[38;5;241m.\u001b[39mconvert_to_list_like(index)]\n\u001b[0;32m    542\u001b[0m data_columns \u001b[38;5;241m=\u001b[39m [data[col] \u001b[38;5;28;01mfor\u001b[39;00m col \u001b[38;5;129;01min\u001b[39;00m columns_listlike]\n\u001b[0;32m    543\u001b[0m index_list\u001b[38;5;241m.\u001b[39mextend(data_columns)\n",
      "File \u001b[1;32m~\\miniconda3\\envs\\pml3\\lib\\site-packages\\pandas\\core\\reshape\\pivot.py:540\u001b[0m, in \u001b[0;36m<listcomp>\u001b[1;34m(.0)\u001b[0m\n\u001b[0;32m    538\u001b[0m         index_list \u001b[38;5;241m=\u001b[39m [Series(data\u001b[38;5;241m.\u001b[39mindex, name\u001b[38;5;241m=\u001b[39mdata\u001b[38;5;241m.\u001b[39mindex\u001b[38;5;241m.\u001b[39mname)]\n\u001b[0;32m    539\u001b[0m \u001b[38;5;28;01melse\u001b[39;00m:\n\u001b[1;32m--> 540\u001b[0m     index_list \u001b[38;5;241m=\u001b[39m [\u001b[43mdata\u001b[49m\u001b[43m[\u001b[49m\u001b[43midx\u001b[49m\u001b[43m]\u001b[49m \u001b[38;5;28;01mfor\u001b[39;00m idx \u001b[38;5;129;01min\u001b[39;00m com\u001b[38;5;241m.\u001b[39mconvert_to_list_like(index)]\n\u001b[0;32m    542\u001b[0m data_columns \u001b[38;5;241m=\u001b[39m [data[col] \u001b[38;5;28;01mfor\u001b[39;00m col \u001b[38;5;129;01min\u001b[39;00m columns_listlike]\n\u001b[0;32m    543\u001b[0m index_list\u001b[38;5;241m.\u001b[39mextend(data_columns)\n",
      "File \u001b[1;32m~\\miniconda3\\envs\\pml3\\lib\\site-packages\\pandas\\core\\frame.py:3761\u001b[0m, in \u001b[0;36mDataFrame.__getitem__\u001b[1;34m(self, key)\u001b[0m\n\u001b[0;32m   3759\u001b[0m \u001b[38;5;28;01mif\u001b[39;00m \u001b[38;5;28mself\u001b[39m\u001b[38;5;241m.\u001b[39mcolumns\u001b[38;5;241m.\u001b[39mnlevels \u001b[38;5;241m>\u001b[39m \u001b[38;5;241m1\u001b[39m:\n\u001b[0;32m   3760\u001b[0m     \u001b[38;5;28;01mreturn\u001b[39;00m \u001b[38;5;28mself\u001b[39m\u001b[38;5;241m.\u001b[39m_getitem_multilevel(key)\n\u001b[1;32m-> 3761\u001b[0m indexer \u001b[38;5;241m=\u001b[39m \u001b[38;5;28;43mself\u001b[39;49m\u001b[38;5;241;43m.\u001b[39;49m\u001b[43mcolumns\u001b[49m\u001b[38;5;241;43m.\u001b[39;49m\u001b[43mget_loc\u001b[49m\u001b[43m(\u001b[49m\u001b[43mkey\u001b[49m\u001b[43m)\u001b[49m\n\u001b[0;32m   3762\u001b[0m \u001b[38;5;28;01mif\u001b[39;00m is_integer(indexer):\n\u001b[0;32m   3763\u001b[0m     indexer \u001b[38;5;241m=\u001b[39m [indexer]\n",
      "File \u001b[1;32m~\\miniconda3\\envs\\pml3\\lib\\site-packages\\pandas\\core\\indexes\\base.py:3655\u001b[0m, in \u001b[0;36mIndex.get_loc\u001b[1;34m(self, key)\u001b[0m\n\u001b[0;32m   3653\u001b[0m     \u001b[38;5;28;01mreturn\u001b[39;00m \u001b[38;5;28mself\u001b[39m\u001b[38;5;241m.\u001b[39m_engine\u001b[38;5;241m.\u001b[39mget_loc(casted_key)\n\u001b[0;32m   3654\u001b[0m \u001b[38;5;28;01mexcept\u001b[39;00m \u001b[38;5;167;01mKeyError\u001b[39;00m \u001b[38;5;28;01mas\u001b[39;00m err:\n\u001b[1;32m-> 3655\u001b[0m     \u001b[38;5;28;01mraise\u001b[39;00m \u001b[38;5;167;01mKeyError\u001b[39;00m(key) \u001b[38;5;28;01mfrom\u001b[39;00m \u001b[38;5;21;01merr\u001b[39;00m\n\u001b[0;32m   3656\u001b[0m \u001b[38;5;28;01mexcept\u001b[39;00m \u001b[38;5;167;01mTypeError\u001b[39;00m:\n\u001b[0;32m   3657\u001b[0m     \u001b[38;5;66;03m# If we have a listlike key, _check_indexing_error will raise\u001b[39;00m\n\u001b[0;32m   3658\u001b[0m     \u001b[38;5;66;03m#  InvalidIndexError. Otherwise we fall through and re-raise\u001b[39;00m\n\u001b[0;32m   3659\u001b[0m     \u001b[38;5;66;03m#  the TypeError.\u001b[39;00m\n\u001b[0;32m   3660\u001b[0m     \u001b[38;5;28mself\u001b[39m\u001b[38;5;241m.\u001b[39m_check_indexing_error(key)\n",
      "\u001b[1;31mKeyError\u001b[0m: 'Year'"
     ]
    }
   ],
   "source": [
    "pollution = pollution.pivot(index=\"Year\", columns=\"City\", values=\"SPM\") # Need to specify the variables in the argument\n",
    "#print(pollution.head())\n",
    "plt.figure(figsize=(12, 6))\n",
    "sns.lineplot(data=pollution)\n",
    "plt.ylabel('SPM')"
   ]
  },
  {
   "cell_type": "markdown",
   "id": "0123645b-64c4-43f1-8b4c-31d20a38279a",
   "metadata": {},
   "source": [
    "**Spearman rank correlation** can handle outliers and non-linear relationships much better than PCC. SRC is PCC but applied on *ranks* of a variables values, not the values themselves. "
   ]
  },
  {
   "cell_type": "markdown",
   "id": "c831e24a-2819-4116-bd59-3f05a95ce0de",
   "metadata": {},
   "source": [
    "### Identifying trend and seasonality"
   ]
  },
  {
   "cell_type": "markdown",
   "id": "617c3994-6e2c-4921-8257-5d13723d3d3c",
   "metadata": {},
   "source": [
    "- Trend - long term change in a time sequence.\n",
    "- Seasonality - variation that occurs at specific regular intervals of less than a year.\n",
    "- Cyclic variations - rises and falls that are not of fixed frequency. Crashes in markets, new product launches etc.\n",
    "- Stationarity - The processes that produce the time-series do not change with time. Many models assume this.\n",
    "- Time series should be decomposed into first main signal, then seasonal and trend components."
   ]
  },
  {
   "cell_type": "code",
   "execution_count": 32,
   "id": "098ad314-67c2-478c-9291-fca012e64def",
   "metadata": {},
   "outputs": [],
   "source": [
    "import numpy as np"
   ]
  },
  {
   "cell_type": "code",
   "execution_count": 33,
   "id": "8eed6223-e57e-4a50-9bb9-99806a7cac60",
   "metadata": {},
   "outputs": [],
   "source": [
    "temperatures = pd.read_csv(\"C:\\\\Users\\\\Lewis Sword\\\\gitTest\\\\time_series\\\\monthly.csv\")\n",
    "temperatures['Date'] = pd.to_datetime(temperatures['Date'])\n",
    "temperatures = temperatures.pivot(index='Date', columns='Source', values='Mean') # update pivot like previous pollution.pivot(index=\"Year\", columns=\"City\", values=\"SPM\")"
   ]
  },
  {
   "cell_type": "code",
   "execution_count": 34,
   "id": "8c250d9c-c8bc-49c4-8173-0d52c3649175",
   "metadata": {},
   "outputs": [
    {
     "data": {
      "text/html": [
       "<div>\n",
       "<style scoped>\n",
       "    .dataframe tbody tr th:only-of-type {\n",
       "        vertical-align: middle;\n",
       "    }\n",
       "\n",
       "    .dataframe tbody tr th {\n",
       "        vertical-align: top;\n",
       "    }\n",
       "\n",
       "    .dataframe thead th {\n",
       "        text-align: right;\n",
       "    }\n",
       "</style>\n",
       "<table border=\"1\" class=\"dataframe\">\n",
       "  <thead>\n",
       "    <tr style=\"text-align: right;\">\n",
       "      <th>Source</th>\n",
       "      <th>GCAG</th>\n",
       "      <th>GISTEMP</th>\n",
       "    </tr>\n",
       "    <tr>\n",
       "      <th>Date</th>\n",
       "      <th></th>\n",
       "      <th></th>\n",
       "    </tr>\n",
       "  </thead>\n",
       "  <tbody>\n",
       "    <tr>\n",
       "      <th>1880-01-01</th>\n",
       "      <td>0.0009</td>\n",
       "      <td>-0.30</td>\n",
       "    </tr>\n",
       "    <tr>\n",
       "      <th>1880-02-01</th>\n",
       "      <td>-0.1229</td>\n",
       "      <td>-0.21</td>\n",
       "    </tr>\n",
       "    <tr>\n",
       "      <th>1880-03-01</th>\n",
       "      <td>-0.1357</td>\n",
       "      <td>-0.18</td>\n",
       "    </tr>\n",
       "    <tr>\n",
       "      <th>1880-04-01</th>\n",
       "      <td>-0.0499</td>\n",
       "      <td>-0.27</td>\n",
       "    </tr>\n",
       "    <tr>\n",
       "      <th>1880-05-01</th>\n",
       "      <td>-0.0738</td>\n",
       "      <td>-0.14</td>\n",
       "    </tr>\n",
       "  </tbody>\n",
       "</table>\n",
       "</div>"
      ],
      "text/plain": [
       "Source        GCAG  GISTEMP\n",
       "Date                       \n",
       "1880-01-01  0.0009    -0.30\n",
       "1880-02-01 -0.1229    -0.21\n",
       "1880-03-01 -0.1357    -0.18\n",
       "1880-04-01 -0.0499    -0.27\n",
       "1880-05-01 -0.0738    -0.14"
      ]
     },
     "execution_count": 34,
     "metadata": {},
     "output_type": "execute_result"
    }
   ],
   "source": [
    "temperatures.head()"
   ]
  },
  {
   "cell_type": "code",
   "execution_count": 35,
   "id": "2ae29cda-f1b5-4ab1-a7dc-938c6bd2e1d6",
   "metadata": {},
   "outputs": [],
   "source": [
    "from numpy import polyfit\n",
    "def fit(X, y, degree=3):\n",
    "    \"\"\"Takes input data X and fits it up to degree, to known/target data y\"\"\"\n",
    "    coef = polyfit(X, y, degree)\n",
    "    trendpoly = np.poly1d(coef)\n",
    "    return trendpoly(X)\n",
    "\n",
    "\n",
    "def get_trend(s, degree=3):\n",
    "    \"\"\"Applies the fit function to the number of time samples we have, based on the target feature values. \"\"\"\n",
    "    X = list(range(len(s)))\n",
    "    trend = fit(X, s.values, degree)\n",
    "    return pd.Series(data=trend, index=s.index)\n",
    "\n",
    "\n",
    "def get_season(s, yearly_periods=4, degree=3):\n",
    "    \"\"\"X is a list which spans over full length of time intervals. 365/4 is the number of days in a season and the % is modulus hence, when i reaches 365/4, it becomes 0 again. This repeating\n",
    "    is starting new seasons. So the X data is groups of 365/4 days, and each of these groups is fitted to the corresponding signal value.\"\"\"\n",
    "    X = [i%(365/4) for i in range(0, len(s))]\n",
    "    seasonal = fit(X, s.values, degree)\n",
    "    return pd.Series(data=seasonal, index=s.index)"
   ]
  },
  {
   "cell_type": "code",
   "execution_count": 36,
   "id": "51814477-64d2-4233-a2b0-7cf3bf5ff243",
   "metadata": {},
   "outputs": [
    {
     "data": {
      "text/plain": [
       "0"
      ]
     },
     "execution_count": 36,
     "metadata": {},
     "output_type": "execute_result"
    }
   ],
   "source": [
    "[i%(365/4) for i in range(0, 300)]\n",
    "10%10"
   ]
  },
  {
   "cell_type": "code",
   "execution_count": 37,
   "id": "32791808-85e7-4c2e-90bd-8a01d6b326f0",
   "metadata": {},
   "outputs": [
    {
     "data": {
      "image/png": "[encoded data removed]",
      "text/plain": [
       "<Figure size 1200x600 with 1 Axes>"
      ]
     },
     "metadata": {},
     "output_type": "display_data"
    }
   ],
   "source": [
    "import seaborn as sns\n",
    "deg = 3 # Choosing a deg = 1 only captures very weakly the actual trend in the data. 3 on the otherhand is much more natural.\n",
    "plt.figure(figsize=(12, 6))\n",
    "temperatures['trend'] = get_trend(temperatures['GCAG'],deg)\n",
    "temperatures['season'] = get_season(temperatures['GCAG'] - temperatures['trend'],deg) # why do we stubtract the trend to get the seasonal compoents? Because we want to make the time-series stationary\n",
    "# because we assume this in the simple model we use. Many models assume stationarity, which means if there is an overall trend (meaning the time-series is not stationary) we should first remove it.\n",
    "sns.lineplot(data=temperatures[['GCAG', 'season', 'trend']])\n",
    "plt.ylabel('Temperature change');"
   ]
  },
  {
   "cell_type": "markdown",
   "id": "0bf7a349-e01a-4b98-b8d3-60fd111c6e85",
   "metadata": {},
   "source": [
    "Removing trend and seasonality from a time series before forecasting is a common practice because it helps in making the underlying patterns and relationships more apparent and predictable. When a time series exhibits trend and seasonality, it can make it harder to identify and model the underlying patterns and relationships. By removing trend and seasonality through techniques like differencing or decomposition, we can make the series stationary, which simplifies the forecasting process and allows for more accurate modeling.\r\n",
    "\r\n",
    "However, it's important to note that once the trend and seasonality have been removed and the series has been made stationary, it's still important to incorporate them into the forecasting model. This can be done through the use of techniques such as ARIMA (AutoRegressive Integrated Moving Average) or seasonal decomposition of time series (STL), which can capture the trend and seasonality while still allowing for accurate forecasting.\r\n",
    "\r\n",
    "In summary, while removing trend and seasonality helps in making the series more amenable to forecasting, it's crucial to incorporate these patterns into the forecasting model to ensure that the resulting forecasts are reflective of the true underlying patterns in the data."
   ]
  },
  {
   "cell_type": "markdown",
   "id": "59e919c1-b4c2-4331-8e2b-f815c1e78078",
   "metadata": {},
   "source": [
    "Mathematically, to be stationary, one must have constant parameters. Including mean, variance and autocovariance. These may ensure the distribution does not change over time. When we subtract out trend (and potentially seasonality) the result should at least be more stationary."
   ]
  },
  {
   "cell_type": "markdown",
   "id": "fad7ae4a-026a-4f02-b9cd-cd598401ebb7",
   "metadata": {},
   "source": [
    "### Autocorrelation"
   ]
  },
  {
   "cell_type": "markdown",
   "id": "90fabf05-ba17-4adf-9309-0e25afa2f8b8",
   "metadata": {},
   "source": [
    "**Autocorrelation** is the correlation of a signal with a lagged version of itself."
   ]
  },
  {
   "cell_type": "code",
   "execution_count": 2,
   "id": "86542736-0b23-4aa2-9079-b584e80c72e3",
   "metadata": {},
   "outputs": [],
   "source": [
    "import datetime\n",
    "import pandas as pd\n",
    "import matplotlib.pyplot as plt\n",
    "import seaborn as sns"
   ]
  },
  {
   "cell_type": "code",
   "execution_count": 3,
   "id": "24ca33e7-0e5d-44c6-b6e1-3cf9e16ce6c8",
   "metadata": {},
   "outputs": [
    {
     "data": {
      "text/html": [
       "<div>\n",
       "<style scoped>\n",
       "    .dataframe tbody tr th:only-of-type {\n",
       "        vertical-align: middle;\n",
       "    }\n",
       "\n",
       "    .dataframe tbody tr th {\n",
       "        vertical-align: top;\n",
       "    }\n",
       "\n",
       "    .dataframe thead th {\n",
       "        text-align: right;\n",
       "    }\n",
       "</style>\n",
       "<table border=\"1\" class=\"dataframe\">\n",
       "  <thead>\n",
       "    <tr style=\"text-align: right;\">\n",
       "      <th></th>\n",
       "      <th>City</th>\n",
       "      <th>Year</th>\n",
       "      <th>Smoke</th>\n",
       "      <th>SPM</th>\n",
       "    </tr>\n",
       "  </thead>\n",
       "  <tbody>\n",
       "    <tr>\n",
       "      <th>0</th>\n",
       "      <td>Delhi</td>\n",
       "      <td>1997-01-01</td>\n",
       "      <td>NaN</td>\n",
       "      <td>363.0</td>\n",
       "    </tr>\n",
       "    <tr>\n",
       "      <th>1</th>\n",
       "      <td>Delhi</td>\n",
       "      <td>1998-01-01</td>\n",
       "      <td>NaN</td>\n",
       "      <td>378.0</td>\n",
       "    </tr>\n",
       "    <tr>\n",
       "      <th>2</th>\n",
       "      <td>Delhi</td>\n",
       "      <td>1999-01-01</td>\n",
       "      <td>NaN</td>\n",
       "      <td>375.0</td>\n",
       "    </tr>\n",
       "    <tr>\n",
       "      <th>3</th>\n",
       "      <td>Delhi</td>\n",
       "      <td>2000-01-01</td>\n",
       "      <td>NaN</td>\n",
       "      <td>431.0</td>\n",
       "    </tr>\n",
       "    <tr>\n",
       "      <th>4</th>\n",
       "      <td>Delhi</td>\n",
       "      <td>2001-01-01</td>\n",
       "      <td>NaN</td>\n",
       "      <td>382.0</td>\n",
       "    </tr>\n",
       "  </tbody>\n",
       "</table>\n",
       "</div>"
      ],
      "text/plain": [
       "    City       Year  Smoke    SPM\n",
       "0  Delhi 1997-01-01    NaN  363.0\n",
       "1  Delhi 1998-01-01    NaN  378.0\n",
       "2  Delhi 1999-01-01    NaN  375.0\n",
       "3  Delhi 2000-01-01    NaN  431.0\n",
       "4  Delhi 2001-01-01    NaN  382.0"
      ]
     },
     "execution_count": 3,
     "metadata": {},
     "output_type": "execute_result"
    }
   ],
   "source": [
    "pollution = pd.read_csv(\n",
    "    'https://raw.githubusercontent.com/owid/owid-datasets/master/datasets/Air%20pollution%20by%20city%20-%20Fouquet%20and%20DPCC%20(2011)/Air%20pollution%20by%20city%20-%20Fouquet%20and%20DPCC%20(2011).csv'\n",
    ")\n",
    "len(pollution)\n",
    "\n",
    "#we may want to call on columns specifically, so let us rename them to something simpler\n",
    "pollution = pollution.rename(\n",
    "    columns={\n",
    "        'Suspended Particulate Matter (SPM) (Fouquet and DPCC (2011))':            'SPM',\n",
    "           'Smoke (Fouquet and DPCC (2011))' : 'Smoke',\n",
    "        'Entity': 'City'\n",
    "    }\n",
    ")\n",
    "pollution[\"Year\"] = pollution[\"Year\"].apply(lambda x: datetime.datetime.strptime(str(x), \"%Y\")) \n",
    "pollution.head()"
   ]
  },
  {
   "cell_type": "code",
   "execution_count": 6,
   "id": "a094c110-cdf0-48c9-9ff0-8ee404968281",
   "metadata": {},
   "outputs": [
    {
     "data": {
      "image/png": "[encoded data removed]",
      "text/plain": [
       "<Figure size 1200x600 with 1 Axes>"
      ]
     },
     "metadata": {},
     "output_type": "display_data"
    }
   ],
   "source": [
    "pollution = pollution.pivot(index=\"Year\", columns=\"City\", values=\"SPM\")\n",
    "plt.figure(figsize=(12, 6))\n",
    "sns.lineplot(data=pollution)\n",
    "plt.ylabel('SPM');"
   ]
  },
  {
   "cell_type": "code",
   "execution_count": 7,
   "id": "3b705435-1782-4677-828d-716951998608",
   "metadata": {},
   "outputs": [
    {
     "data": {
      "text/plain": [
       "Year\n",
       "1700-01-01    259.740260\n",
       "1701-01-01    262.337662\n",
       "1702-01-01    264.935065\n",
       "1703-01-01    267.532467\n",
       "1704-01-01    270.129870\n",
       "                 ...    \n",
       "2012-01-01     17.000000\n",
       "2013-01-01     17.000000\n",
       "2014-01-01     17.000000\n",
       "2015-01-01     15.000000\n",
       "2016-01-01     16.000000\n",
       "Name: London, Length: 317, dtype: float64"
      ]
     },
     "execution_count": 7,
     "metadata": {},
     "output_type": "execute_result"
    }
   ],
   "source": [
    "pollution[\"London\"]"
   ]
  },
  {
   "cell_type": "markdown",
   "id": "46faef50-14fd-4012-8234-933b2c79169e",
   "metadata": {},
   "source": [
    "An autocorrelation plot puts lag interval on the x-axis and correlation coefficient values on the y-axis. Note that this is the correlation between the same variable. There is clearly absolute correlation at 0 lag. I suppose the zeroes of the function denote when there is no correlation and the minima and maximum represent the higher correlation. So maybe the maxima-minima spacing denotes a type of seasonality."
   ]
  },
  {
   "cell_type": "code",
   "execution_count": 10,
   "id": "abd2df17-27e6-44de-ab61-aa7a81a6a799",
   "metadata": {},
   "outputs": [
    {
     "data": {
      "text/plain": [
       "<Axes: xlabel='Lag', ylabel='Autocorrelation'>"
      ]
     },
     "execution_count": 10,
     "metadata": {},
     "output_type": "execute_result"
    },
    {
     "data": {
      "image/png": "[encoded data removed]",
      "text/plain": [
       "<Figure size 640x480 with 1 Axes>"
      ]
     },
     "metadata": {},
     "output_type": "display_data"
    }
   ],
   "source": [
    "pd.plotting.autocorrelation_plot(pollution['London'])"
   ]
  },
  {
   "cell_type": "markdown",
   "id": "0d996418-9bf3-4a09-8857-c198f70cb00e",
   "metadata": {},
   "source": [
    "Since autocorrelation is not flat, which shows that this time-series is not stationary similar to the trend."
   ]
  },
  {
   "cell_type": "markdown",
   "id": "43b4568e-4771-4e6d-b225-5768232d9602",
   "metadata": {},
   "source": [
    "A test for staionarity is the  **Dickey-Fuller test**. The method `.adfuller` stands for augmented Dickey-Fuller."
   ]
  },
  {
   "cell_type": "code",
   "execution_count": 16,
   "id": "218bc673-8b50-47ae-9a92-2a6b7aeadb48",
   "metadata": {},
   "outputs": [],
   "source": [
    "#!pip install statsmodels"
   ]
  },
  {
   "cell_type": "code",
   "execution_count": 17,
   "id": "2e8bfff6-7793-4977-818e-202945e4d025",
   "metadata": {},
   "outputs": [
    {
     "data": {
      "text/plain": [
       "(-0.3372164080424344,\n",
       " 0.9200654843183889,\n",
       " 13,\n",
       " 303,\n",
       " {'1%': -3.4521175397304784,\n",
       "  '5%': -2.8711265007266666,\n",
       "  '10%': -2.571877823851692},\n",
       " 1684.699266349387)"
      ]
     },
     "execution_count": 17,
     "metadata": {},
     "output_type": "execute_result"
    }
   ],
   "source": [
    "from statsmodels.tsa import stattools\n",
    "stattools.adfuller(pollution['London'])"
   ]
  },
  {
   "cell_type": "markdown",
   "id": "ac6b5a29-2966-42ac-9a19-0c22b26b55ce",
   "metadata": {},
   "source": [
    "With p-values (the second entry in the adfuller output) below 5% or 0.05 we would typically reject the null hypothesis, and we could assume that our time-series is stationary. In our case, we can't assume that the series is stationary."
   ]
  },
  {
   "cell_type": "markdown",
   "id": "4967cdbe-e1ec-4fd0-a24d-8b33d48d7973",
   "metadata": {},
   "source": [
    "**EEG**\n",
    "\n",
    "The EEG apparently lasts for 117 seconds "
   ]
  },
  {
   "cell_type": "code",
   "execution_count": 18,
   "id": "5b8b53fa-840d-4b9e-b951-9457feb0cf7a",
   "metadata": {},
   "outputs": [],
   "source": [
    "import pandas as pd\n",
    "import matplotlib.pyplot as plt\n",
    "from matplotlib.dates import DateFormatter\n",
    "import seaborn as sns\n",
    "from sklearn.datasets import fetch_openml"
   ]
  },
  {
   "cell_type": "code",
   "execution_count": 19,
   "id": "aa518204-8b97-47c3-8327-1dc09c12a15f",
   "metadata": {},
   "outputs": [
    {
     "name": "stderr",
     "output_type": "stream",
     "text": [
      "C:\\Users\\Lewis Sword\\miniconda3\\envs\\pml3\\lib\\site-packages\\sklearn\\datasets\\_openml.py:1002: FutureWarning: The default value of `parser` will change from `'liac-arff'` to `'auto'` in 1.4. You can set `parser='auto'` to silence this warning. Therefore, an `ImportError` will be raised from 1.4 if the dataset is dense and pandas is not installed. Note that the pandas parser may return different data types. See the Notes Section in fetch_openml's API doc for details.\n",
      "  warn(\n"
     ]
    }
   ],
   "source": [
    "eeg = fetch_openml(data_id=1471, as_frame=True)"
   ]
  },
  {
   "cell_type": "code",
   "execution_count": 24,
   "id": "cf59912a-dc1c-47fc-99a9-ed070e12725f",
   "metadata": {},
   "outputs": [
    {
     "data": {
      "text/plain": [
       "sklearn.utils._bunch.Bunch"
      ]
     },
     "execution_count": 24,
     "metadata": {},
     "output_type": "execute_result"
    }
   ],
   "source": [
    "type(eeg)"
   ]
  },
  {
   "cell_type": "code",
   "execution_count": 25,
   "id": "7320ee1c-9876-4f41-8cd0-9c3ce8d34294",
   "metadata": {},
   "outputs": [
    {
     "name": "stderr",
     "output_type": "stream",
     "text": [
      "C:\\Users\\Lewis Sword\\miniconda3\\envs\\pml3\\lib\\site-packages\\sklearn\\datasets\\_openml.py:1002: FutureWarning: The default value of `parser` will change from `'liac-arff'` to `'auto'` in 1.4. You can set `parser='auto'` to silence this warning. Therefore, an `ImportError` will be raised from 1.4 if the dataset is dense and pandas is not installed. Note that the pandas parser may return different data types. See the Notes Section in fetch_openml's API doc for details.\n",
      "  warn(\n"
     ]
    }
   ],
   "source": [
    "eeg = fetch_openml(data_id=1471, as_frame=True)\n",
    "increment = 117 / len(eeg['data'])\n",
    "import numpy as np\n",
    "index = np.linspace(\n",
    "    start=0,\n",
    "    stop=increment*len(eeg['data']),\n",
    "    num=len(eeg['data'])\n",
    ")\n",
    "ts_index = pd.to_datetime(index, unit='s')\n",
    "v1 = pd.Series(name='V1', data=eeg['data']['V1'].values, index=ts_index)"
   ]
  },
  {
   "cell_type": "code",
   "execution_count": 27,
   "id": "7e9ca5f6-1755-451d-b82a-2ba42b1eaadc",
   "metadata": {},
   "outputs": [
    {
     "data": {
      "text/plain": [
       "1970-01-01 00:00:00.000000000    4329.23\n",
       "1970-01-01 00:00:00.007810935    4324.62\n",
       "1970-01-01 00:00:00.015621870    4327.69\n",
       "1970-01-01 00:00:00.023432805    4328.72\n",
       "1970-01-01 00:00:00.031243741    4326.15\n",
       "Name: V1, dtype: float64"
      ]
     },
     "execution_count": 27,
     "metadata": {},
     "output_type": "execute_result"
    }
   ],
   "source": [
    "v1.head()"
   ]
  },
  {
   "cell_type": "code",
   "execution_count": 28,
   "id": "a01275a1-54b1-4366-a23b-692d53bd36f1",
   "metadata": {},
   "outputs": [
    {
     "data": {
      "text/plain": [
       "1970-01-01 00:00:08.006208692    4289.74\n",
       "1970-01-01 00:00:08.014019627    4284.10\n",
       "1970-01-01 00:00:08.021830562    4280.00\n",
       "1970-01-01 00:00:08.029641498    4289.74\n",
       "1970-01-01 00:00:08.037452433    4298.46\n",
       "                                  ...   \n",
       "1970-01-01 00:01:09.962547566    4289.74\n",
       "1970-01-01 00:01:09.970358501    4283.08\n",
       "1970-01-01 00:01:09.978169437    4284.62\n",
       "1970-01-01 00:01:09.985980372    4289.23\n",
       "1970-01-01 00:01:09.993791307    4290.77\n",
       "Name: V1, Length: 7937, dtype: float64"
      ]
     },
     "execution_count": 28,
     "metadata": {},
     "output_type": "execute_result"
    }
   ],
   "source": [
    "slicing = (v1.index >= '1970-01-01 00:00:08') & (v1.index <='1970-01-01 00:01:10.000000000')\n",
    "v1[slicing]"
   ]
  },
  {
   "cell_type": "code",
   "execution_count": 29,
   "id": "4423e603-c90e-4790-99b8-794026eb5fe6",
   "metadata": {},
   "outputs": [
    {
     "data": {
      "text/plain": [
       "Text(0, 0.5, 'voltage')"
      ]
     },
     "execution_count": 29,
     "metadata": {},
     "output_type": "execute_result"
    },
    {
     "data": {
      "image/png": "[encoded data removed]",
      "text/plain": [
       "<Figure size 1200x600 with 1 Axes>"
      ]
     },
     "metadata": {},
     "output_type": "display_data"
    }
   ],
   "source": [
    "date_formatter = DateFormatter(\"%S\")\n",
    "ax = v1[slicing].plot(figsize=(12, 6))\n",
    "ax.xaxis.set_major_formatter(date_formatter)\n",
    "plt.ylabel('voltage')"
   ]
  },
  {
   "cell_type": "code",
   "execution_count": 30,
   "id": "f1d040dc-e79b-4cb4-8ac7-d1fda5319ec0",
   "metadata": {},
   "outputs": [
    {
     "data": {
      "image/png": "[encoded data removed]",
      "text/plain": [
       "<Figure size 1200x600 with 3 Axes>"
      ]
     },
     "metadata": {},
     "output_type": "display_data"
    }
   ],
   "source": [
    "#Different sampling rate\n",
    "\n",
    "plt.subplot(311)\n",
    "ax1 = v1[slicing].resample('1s').mean().plot(figsize=(12, 6))\n",
    "ax1.xaxis.set_major_formatter(date_formatter)\n",
    "plt.subplot(312)\n",
    "ax1 = v1[slicing].resample('2s').mean().plot(figsize=(12, 6))\n",
    "ax1.xaxis.set_major_formatter(date_formatter)\n",
    "plt.subplot(313)\n",
    "ax2 = v1[slicing].resample('5s').mean().plot(figsize=(12, 6))\n",
    "ax2.xaxis.set_major_formatter(date_formatter) \n",
    "plt.xlabel('seconds');"
   ]
  },
  {
   "cell_type": "markdown",
   "id": "392d4b6f-d9ed-475e-8ec8-70641ceb0c22",
   "metadata": {
    "jp-MarkdownHeadingCollapsed": true
   },
   "source": [
    "# 3/. Preprocessing Time-Series"
   ]
  },
  {
   "cell_type": "markdown",
   "id": "3e65dccb-f59a-4ba4-aa0a-8fb1a4b5017c",
   "metadata": {},
   "source": [
    "- To prevent GIGO (Garbage In, Garbage Out), preprocessing data is key.\n",
    "- Cleaning (removing unnessecary samples, columns) and curating allow the machine learning to be easier to conduct.\n",
    "- Feature transforms: Scaling, Power/Log transforms, imputation\n",
    "- Feature engineering"
   ]
  },
  {
   "cell_type": "markdown",
   "id": "671845ec-d7b2-4542-b5d5-d24aa6418008",
   "metadata": {},
   "source": [
    "Feature transforms can be uni or multi-variate (transforms that apply to one, or more than one variable at a time). We stick to uni. An example of multi-variate transforms are dimensionality reduction."
   ]
  },
  {
   "cell_type": "markdown",
   "id": "f708862b-3b8e-4488-a2ab-b86596244c9f",
   "metadata": {},
   "source": [
    "- A goal to have is to create input features to the machine learning process that make the model easier to train, easier to evaluate or improve the quality of model predictions.\n",
    "- Also have features that are predictive of the target and decorrelated.\n",
    "- Once we have conducted the feature engineering, naturally we will run it through a model to train, and then make predictions. Based on this output, we may wish to feature engineer again, which precisely demonstrates the iterative procedure involved."
   ]
  },
  {
   "cell_type": "markdown",
   "id": "2460dbf8-3696-4289-9f9f-8916441cfbcc",
   "metadata": {},
   "source": [
    "## Feature transforms"
   ]
  },
  {
   "cell_type": "markdown",
   "id": "37de5eef-0bb1-407e-a6e0-6a5b419e653b",
   "metadata": {},
   "source": [
    "Often data is non-normal/non-Gaussian which means the basic ideas relevant things like mean, standard deviation are not especially useful. E.g. if a dataset exhibits several peaks or skew like a Boltzmann distribution. In this vein, we can transform the data to make is as normal as possible. A dataset being \"normal\" just means that the set of features it contains follows somewhat closely a normal distribution. As in, creating a histogram of bins for each feature, the distributions themselves may be different (different mean, different standard deviation, and even levels of skew) but they should all resemble a Gaussian/normal distribution."
   ]
  },
  {
   "cell_type": "markdown",
   "id": "091cd3e9-92df-4002-9b1c-22e1e8ec01b9",
   "metadata": {},
   "source": [
    "### Scaling"
   ]
  },
  {
   "cell_type": "markdown",
   "id": "7bd3151c-e775-46ec-bcee-680ea5c3dab8",
   "metadata": {},
   "source": [
    "- **Min-Max scaling**: Features sometimes have natural bounds which allow us to rescale all data. The min-max algorithm can be used to do this and be effective at bringing certain features data, into the same order of magnitude as others. I imagine that later on in the network processing, this means that some features do not dominate over others in the optimisation algorithm.\n",
    "- **Z-score normalisation**: $x' = (x-\\bar{x})/\\sigma$. So the transformed $x$, denoted $x'$, subtracts from the original data the mean and divides by the standard deviation. This has the outcome of setting the feature's mean to zero and the variance to 1."
   ]
  },
  {
   "cell_type": "code",
   "execution_count": 57,
   "id": "4586a8e9-fac6-42c3-8a13-bb5429855465",
   "metadata": {},
   "outputs": [
    {
     "name": "stdout",
     "output_type": "stream",
     "text": [
      "mean:  2.8833333333333333\n",
      "std:  1.4427982071886098\n"
     ]
    }
   ],
   "source": [
    "df_test=pd.Series([1,2,3,4,5,2.3])\n",
    "print(\"mean: \", df_test.mean())\n",
    "print(\"std: \", df_test.std())"
   ]
  },
  {
   "cell_type": "code",
   "execution_count": 62,
   "id": "89affd4c-eee7-422c-a1a3-cce133304057",
   "metadata": {},
   "outputs": [],
   "source": [
    "def std_func(x,xmean):\n",
    "    \"\"\" Manual implementation of the standard deviation. Note the averaging factor is 1/(len(x)-1)\"\"\"\n",
    "    return np.sqrt( (1/(len(x)-1))*((x-xmean)**2).sum() )\n",
    "\n",
    "def mean_func(x):\n",
    "    \"\"\" Manual implementation of the mean. Note the averaging factor is 1/(len(x))\"\"\"\n",
    "    return ((1/(len(x)))*x).sum() \n",
    "\n",
    "def z_score(x):\n",
    "    xmean = mean_func(x)\n",
    "    std = std_func(x,xmean)\n",
    "    return (x-xmean)/std"
   ]
  },
  {
   "cell_type": "code",
   "execution_count": 63,
   "id": "bff40abb-5908-47cd-9b84-b025d5f3e9fe",
   "metadata": {},
   "outputs": [
    {
     "name": "stdout",
     "output_type": "stream",
     "text": [
      "2.8833333333333333\n",
      "1.4427982071886098\n",
      "0   -1.305334\n",
      "1   -0.612236\n",
      "2    0.080861\n",
      "3    0.773959\n",
      "4    1.467057\n",
      "5   -0.404307\n",
      "dtype: float64\n"
     ]
    }
   ],
   "source": [
    "print(mean_func(df_test))\n",
    "print(std_func(df_test,df_test.mean()))\n",
    "print(z_score(df_test))"
   ]
  },
  {
   "cell_type": "code",
   "execution_count": 68,
   "id": "90d7df8e-89f0-4a4d-bab7-31aeeacc7232",
   "metadata": {},
   "outputs": [
    {
     "name": "stdout",
     "output_type": "stream",
     "text": [
      "-4.625929269271486e-17\n",
      "1.0\n"
     ]
    }
   ],
   "source": [
    "df_zscored= z_score(df_test)\n",
    "print(df_zscored.mean())\n",
    "print(df_zscored.std())"
   ]
  },
  {
   "cell_type": "markdown",
   "id": "6b053363-9a6e-429e-b236-27a80be62766",
   "metadata": {},
   "source": [
    "### Log and Power Transformations"
   ]
  },
  {
   "cell_type": "markdown",
   "id": "62cd04fb-36a7-42d2-850f-3220e086d5d4",
   "metadata": {},
   "source": [
    "Can compress values that spread over large magnitudes into a narrower range."
   ]
  },
  {
   "cell_type": "markdown",
   "id": "98831d3c-f09d-41d1-b9ec-176e58cb9264",
   "metadata": {},
   "source": [
    "- log transformations map feature data $x$ to $\\log(x)$.\n",
    "- Choice of base for the log can be anything that helps the feature get closer to the bell shaped normal distribution.\n",
    "- Can also reduce skew.\n",
    "- Want the variance of the feature to capture that of the target.\n",
    "- Simple histogram checks can help show if a log transform has done its job, bringing the data closer to normal.\n",
    "- Power transformations take data $x$ to $f(x) = c x^n$, for non-zero constant $c$.\n",
    "- Box-Cox transformations are a common one to use.\n",
    "- Quantile transformation."
   ]
  },
  {
   "cell_type": "markdown",
   "id": "e8de151c-7570-40e9-9765-fe0aab8005df",
   "metadata": {},
   "source": [
    "### Imputation"
   ]
  },
  {
   "cell_type": "markdown",
   "id": "89c2e20c-f1ab-45a3-84cb-6442ce75c398",
   "metadata": {},
   "source": [
    "- This is the notion of replacing missing values.\n",
    "- Typical methods include using a constant (0 for example) or using the mean of the feature under consideration.\n",
    "- Another alternative is to actually use model predictions to replace them."
   ]
  },
  {
   "cell_type": "markdown",
   "id": "2feade1b-0579-487f-b19d-e97bde92f4aa",
   "metadata": {},
   "source": [
    "## Feature engineering "
   ]
  },
  {
   "cell_type": "markdown",
   "id": "6ce659d0-df69-4fe2-8cbe-63c4de23b4cc",
   "metadata": {},
   "source": [
    "- Goal of feature engineering is to generate new features that help the ML process. Particular representations or augmentations can boost performance.\n",
    "- Features can be hand crafted or be established and inserted from other previous sources.\n",
    "- Interpretable and non-interpretable features. Interpretable features are like mean, max, min and can be pooled within time periouds to give us more features.\n",
    "- Important: any new feature only depend on the past and present signal. Clearly leakage otherwise.\n",
    "- sktime uses many preprocessing algorithms"
   ]
  },
  {
   "cell_type": "markdown",
   "id": "4c2f1a77-15c6-4e37-aa96-10af8c0cba62",
   "metadata": {},
   "source": [
    "### ROCKET = RandOm Convolutional KErnel Transform"
   ]
  },
  {
   "cell_type": "markdown",
   "id": "1a992715-9b5a-4e98-b5d8-629ddacef7ee",
   "metadata": {},
   "source": [
    "- Introduces concepts from convolutional neural networks, by convolving kernels with the time series data. I think this is just a one dimensional Hadamard product between the data and the kernel. Apparently ROCKET introduces many many kernels of different sizes.\n",
    "- ROCKET computes two aggregate features from each kernel and feature convolution. The two features are created using the well-known methodology global/average max pooling and a novel methodology that we'll come to in a second.\n",
    "- Max pooling takes the max result of mutlpying the kernel array by the image array.\n",
    "- Positive Proportion Value: is the proportion (percentage) of values from the convolution that are positive (or above a bias threshold). I think this is the addition of the original paper.\n",
    "- Important differences to standard CNNs: 1/. ROCKET does not use hidden layers on non-linear activation functions 2/. Convolutions are applied independently for each feature.\n",
    "- Well the set up is quite different to images so direct comparison to features is difficult. I can't really imagine another way to get the convolutions than applyinf them to each feature anyway."
   ]
  },
  {
   "cell_type": "markdown",
   "id": "7140b97d-112f-4157-981a-b448f67ddf0e",
   "metadata": {},
   "source": [
    "### Shapelets"
   ]
  },
  {
   "cell_type": "markdown",
   "id": "5f92bc36-b4b5-44ea-84a9-dc239dc28989",
   "metadata": {},
   "source": [
    "- Decomposes the time series into discriminative subsections i.e. shapelets.\n",
    "- Uses decision tree algorithm after construction (or other ML alogrithms)."
   ]
  },
  {
   "cell_type": "markdown",
   "id": "98b2dba5-6ae0-421d-afc9-50053c862c4d",
   "metadata": {},
   "source": [
    "## Python practice"
   ]
  },
  {
   "cell_type": "code",
   "execution_count": 69,
   "id": "969dcc96-f554-4d40-9a45-ba2dab3cf9f9",
   "metadata": {},
   "outputs": [
    {
     "name": "stdout",
     "output_type": "stream",
     "text": [
      "Collecting tsfresh\n",
      "  Obtaining dependency information for tsfresh from https://files.pythonhosted.org/packages/54/89/59db79edd22f6b339a7142dfc84b0be747952223578ef84e311001d27fd5/tsfresh-0.20.2-py2.py3-none-any.whl.metadata\n",
      "  Downloading tsfresh-0.20.2-py2.py3-none-any.whl.metadata (2.5 kB)\n",
      "Collecting workalendar\n",
      "  Obtaining dependency information for workalendar from https://files.pythonhosted.org/packages/4a/23/2fd9e240ae95be5653d57cc39d5377278eb376b4b3f30e27526d831b1668/workalendar-17.0.0-py3-none-any.whl.metadata\n",
      "  Downloading workalendar-17.0.0-py3-none-any.whl.metadata (8.4 kB)\n",
      "Collecting astral\n",
      "  Obtaining dependency information for astral from https://files.pythonhosted.org/packages/2d/80/d6edd9c3259913cfe39aff2bea4da65de5ad0235a578405e37aabace5f2c/astral-3.2-py3-none-any.whl.metadata\n",
      "  Downloading astral-3.2-py3-none-any.whl.metadata (1.7 kB)\n",
      "Collecting featuretools[tsfresh]\n",
      "  Obtaining dependency information for featuretools[tsfresh] from https://files.pythonhosted.org/packages/44/1b/3905ac45d6cf5d8d9c0217bcd1534efc0343364ca75a217e7d0c225db5e3/featuretools-1.28.0-py3-none-any.whl.metadata\n",
      "  Downloading featuretools-1.28.0-py3-none-any.whl.metadata (16 kB)\n",
      "Collecting sktime\n",
      "  Obtaining dependency information for sktime from https://files.pythonhosted.org/packages/fd/87/cd95d03f10a38bb7d59e1546f1003a8767094458a47c5e631759e8875bd1/sktime-0.27.0-py3-none-any.whl.metadata\n",
      "  Downloading sktime-0.27.0-py3-none-any.whl.metadata (29 kB)\n",
      "Requirement already satisfied: requests>=2.9.1 in c:\\users\\lewis sword\\miniconda3\\envs\\pml3\\lib\\site-packages (from tsfresh) (2.31.0)\n",
      "Requirement already satisfied: numpy>=1.15.1 in c:\\users\\lewis sword\\miniconda3\\envs\\pml3\\lib\\site-packages (from tsfresh) (1.24.3)\n",
      "Requirement already satisfied: pandas>=0.25.0 in c:\\users\\lewis sword\\miniconda3\\envs\\pml3\\lib\\site-packages (from tsfresh) (2.0.3)\n",
      "Requirement already satisfied: scipy>=1.2.0 in c:\\users\\lewis sword\\miniconda3\\envs\\pml3\\lib\\site-packages (from tsfresh) (1.10.1)\n",
      "Requirement already satisfied: statsmodels>=0.13 in c:\\users\\lewis sword\\miniconda3\\envs\\pml3\\lib\\site-packages (from tsfresh) (0.14.1)\n",
      "Requirement already satisfied: patsy>=0.4.1 in c:\\users\\lewis sword\\miniconda3\\envs\\pml3\\lib\\site-packages (from tsfresh) (0.5.6)\n",
      "Requirement already satisfied: scikit-learn>=0.22.0 in c:\\users\\lewis sword\\miniconda3\\envs\\pml3\\lib\\site-packages (from tsfresh) (1.3.0)\n",
      "Requirement already satisfied: tqdm>=4.10.0 in c:\\users\\lewis sword\\miniconda3\\envs\\pml3\\lib\\site-packages (from tsfresh) (4.66.2)\n",
      "Collecting stumpy>=1.7.2 (from tsfresh)\n",
      "  Obtaining dependency information for stumpy>=1.7.2 from https://files.pythonhosted.org/packages/c4/9d/9752261f8fe19ab4239caf1ba3864b04a0d7ab0033155cb11f86f124a642/stumpy-1.12.0-py3-none-any.whl.metadata\n",
      "  Downloading stumpy-1.12.0-py3-none-any.whl.metadata (27 kB)\n",
      "Collecting cloudpickle (from tsfresh)\n",
      "  Obtaining dependency information for cloudpickle from https://files.pythonhosted.org/packages/96/43/dae06432d0c4b1dc9e9149ad37b4ca8384cf6eb7700cd9215b177b914f0a/cloudpickle-3.0.0-py3-none-any.whl.metadata\n",
      "  Downloading cloudpickle-3.0.0-py3-none-any.whl.metadata (7.0 kB)\n",
      "Requirement already satisfied: python-dateutil in c:\\users\\lewis sword\\miniconda3\\envs\\pml3\\lib\\site-packages (from workalendar) (2.8.2)\n",
      "Collecting lunardate (from workalendar)\n",
      "  Obtaining dependency information for lunardate from https://files.pythonhosted.org/packages/a3/07/232401bb1c6bc699c5e641ad375e2582cdde90b19b18e6618ec51796b737/lunardate-0.2.2-py3-none-any.whl.metadata\n",
      "  Downloading lunardate-0.2.2-py3-none-any.whl.metadata (3.6 kB)\n",
      "Collecting convertdate (from workalendar)\n",
      "  Obtaining dependency information for convertdate from https://files.pythonhosted.org/packages/27/65/3deecc820ce91716225ec72b584b48ba9512ed9583ad48619e3dbbbbd714/convertdate-2.4.0-py3-none-any.whl.metadata\n",
      "  Downloading convertdate-2.4.0-py3-none-any.whl.metadata (8.3 kB)\n",
      "Collecting pyluach (from workalendar)\n",
      "  Obtaining dependency information for pyluach from https://files.pythonhosted.org/packages/4f/83/2e585d06d49e0320050b3d7d8ae0dfbd1459e976ff9f4b4d8bcca983d474/pyluach-2.2.0-py3-none-any.whl.metadata\n",
      "  Downloading pyluach-2.2.0-py3-none-any.whl.metadata (4.3 kB)\n",
      "Requirement already satisfied: tzdata in c:\\users\\lewis sword\\miniconda3\\envs\\pml3\\lib\\site-packages (from workalendar) (2023.3)\n",
      "Collecting backports.zoneinfo (from workalendar)\n",
      "  Obtaining dependency information for backports.zoneinfo from https://files.pythonhosted.org/packages/78/cc/e27fd6493bbce8dbea7e6c1bc861fe3d3bc22c4f7c81f4c3befb8ff5bfaf/backports.zoneinfo-0.2.1-cp38-cp38-win_amd64.whl.metadata\n",
      "  Downloading backports.zoneinfo-0.2.1-cp38-cp38-win_amd64.whl.metadata (4.7 kB)\n",
      "Collecting holidays<0.33,>=0.13 (from featuretools[tsfresh])\n",
      "  Obtaining dependency information for holidays<0.33,>=0.13 from https://files.pythonhosted.org/packages/e0/7e/9d3b9387ac87500ae215da875660d219f7734e0dbe9437898a7388f0855c/holidays-0.32-py3-none-any.whl.metadata\n",
      "  Downloading holidays-0.32-py3-none-any.whl.metadata (16 kB)\n",
      "Requirement already satisfied: packaging>=20.0 in c:\\users\\lewis sword\\miniconda3\\envs\\pml3\\lib\\site-packages (from featuretools[tsfresh]) (23.1)\n",
      "Requirement already satisfied: psutil>=5.6.6 in c:\\users\\lewis sword\\miniconda3\\envs\\pml3\\lib\\site-packages (from featuretools[tsfresh]) (5.9.5)\n",
      "Collecting woodwork>=0.23.0 (from featuretools[tsfresh])\n",
      "  Obtaining dependency information for woodwork>=0.23.0 from https://files.pythonhosted.org/packages/96/c9/17fab99e4244d65e71e6fb30ed5262cffca02226dfefa9036d8b3b53cc07/woodwork-0.27.0-py3-none-any.whl.metadata\n",
      "  Downloading woodwork-0.27.0-py3-none-any.whl.metadata (11 kB)\n",
      "Collecting featuretools-tsfresh-primitives>=1.0.0 (from featuretools[tsfresh])\n",
      "  Obtaining dependency information for featuretools-tsfresh-primitives>=1.0.0 from https://files.pythonhosted.org/packages/b3/70/59525168319b3b78c5e66818b280310d8ff1027016ced27f28e38c14703f/featuretools_tsfresh_primitives-1.0.2-py3-none-any.whl.metadata\n",
      "  Downloading featuretools_tsfresh_primitives-1.0.2-py3-none-any.whl.metadata (4.5 kB)\n",
      "Collecting scikit-base<0.8.0 (from sktime)\n",
      "  Obtaining dependency information for scikit-base<0.8.0 from https://files.pythonhosted.org/packages/56/d7/381a52256ecc0502eb69b41558c18cca89bca510cd2d7d5ed7315ca9aa53/scikit_base-0.7.5-py3-none-any.whl.metadata\n",
      "  Downloading scikit_base-0.7.5-py3-none-any.whl.metadata (8.7 kB)\n",
      "Collecting pandas>=0.25.0 (from tsfresh)\n",
      "  Obtaining dependency information for pandas>=0.25.0 from https://files.pythonhosted.org/packages/ca/4e/d18db7d5ff9d28264cd2a7e2499b8701108f0e6c698e382cfd5d20685c21/pandas-1.5.3-cp38-cp38-win_amd64.whl.metadata\n",
      "  Downloading pandas-1.5.3-cp38-cp38-win_amd64.whl.metadata (12 kB)\n",
      "Requirement already satisfied: pytz>=2020.1 in c:\\users\\lewis sword\\miniconda3\\envs\\pml3\\lib\\site-packages (from pandas>=0.25.0->tsfresh) (2023.3)\n",
      "Requirement already satisfied: six in c:\\users\\lewis sword\\miniconda3\\envs\\pml3\\lib\\site-packages (from patsy>=0.4.1->tsfresh) (1.16.0)\n",
      "Requirement already satisfied: charset-normalizer<4,>=2 in c:\\users\\lewis sword\\miniconda3\\envs\\pml3\\lib\\site-packages (from requests>=2.9.1->tsfresh) (3.2.0)\n",
      "Requirement already satisfied: idna<4,>=2.5 in c:\\users\\lewis sword\\miniconda3\\envs\\pml3\\lib\\site-packages (from requests>=2.9.1->tsfresh) (3.4)\n",
      "Requirement already satisfied: urllib3<3,>=1.21.1 in c:\\users\\lewis sword\\miniconda3\\envs\\pml3\\lib\\site-packages (from requests>=2.9.1->tsfresh) (1.26.16)\n",
      "Requirement already satisfied: certifi>=2017.4.17 in c:\\users\\lewis sword\\miniconda3\\envs\\pml3\\lib\\site-packages (from requests>=2.9.1->tsfresh) (2023.7.22)\n",
      "Requirement already satisfied: joblib>=1.1.1 in c:\\users\\lewis sword\\miniconda3\\envs\\pml3\\lib\\site-packages (from scikit-learn>=0.22.0->tsfresh) (1.3.1)\n",
      "Requirement already satisfied: threadpoolctl>=2.0.0 in c:\\users\\lewis sword\\miniconda3\\envs\\pml3\\lib\\site-packages (from scikit-learn>=0.22.0->tsfresh) (3.2.0)\n",
      "Requirement already satisfied: numba>=0.55.2 in c:\\users\\lewis sword\\miniconda3\\envs\\pml3\\lib\\site-packages (from stumpy>=1.7.2->tsfresh) (0.58.1)\n",
      "Requirement already satisfied: colorama in c:\\users\\lewis sword\\miniconda3\\envs\\pml3\\lib\\site-packages (from tqdm>=4.10.0->tsfresh) (0.4.6)\n",
      "Requirement already satisfied: importlib-resources>=5.10.0 in c:\\users\\lewis sword\\miniconda3\\envs\\pml3\\lib\\site-packages (from woodwork>=0.23.0->featuretools[tsfresh]) (6.0.0)\n",
      "Collecting pymeeus<=1,>=0.3.13 (from convertdate->workalendar)\n",
      "  Downloading PyMeeus-0.5.12.tar.gz (5.8 MB)\n",
      "     ---------------------------------------- 0.0/5.8 MB ? eta -:--:--\n",
      "     --- ------------------------------------ 0.5/5.8 MB 10.0 MB/s eta 0:00:01\n",
      "     ------- -------------------------------- 1.1/5.8 MB 11.8 MB/s eta 0:00:01\n",
      "     ---------- ----------------------------- 1.5/5.8 MB 13.3 MB/s eta 0:00:01\n",
      "     ----------- ---------------------------- 1.6/5.8 MB 10.4 MB/s eta 0:00:01\n",
      "     ----------------- ---------------------- 2.5/5.8 MB 10.4 MB/s eta 0:00:01\n",
      "     ---------------------- ----------------- 3.3/5.8 MB 11.6 MB/s eta 0:00:01\n",
      "     ---------------------------- ----------- 4.1/5.8 MB 12.3 MB/s eta 0:00:01\n",
      "     --------------------------------- ------ 4.8/5.8 MB 12.7 MB/s eta 0:00:01\n",
      "     ---------------------------------------  5.7/5.8 MB 13.6 MB/s eta 0:00:01\n",
      "     ---------------------------------------- 5.8/5.8 MB 12.2 MB/s eta 0:00:00\n",
      "  Preparing metadata (setup.py): started\n",
      "  Preparing metadata (setup.py): finished with status 'done'\n",
      "Requirement already satisfied: zipp>=3.1.0 in c:\\users\\lewis sword\\miniconda3\\envs\\pml3\\lib\\site-packages (from importlib-resources>=5.10.0->woodwork>=0.23.0->featuretools[tsfresh]) (3.16.2)\n",
      "Requirement already satisfied: llvmlite<0.42,>=0.41.0dev0 in c:\\users\\lewis sword\\miniconda3\\envs\\pml3\\lib\\site-packages (from numba>=0.55.2->stumpy>=1.7.2->tsfresh) (0.41.1)\n",
      "Requirement already satisfied: importlib-metadata in c:\\users\\lewis sword\\miniconda3\\envs\\pml3\\lib\\site-packages (from numba>=0.55.2->stumpy>=1.7.2->tsfresh) (6.8.0)\n",
      "Downloading tsfresh-0.20.2-py2.py3-none-any.whl (95 kB)\n",
      "   ---------------------------------------- 0.0/95.8 kB ? eta -:--:--\n",
      "   ---------------------------------------- 95.8/95.8 kB 5.3 MB/s eta 0:00:00\n",
      "Downloading workalendar-17.0.0-py3-none-any.whl (210 kB)\n",
      "   ---------------------------------------- 0.0/210.7 kB ? eta -:--:--\n",
      "   --------------------------------------- 210.7/210.7 kB 12.5 MB/s eta 0:00:00\n",
      "Downloading astral-3.2-py3-none-any.whl (38 kB)\n",
      "Downloading sktime-0.27.0-py3-none-any.whl (21.9 MB)\n",
      "   ---------------------------------------- 0.0/21.9 MB ? eta -:--:--\n",
      "   - -------------------------------------- 0.8/21.9 MB 17.9 MB/s eta 0:00:02\n",
      "   --- ------------------------------------ 1.9/21.9 MB 17.1 MB/s eta 0:00:02\n",
      "   ----- ---------------------------------- 3.0/21.9 MB 17.3 MB/s eta 0:00:02\n",
      "   ------ --------------------------------- 3.8/21.9 MB 16.2 MB/s eta 0:00:02\n",
      "   -------- ------------------------------- 4.7/21.9 MB 15.9 MB/s eta 0:00:02\n",
      "   ---------- ----------------------------- 5.8/21.9 MB 16.0 MB/s eta 0:00:02\n",
      "   ------------ --------------------------- 6.7/21.9 MB 15.8 MB/s eta 0:00:01\n",
      "   ------------- -------------------------- 7.6/21.9 MB 15.6 MB/s eta 0:00:01\n",
      "   --------------- ------------------------ 8.7/21.9 MB 15.9 MB/s eta 0:00:01\n",
      "   ----------------- ---------------------- 9.3/21.9 MB 15.7 MB/s eta 0:00:01\n",
      "   ------------------ --------------------- 10.0/21.9 MB 15.6 MB/s eta 0:00:01\n",
      "   -------------------- ------------------- 11.0/21.9 MB 15.6 MB/s eta 0:00:01\n",
      "   --------------------- ------------------ 11.5/21.9 MB 15.2 MB/s eta 0:00:01\n",
      "   ---------------------- ----------------- 12.3/21.9 MB 15.2 MB/s eta 0:00:01\n",
      "   ----------------------- ---------------- 13.0/21.9 MB 15.2 MB/s eta 0:00:01\n",
      "   ------------------------- -------------- 13.7/21.9 MB 15.2 MB/s eta 0:00:01\n",
      "   -------------------------- ------------- 14.4/21.9 MB 14.9 MB/s eta 0:00:01\n",
      "   --------------------------- ------------ 15.2/21.9 MB 15.2 MB/s eta 0:00:01\n",
      "   ---------------------------- ----------- 15.8/21.9 MB 14.9 MB/s eta 0:00:01\n",
      "   ------------------------------ --------- 16.5/21.9 MB 15.2 MB/s eta 0:00:01\n",
      "   ------------------------------- -------- 17.3/21.9 MB 15.6 MB/s eta 0:00:01\n",
      "   -------------------------------- ------- 18.0/21.9 MB 15.2 MB/s eta 0:00:01\n",
      "   ---------------------------------- ----- 18.7/21.9 MB 15.6 MB/s eta 0:00:01\n",
      "   ----------------------------------- ---- 19.4/21.9 MB 15.2 MB/s eta 0:00:01\n",
      "   ------------------------------------ --- 20.2/21.9 MB 15.6 MB/s eta 0:00:01\n",
      "   -------------------------------------- - 21.0/21.9 MB 15.6 MB/s eta 0:00:01\n",
      "   ---------------------------------------  21.8/21.9 MB 15.6 MB/s eta 0:00:01\n",
      "   ---------------------------------------  21.9/21.9 MB 15.6 MB/s eta 0:00:01\n",
      "   ---------------------------------------- 21.9/21.9 MB 13.9 MB/s eta 0:00:00\n",
      "Downloading cloudpickle-3.0.0-py3-none-any.whl (20 kB)\n",
      "Downloading featuretools_tsfresh_primitives-1.0.2-py3-none-any.whl (57 kB)\n",
      "   ---------------------------------------- 0.0/57.1 kB ? eta -:--:--\n",
      "   ---------------------------------------- 57.1/57.1 kB ? eta 0:00:00\n",
      "Downloading featuretools-1.28.0-py3-none-any.whl (619 kB)\n",
      "   ---------------------------------------- 0.0/619.2 kB ? eta -:--:--\n",
      "   --------------------------------------- 619.2/619.2 kB 19.6 MB/s eta 0:00:00\n",
      "Downloading holidays-0.32-py3-none-any.whl (754 kB)\n",
      "   ---------------------------------------- 0.0/754.4 kB ? eta -:--:--\n",
      "   --------------------------------------- 754.4/754.4 kB 15.8 MB/s eta 0:00:00\n",
      "Downloading pandas-1.5.3-cp38-cp38-win_amd64.whl (11.0 MB)\n",
      "   ---------------------------------------- 0.0/11.0 MB ? eta -:--:--\n",
      "   --- ------------------------------------ 1.0/11.0 MB 21.6 MB/s eta 0:00:01\n",
      "   ------ --------------------------------- 1.8/11.0 MB 19.5 MB/s eta 0:00:01\n",
      "   --------- ------------------------------ 2.5/11.0 MB 16.2 MB/s eta 0:00:01\n",
      "   ----------- ---------------------------- 3.2/11.0 MB 15.9 MB/s eta 0:00:01\n",
      "   -------------- ------------------------- 3.9/11.0 MB 15.7 MB/s eta 0:00:01\n",
      "   ---------------- ----------------------- 4.6/11.0 MB 16.3 MB/s eta 0:00:01\n",
      "   ------------------ --------------------- 5.2/11.0 MB 15.0 MB/s eta 0:00:01\n",
      "   --------------------- ------------------ 5.8/11.0 MB 14.7 MB/s eta 0:00:01\n",
      "   ---------------------- ----------------- 6.3/11.0 MB 14.9 MB/s eta 0:00:01\n",
      "   ------------------------ --------------- 6.8/11.0 MB 14.1 MB/s eta 0:00:01\n",
      "   --------------------------- ------------ 7.4/11.0 MB 13.9 MB/s eta 0:00:01\n",
      "   ----------------------------- ---------- 8.1/11.0 MB 14.3 MB/s eta 0:00:01\n",
      "   ------------------------------- -------- 8.6/11.0 MB 13.7 MB/s eta 0:00:01\n",
      "   --------------------------------- ------ 9.3/11.0 MB 14.1 MB/s eta 0:00:01\n",
      "   ------------------------------------ --- 10.1/11.0 MB 14.0 MB/s eta 0:00:01\n",
      "   -------------------------------------- - 10.6/11.0 MB 13.9 MB/s eta 0:00:01\n",
      "   ---------------------------------------  11.0/11.0 MB 13.6 MB/s eta 0:00:01\n",
      "   ---------------------------------------- 11.0/11.0 MB 12.3 MB/s eta 0:00:00\n",
      "Downloading scikit_base-0.7.5-py3-none-any.whl (128 kB)\n",
      "   ---------------------------------------- 0.0/128.8 kB ? eta -:--:--\n",
      "   ---------------------------------------- 128.8/128.8 kB 7.4 MB/s eta 0:00:00\n",
      "Downloading stumpy-1.12.0-py3-none-any.whl (169 kB)\n",
      "   ---------------------------------------- 0.0/169.1 kB ? eta -:--:--\n",
      "   --------------------------------------- 169.1/169.1 kB 10.6 MB/s eta 0:00:00\n",
      "Downloading woodwork-0.27.0-py3-none-any.whl (236 kB)\n",
      "   ---------------------------------------- 0.0/236.1 kB ? eta -:--:--\n",
      "   --------------------------------------- 236.1/236.1 kB 14.1 MB/s eta 0:00:00\n",
      "Downloading backports.zoneinfo-0.2.1-cp38-cp38-win_amd64.whl (38 kB)\n",
      "Downloading convertdate-2.4.0-py3-none-any.whl (47 kB)\n",
      "   ---------------------------------------- 0.0/47.9 kB ? eta -:--:--\n",
      "   ---------------------------------------- 47.9/47.9 kB 2.4 MB/s eta 0:00:00\n",
      "Downloading lunardate-0.2.2-py3-none-any.whl (18 kB)\n",
      "Downloading pyluach-2.2.0-py3-none-any.whl (25 kB)\n",
      "Building wheels for collected packages: pymeeus\n",
      "  Building wheel for pymeeus (setup.py): started\n",
      "  Building wheel for pymeeus (setup.py): finished with status 'done'\n",
      "  Created wheel for pymeeus: filename=PyMeeus-0.5.12-py3-none-any.whl size=732051 sha256=9638286db32f477596743299c9233068ddb7bd3704aa873224277369587c924c\n",
      "  Stored in directory: c:\\users\\lewis sword\\appdata\\local\\pip\\cache\\wheels\\c2\\3a\\3d\\11734e652782d3f823a08aae1c452e887eb16349750cca3f8a\n",
      "Successfully built pymeeus\n",
      "Installing collected packages: pymeeus, lunardate, scikit-base, pyluach, convertdate, cloudpickle, backports.zoneinfo, workalendar, pandas, holidays, astral, woodwork, stumpy, sktime, tsfresh, featuretools, featuretools-tsfresh-primitives\n",
      "  Attempting uninstall: pandas\n",
      "    Found existing installation: pandas 2.0.3\n",
      "    Uninstalling pandas-2.0.3:\n",
      "      Successfully uninstalled pandas-2.0.3\n"
     ]
    },
    {
     "name": "stderr",
     "output_type": "stream",
     "text": [
      "WARNING: Ignoring invalid distribution -rotobuf (c:\\users\\lewis sword\\miniconda3\\envs\\pml3\\lib\\site-packages)\n",
      "WARNING: Ignoring invalid distribution -rotobuf (c:\\users\\lewis sword\\miniconda3\\envs\\pml3\\lib\\site-packages)\n",
      "ERROR: Could not install packages due to an OSError: [WinError 5] Access is denied: 'C:\\\\Users\\\\Lewis Sword\\\\miniconda3\\\\envs\\\\pml3\\\\Lib\\\\site-packages\\\\~andas\\\\_libs\\\\algos.cp38-win_amd64.pyd'\n",
      "Consider using the `--user` option or check the permissions.\n",
      "\n"
     ]
    }
   ],
   "source": [
    "!pip install -U tsfresh workalendar astral \"featuretools[tsfresh]\" sktime"
   ]
  },
  {
   "cell_type": "markdown",
   "id": "a23b013a-5c68-45eb-ab79-83865adb8395",
   "metadata": {},
   "source": [
    "Log transformations"
   ]
  },
  {
   "cell_type": "code",
   "execution_count": 121,
   "id": "cef6734d-f012-4cb1-983f-619c1a852068",
   "metadata": {},
   "outputs": [],
   "source": [
    "from scipy.optimize import minimize\n",
    "import numpy as np\n",
    "np.random.seed(0)\n",
    "pts = 10000\n",
    "vals = np.random.lognormal(0, 1.0, pts)"
   ]
  },
  {
   "cell_type": "code",
   "execution_count": 122,
   "id": "b9e2396a-d728-49ac-a440-b3061c714d36",
   "metadata": {},
   "outputs": [
    {
     "data": {
      "text/plain": [
       "(array([8.018e+03, 1.341e+03, 3.780e+02, 1.280e+02, 5.700e+01, 3.400e+01,\n",
       "        2.000e+01, 8.000e+00, 7.000e+00, 3.000e+00, 1.000e+00, 1.000e+00,\n",
       "        2.000e+00, 1.000e+00, 0.000e+00, 0.000e+00, 0.000e+00, 0.000e+00,\n",
       "        0.000e+00, 1.000e+00]),\n",
       " array([2.37517127e-02, 2.26133711e+00, 4.49892251e+00, 6.73650791e+00,\n",
       "        8.97409331e+00, 1.12116787e+01, 1.34492641e+01, 1.56868495e+01,\n",
       "        1.79244349e+01, 2.01620203e+01, 2.23996057e+01, 2.46371911e+01,\n",
       "        2.68747765e+01, 2.91123619e+01, 3.13499473e+01, 3.35875327e+01,\n",
       "        3.58251181e+01, 3.80627035e+01, 4.03002889e+01, 4.25378743e+01,\n",
       "        4.47754597e+01]),\n",
       " <BarContainer object of 20 artists>)"
      ]
     },
     "execution_count": 122,
     "metadata": {},
     "output_type": "execute_result"
    },
    {
     "data": {
      "image/png": "[encoded data removed]",
      "text/plain": [
       "<Figure size 640x480 with 1 Axes>"
      ]
     },
     "metadata": {},
     "output_type": "display_data"
    }
   ],
   "source": [
    "#plt.yscale('log', nonposy='clip')\n",
    "plt.hist(vals,log=True,bins=20) # Note the use of log=True since the counts are so large between 0 and 10 bins"
   ]
  },
  {
   "cell_type": "code",
   "execution_count": 123,
   "id": "fba745e6-338b-4133-94e7-7a9241917107",
   "metadata": {},
   "outputs": [
    {
     "data": {
      "text/plain": [
       "array([ 2.07468396, -0.05429676,  0.51864701, ...,  0.03623217,\n",
       "       -0.31132627,  1.00937233])"
      ]
     },
     "execution_count": 123,
     "metadata": {},
     "output_type": "execute_result"
    }
   ],
   "source": [
    "#Previously defined z_score.\n",
    "z_score(vals)"
   ]
  },
  {
   "cell_type": "code",
   "execution_count": 124,
   "id": "4ab62425-771a-42df-b55f-c3986cbead5b",
   "metadata": {},
   "outputs": [
    {
     "name": "stdout",
     "output_type": "stream",
     "text": [
      "[[ 2.0747877 ]\n",
      " [-0.05429947]\n",
      " [ 0.51867295]\n",
      " ...\n",
      " [ 0.03623398]\n",
      " [-0.31134184]\n",
      " [ 1.0094228 ]]\n",
      "0.0\n",
      "significance: 0.0000\n"
     ]
    }
   ],
   "source": [
    "from sklearn.preprocessing import StandardScaler\n",
    "from scipy.stats import normaltest\n",
    "scaler = StandardScaler()\n",
    "vals_ss = scaler.fit_transform(vals.reshape(-1, 1))\n",
    "_, p = normaltest(vals_ss)\n",
    "print(vals_ss)\n",
    "print(p[0])\n",
    "print(f\"significance: {p[0]:.4f}\")"
   ]
  },
  {
   "cell_type": "markdown",
   "id": "3b69b549-f14e-4aee-a1e0-c5c4633f3c2a",
   "metadata": {},
   "source": [
    "scipy stats normal test produces a p values where those p-values lower than the threshold, usually 0.05 or 0.01, we would reject the null hypothesis (The null hypothesis is that the sample comes from a normal distribution)."
   ]
  },
  {
   "cell_type": "code",
   "execution_count": 125,
   "id": "f19eff07-4cd5-4301-8df5-02091593b22d",
   "metadata": {},
   "outputs": [
    {
     "name": "stdout",
     "output_type": "stream",
     "text": [
      "significance: 0.0000\n"
     ]
    }
   ],
   "source": [
    "from sklearn.preprocessing import minmax_scale\n",
    "vals_mm = minmax_scale(vals)\n",
    "_, p = normaltest(vals_mm.squeeze())\n",
    "print(f\"significance: {p:.4f}\")"
   ]
  },
  {
   "cell_type": "markdown",
   "id": "23e1265d-594b-4d07-82ec-fd95338d3d47",
   "metadata": {},
   "source": [
    "In both minmax and z_score, we see that the distribution is not normal - this is no surprise since it is a logarithmic normal distribution. Either way these two transforms, do not do the job."
   ]
  },
  {
   "cell_type": "markdown",
   "id": "b0ebc167-ea0a-47cb-9009-a852da08983a",
   "metadata": {},
   "source": [
    "Of course, because we sample from a log normal distribution, the log transform, will help us."
   ]
  },
  {
   "cell_type": "code",
   "execution_count": 126,
   "id": "50ac5b9a-c1b0-4b33-88b0-2a099ef365af",
   "metadata": {},
   "outputs": [
    {
     "name": "stdout",
     "output_type": "stream",
     "text": [
      "significance: 0.46\n"
     ]
    }
   ],
   "source": [
    "log_transformed = np.log(vals)\n",
    "_, p = normaltest(log_transformed)\n",
    "print(f\"significance: {p:.2f}\")"
   ]
  },
  {
   "cell_type": "code",
   "execution_count": 132,
   "id": "2c648928-b8e4-410c-9da7-975ea57932f4",
   "metadata": {},
   "outputs": [
    {
     "data": {
      "text/plain": [
       "(array([   2.,    8.,   31.,   79.,  172.,  407.,  665., 1045., 1280.,\n",
       "        1553., 1449., 1239.,  900.,  579.,  335.,  152.,   75.,   22.,\n",
       "           5.,    2.]),\n",
       " array([-3.74010064, -3.3630126 , -2.98592455, -2.60883651, -2.23174847,\n",
       "        -1.85466042, -1.47757238, -1.10048434, -0.7233963 , -0.34630825,\n",
       "         0.03077979,  0.40786783,  0.78495587,  1.16204392,  1.53913196,\n",
       "         1.91622   ,  2.29330804,  2.67039609,  3.04748413,  3.42457217,\n",
       "         3.80166021]),\n",
       " <BarContainer object of 20 artists>)"
      ]
     },
     "execution_count": 132,
     "metadata": {},
     "output_type": "execute_result"
    },
    {
     "data": {
      "image/png": "[encoded data removed]",
      "text/plain": [
       "<Figure size 640x480 with 1 Axes>"
      ]
     },
     "metadata": {},
     "output_type": "display_data"
    }
   ],
   "source": [
    "plt.hist(log_transformed,log=False,bins=20) # Note the use of log=False now as the numbers have been logged, they are smaller so no need to choose log y-axis."
   ]
  },
  {
   "cell_type": "markdown",
   "id": "041138aa-d4a3-4c1c-9b7e-d970e36ed57c",
   "metadata": {},
   "source": [
    "The p score and the bell shape distribution confirm that taking the log of the distribution will produce a normal like distribution. We can also confirm that the std and mean are close to the Gaussian standards 1 and 0."
   ]
  },
  {
   "cell_type": "code",
   "execution_count": 130,
   "id": "10fbd581-7ce2-498e-bb35-5de4399d65fb",
   "metadata": {},
   "outputs": [
    {
     "name": "stdout",
     "output_type": "stream",
     "text": [
      "0.9875565681761207\n",
      "-0.01843372015826582\n"
     ]
    }
   ],
   "source": [
    "print(log_transformed.std())\n",
    "print(log_transformed.mean())"
   ]
  },
  {
   "cell_type": "markdown",
   "id": "cb0912ee-4407-472e-9137-39666fe35399",
   "metadata": {},
   "source": [
    "What we can also check is a Box-Cox transform, which is less obvious that it would give us a normal-like feature."
   ]
  },
  {
   "cell_type": "code",
   "execution_count": 136,
   "id": "a03d7805-e223-421f-92a2-c2494523920a",
   "metadata": {},
   "outputs": [
    {
     "name": "stdout",
     "output_type": "stream",
     "text": [
      "significance: 0.46\n"
     ]
    }
   ],
   "source": [
    "from scipy.stats import boxcox\n",
    "vals_bc = boxcox(vals,0.0)\n",
    "_, p = normaltest(vals_bc)\n",
    "print(f\"significance: {p:.2f}\")"
   ]
  },
  {
   "cell_type": "code",
   "execution_count": 137,
   "id": "c2d254ef-5a24-4801-bf4a-73711f046f39",
   "metadata": {},
   "outputs": [
    {
     "data": {
      "text/plain": [
       "(array([   2.,    8.,   31.,   79.,  172.,  407.,  665., 1045., 1280.,\n",
       "        1553., 1449., 1239.,  900.,  579.,  335.,  152.,   75.,   22.,\n",
       "           5.,    2.]),\n",
       " array([-3.74010064, -3.3630126 , -2.98592455, -2.60883651, -2.23174847,\n",
       "        -1.85466042, -1.47757238, -1.10048434, -0.7233963 , -0.34630825,\n",
       "         0.03077979,  0.40786783,  0.78495587,  1.16204392,  1.53913196,\n",
       "         1.91622   ,  2.29330804,  2.67039609,  3.04748413,  3.42457217,\n",
       "         3.80166021]),\n",
       " <BarContainer object of 20 artists>)"
      ]
     },
     "execution_count": 137,
     "metadata": {},
     "output_type": "execute_result"
    },
    {
     "data": {
      "image/png": "[encoded data removed]",
      "text/plain": [
       "<Figure size 640x480 with 1 Axes>"
      ]
     },
     "metadata": {},
     "output_type": "display_data"
    }
   ],
   "source": [
    "plt.hist(vals_bc,bins=20)"
   ]
  },
  {
   "cell_type": "markdown",
   "id": "e99b1b31-571c-4ef5-909c-4cc462221cfa",
   "metadata": {},
   "source": [
    "Again we successfully obtain a normal dist."
   ]
  },
  {
   "cell_type": "code",
   "execution_count": 142,
   "id": "6ed8ffc9-ef53-4d98-aebe-d583922b0b20",
   "metadata": {},
   "outputs": [],
   "source": [
    "# Type hints just help us understand directly what the input type is, and what the output type is.\n",
    "def hint_test(a: int) -> float:\n",
    "    return a**2"
   ]
  },
  {
   "cell_type": "code",
   "execution_count": 141,
   "id": "d26ce9b4-4a9e-4de1-9f60-2c2756577cce",
   "metadata": {},
   "outputs": [
    {
     "data": {
      "text/plain": [
       "9"
      ]
     },
     "execution_count": 141,
     "metadata": {},
     "output_type": "execute_result"
    }
   ],
   "source": [
    "hint_test(3)"
   ]
  },
  {
   "cell_type": "markdown",
   "id": "08630a10-3e28-4566-9245-7fd1ae25d1f6",
   "metadata": {},
   "source": [
    "### Automated feature extraction"
   ]
  },
  {
   "cell_type": "markdown",
   "id": "287159ce-9dbb-4ccf-88c0-dba9a127c5c1",
   "metadata": {},
   "source": [
    "Library feature tools offers firstly, a way to split up datetime data into minutes, hours etc."
   ]
  },
  {
   "cell_type": "code",
   "execution_count": 144,
   "id": "6ba089cc-e8e9-4829-af5a-cbe5bd6d2a5c",
   "metadata": {},
   "outputs": [
    {
     "name": "stdout",
     "output_type": "stream",
     "text": [
      "Collecting featuretools"
     ]
    },
    {
     "name": "stderr",
     "output_type": "stream",
     "text": [
      "WARNING: Ignoring invalid distribution -rotobuf (c:\\users\\lewis sword\\miniconda3\\envs\\pml3\\lib\\site-packages)\n",
      "WARNING: Ignoring invalid distribution -rotobuf (c:\\users\\lewis sword\\miniconda3\\envs\\pml3\\lib\\site-packages)\n"
     ]
    },
    {
     "name": "stdout",
     "output_type": "stream",
     "text": [
      "\n",
      "  Obtaining dependency information for featuretools from https://files.pythonhosted.org/packages/44/1b/3905ac45d6cf5d8d9c0217bcd1534efc0343364ca75a217e7d0c225db5e3/featuretools-1.28.0-py3-none-any.whl.metadata\n",
      "  Using cached featuretools-1.28.0-py3-none-any.whl.metadata (16 kB)\n",
      "Requirement already satisfied: cloudpickle>=1.5.0 in c:\\users\\lewis sword\\miniconda3\\envs\\pml3\\lib\\site-packages (from featuretools) (3.0.0)\n",
      "Collecting holidays<0.33,>=0.13 (from featuretools)\n",
      "  Obtaining dependency information for holidays<0.33,>=0.13 from https://files.pythonhosted.org/packages/e0/7e/9d3b9387ac87500ae215da875660d219f7734e0dbe9437898a7388f0855c/holidays-0.32-py3-none-any.whl.metadata\n",
      "  Using cached holidays-0.32-py3-none-any.whl.metadata (16 kB)\n",
      "Requirement already satisfied: numpy>=1.21.0 in c:\\users\\lewis sword\\miniconda3\\envs\\pml3\\lib\\site-packages (from featuretools) (1.24.3)\n",
      "Requirement already satisfied: packaging>=20.0 in c:\\users\\lewis sword\\miniconda3\\envs\\pml3\\lib\\site-packages (from featuretools) (23.1)\n",
      "Requirement already satisfied: pandas>=1.5.0 in c:\\users\\lewis sword\\miniconda3\\envs\\pml3\\lib\\site-packages (from featuretools) (1.5.3)\n",
      "Requirement already satisfied: psutil>=5.6.6 in c:\\users\\lewis sword\\miniconda3\\envs\\pml3\\lib\\site-packages (from featuretools) (5.9.5)\n",
      "Requirement already satisfied: scipy>=1.10.0 in c:\\users\\lewis sword\\miniconda3\\envs\\pml3\\lib\\site-packages (from featuretools) (1.10.1)\n",
      "Requirement already satisfied: tqdm>=4.32.0 in c:\\users\\lewis sword\\miniconda3\\envs\\pml3\\lib\\site-packages (from featuretools) (4.66.2)\n",
      "Collecting woodwork>=0.23.0 (from featuretools)\n",
      "  Obtaining dependency information for woodwork>=0.23.0 from https://files.pythonhosted.org/packages/96/c9/17fab99e4244d65e71e6fb30ed5262cffca02226dfefa9036d8b3b53cc07/woodwork-0.27.0-py3-none-any.whl.metadata\n",
      "  Using cached woodwork-0.27.0-py3-none-any.whl.metadata (11 kB)\n",
      "Requirement already satisfied: python-dateutil in c:\\users\\lewis sword\\miniconda3\\envs\\pml3\\lib\\site-packages (from holidays<0.33,>=0.13->featuretools) (2.8.2)\n",
      "Requirement already satisfied: pytz>=2020.1 in c:\\users\\lewis sword\\miniconda3\\envs\\pml3\\lib\\site-packages (from pandas>=1.5.0->featuretools) (2023.3)\n",
      "Requirement already satisfied: colorama in c:\\users\\lewis sword\\miniconda3\\envs\\pml3\\lib\\site-packages (from tqdm>=4.32.0->featuretools) (0.4.6)\n",
      "Requirement already satisfied: scikit-learn>=0.22 in c:\\users\\lewis sword\\miniconda3\\envs\\pml3\\lib\\site-packages (from woodwork>=0.23.0->featuretools) (1.3.0)\n",
      "Requirement already satisfied: importlib-resources>=5.10.0 in c:\\users\\lewis sword\\miniconda3\\envs\\pml3\\lib\\site-packages (from woodwork>=0.23.0->featuretools) (6.0.0)\n",
      "Requirement already satisfied: zipp>=3.1.0 in c:\\users\\lewis sword\\miniconda3\\envs\\pml3\\lib\\site-packages (from importlib-resources>=5.10.0->woodwork>=0.23.0->featuretools) (3.16.2)\n",
      "Requirement already satisfied: six>=1.5 in c:\\users\\lewis sword\\miniconda3\\envs\\pml3\\lib\\site-packages (from python-dateutil->holidays<0.33,>=0.13->featuretools) (1.16.0)\n",
      "Requirement already satisfied: joblib>=1.1.1 in c:\\users\\lewis sword\\miniconda3\\envs\\pml3\\lib\\site-packages (from scikit-learn>=0.22->woodwork>=0.23.0->featuretools) (1.3.1)\n",
      "Requirement already satisfied: threadpoolctl>=2.0.0 in c:\\users\\lewis sword\\miniconda3\\envs\\pml3\\lib\\site-packages (from scikit-learn>=0.22->woodwork>=0.23.0->featuretools) (3.2.0)\n",
      "Using cached featuretools-1.28.0-py3-none-any.whl (619 kB)\n",
      "Using cached holidays-0.32-py3-none-any.whl (754 kB)\n",
      "Using cached woodwork-0.27.0-py3-none-any.whl (236 kB)\n",
      "Installing collected packages: holidays, woodwork, featuretools\n",
      "Successfully installed featuretools-1.28.0 holidays-0.32 woodwork-0.27.0\n"
     ]
    }
   ],
   "source": [
    "!pip install featuretools"
   ]
  },
  {
   "cell_type": "markdown",
   "id": "8ae1e0b6-e5b3-496b-a2c8-1a541922032f",
   "metadata": {},
   "source": [
    "NOTE: this has to be updated, \n",
    "\n",
    "`es.entity_from_dataframe(\r\n",
    "    entity_id='main_data_table'`\n",
    "\n",
    "becomes \n",
    "\n",
    "`es.add_dataframe(\n",
    "    dataframe_name='main_data_table',`\n",
    "\n",
    "etc.,"
   ]
  },
  {
   "cell_type": "code",
   "execution_count": 156,
   "id": "804a182a-60bb-4cd4-88a5-3997e0355947",
   "metadata": {},
   "outputs": [
    {
     "name": "stderr",
     "output_type": "stream",
     "text": [
      "C:\\Users\\Lewis Sword\\miniconda3\\envs\\pml3\\lib\\site-packages\\featuretools\\synthesis\\deep_feature_synthesis.py:169: UserWarning: Only one dataframe in entityset, changing max_depth to 1 since deeper features cannot be created\n",
      "  warnings.warn(\n"
     ]
    }
   ],
   "source": [
    "import featuretools as ft\n",
    "from featuretools.primitives import Minute, Hour, Day, Month, Year, Weekday\n",
    "data = pd.DataFrame(\n",
    "    {'Time': ['2014-01-01 01:41:50',\n",
    "              '2014-01-01 02:06:50',\n",
    "              '2014-01-01 02:31:50',\n",
    "              '2014-01-01 02:56:50',\n",
    "              '2014-01-01 03:21:50'],\n",
    "     'Target': [0, 0, 0, 0, 1]}\n",
    ")        \n",
    "data['index'] = data.index\n",
    "es = ft.EntitySet('My EntitySet')\n",
    "es.add_dataframe(\n",
    "    dataframe_name='main_data_table',\n",
    "    index='index',\n",
    "    dataframe=data,\n",
    "    time_index='Time'\n",
    ")\n",
    "fm, features = ft.dfs(\n",
    "    entityset=es, \n",
    "    target_dataframe_name='main_data_table', \n",
    "    trans_primitives=[Minute, Hour, Day, Month, Year, Weekday]\n",
    ")"
   ]
  },
  {
   "cell_type": "code",
   "execution_count": 158,
   "id": "98a6fb8a-e5b5-4241-8979-ae53519fdb57",
   "metadata": {},
   "outputs": [
    {
     "data": {
      "text/html": [
       "<div>\n",
       "<style scoped>\n",
       "    .dataframe tbody tr th:only-of-type {\n",
       "        vertical-align: middle;\n",
       "    }\n",
       "\n",
       "    .dataframe tbody tr th {\n",
       "        vertical-align: top;\n",
       "    }\n",
       "\n",
       "    .dataframe thead th {\n",
       "        text-align: right;\n",
       "    }\n",
       "</style>\n",
       "<table border=\"1\" class=\"dataframe\">\n",
       "  <thead>\n",
       "    <tr style=\"text-align: right;\">\n",
       "      <th></th>\n",
       "      <th>Target</th>\n",
       "      <th>DAY(Time)</th>\n",
       "      <th>HOUR(Time)</th>\n",
       "      <th>MINUTE(Time)</th>\n",
       "      <th>MONTH(Time)</th>\n",
       "      <th>WEEKDAY(Time)</th>\n",
       "      <th>YEAR(Time)</th>\n",
       "    </tr>\n",
       "    <tr>\n",
       "      <th>index</th>\n",
       "      <th></th>\n",
       "      <th></th>\n",
       "      <th></th>\n",
       "      <th></th>\n",
       "      <th></th>\n",
       "      <th></th>\n",
       "      <th></th>\n",
       "    </tr>\n",
       "  </thead>\n",
       "  <tbody>\n",
       "    <tr>\n",
       "      <th>0</th>\n",
       "      <td>0</td>\n",
       "      <td>1</td>\n",
       "      <td>1</td>\n",
       "      <td>41</td>\n",
       "      <td>1</td>\n",
       "      <td>2</td>\n",
       "      <td>2014</td>\n",
       "    </tr>\n",
       "    <tr>\n",
       "      <th>1</th>\n",
       "      <td>0</td>\n",
       "      <td>1</td>\n",
       "      <td>2</td>\n",
       "      <td>6</td>\n",
       "      <td>1</td>\n",
       "      <td>2</td>\n",
       "      <td>2014</td>\n",
       "    </tr>\n",
       "    <tr>\n",
       "      <th>2</th>\n",
       "      <td>0</td>\n",
       "      <td>1</td>\n",
       "      <td>2</td>\n",
       "      <td>31</td>\n",
       "      <td>1</td>\n",
       "      <td>2</td>\n",
       "      <td>2014</td>\n",
       "    </tr>\n",
       "    <tr>\n",
       "      <th>3</th>\n",
       "      <td>0</td>\n",
       "      <td>1</td>\n",
       "      <td>2</td>\n",
       "      <td>56</td>\n",
       "      <td>1</td>\n",
       "      <td>2</td>\n",
       "      <td>2014</td>\n",
       "    </tr>\n",
       "    <tr>\n",
       "      <th>4</th>\n",
       "      <td>1</td>\n",
       "      <td>1</td>\n",
       "      <td>3</td>\n",
       "      <td>21</td>\n",
       "      <td>1</td>\n",
       "      <td>2</td>\n",
       "      <td>2014</td>\n",
       "    </tr>\n",
       "  </tbody>\n",
       "</table>\n",
       "</div>"
      ],
      "text/plain": [
       "       Target DAY(Time) HOUR(Time) MINUTE(Time) MONTH(Time) WEEKDAY(Time)  \\\n",
       "index                                                                       \n",
       "0           0         1          1           41           1             2   \n",
       "1           0         1          2            6           1             2   \n",
       "2           0         1          2           31           1             2   \n",
       "3           0         1          2           56           1             2   \n",
       "4           1         1          3           21           1             2   \n",
       "\n",
       "      YEAR(Time)  \n",
       "index             \n",
       "0           2014  \n",
       "1           2014  \n",
       "2           2014  \n",
       "3           2014  \n",
       "4           2014  "
      ]
     },
     "execution_count": 158,
     "metadata": {},
     "output_type": "execute_result"
    }
   ],
   "source": [
    "fm"
   ]
  },
  {
   "cell_type": "code",
   "execution_count": 160,
   "id": "84d1270c-35b8-45bd-8fe8-917e33fe48d2",
   "metadata": {},
   "outputs": [
    {
     "name": "stdout",
     "output_type": "stream",
     "text": [
      "Collecting tsfresh\n",
      "  Obtaining dependency information for tsfresh from https://files.pythonhosted.org/packages/54/89/59db79edd22f6b339a7142dfc84b0be747952223578ef84e311001d27fd5/tsfresh-0.20.2-py2.py3-none-any.whl.metadata\n",
      "  Using cached tsfresh-0.20.2-py2.py3-none-any.whl.metadata (2.5 kB)\n",
      "Requirement already satisfied: requests>=2.9.1 in c:\\users\\lewis sword\\miniconda3\\envs\\pml3\\lib\\site-packages (from tsfresh) (2.31.0)\n",
      "Requirement already satisfied: numpy>=1.15.1 in c:\\users\\lewis sword\\miniconda3\\envs\\pml3\\lib\\site-packages (from tsfresh) (1.24.3)\n",
      "Requirement already satisfied: pandas>=0.25.0 in c:\\users\\lewis sword\\miniconda3\\envs\\pml3\\lib\\site-packages (from tsfresh) (1.5.3)\n",
      "Requirement already satisfied: scipy>=1.2.0 in c:\\users\\lewis sword\\miniconda3\\envs\\pml3\\lib\\site-packages (from tsfresh) (1.10.1)\n",
      "Requirement already satisfied: statsmodels>=0.13 in c:\\users\\lewis sword\\miniconda3\\envs\\pml3\\lib\\site-packages (from tsfresh) (0.14.1)\n",
      "Requirement already satisfied: patsy>=0.4.1 in c:\\users\\lewis sword\\miniconda3\\envs\\pml3\\lib\\site-packages (from tsfresh) (0.5.6)\n",
      "Requirement already satisfied: scikit-learn>=0.22.0 in c:\\users\\lewis sword\\miniconda3\\envs\\pml3\\lib\\site-packages (from tsfresh) (1.3.0)\n",
      "Requirement already satisfied: tqdm>=4.10.0 in c:\\users\\lewis sword\\miniconda3\\envs\\pml3\\lib\\site-packages (from tsfresh) (4.66.2)\n",
      "Collecting stumpy>=1.7.2 (from tsfresh)\n",
      "  Obtaining dependency information for stumpy>=1.7.2 from https://files.pythonhosted.org/packages/c4/9d/9752261f8fe19ab4239caf1ba3864b04a0d7ab0033155cb11f86f124a642/stumpy-1.12.0-py3-none-any.whl.metadata\n",
      "  Using cached stumpy-1.12.0-py3-none-any.whl.metadata (27 kB)\n",
      "Requirement already satisfied: cloudpickle in c:\\users\\lewis sword\\miniconda3\\envs\\pml3\\lib\\site-packages (from tsfresh) (3.0.0)\n",
      "Requirement already satisfied: python-dateutil>=2.8.1 in c:\\users\\lewis sword\\miniconda3\\envs\\pml3\\lib\\site-packages (from pandas>=0.25.0->tsfresh) (2.8.2)\n",
      "Requirement already satisfied: pytz>=2020.1 in c:\\users\\lewis sword\\miniconda3\\envs\\pml3\\lib\\site-packages (from pandas>=0.25.0->tsfresh) (2023.3)\n",
      "Requirement already satisfied: six in c:\\users\\lewis sword\\miniconda3\\envs\\pml3\\lib\\site-packages (from patsy>=0.4.1->tsfresh) (1.16.0)\n",
      "Requirement already satisfied: charset-normalizer<4,>=2 in c:\\users\\lewis sword\\miniconda3\\envs\\pml3\\lib\\site-packages (from requests>=2.9.1->tsfresh) (3.2.0)\n",
      "Requirement already satisfied: idna<4,>=2.5 in c:\\users\\lewis sword\\miniconda3\\envs\\pml3\\lib\\site-packages (from requests>=2.9.1->tsfresh) (3.4)\n",
      "Requirement already satisfied: urllib3<3,>=1.21.1 in c:\\users\\lewis sword\\miniconda3\\envs\\pml3\\lib\\site-packages (from requests>=2.9.1->tsfresh) (1.26.16)\n",
      "Requirement already satisfied: certifi>=2017.4.17 in c:\\users\\lewis sword\\miniconda3\\envs\\pml3\\lib\\site-packages (from requests>=2.9.1->tsfresh) (2023.7.22)\n",
      "Requirement already satisfied: joblib>=1.1.1 in c:\\users\\lewis sword\\miniconda3\\envs\\pml3\\lib\\site-packages (from scikit-learn>=0.22.0->tsfresh) (1.3.1)\n",
      "Requirement already satisfied: threadpoolctl>=2.0.0 in c:\\users\\lewis sword\\miniconda3\\envs\\pml3\\lib\\site-packages (from scikit-learn>=0.22.0->tsfresh) (3.2.0)\n",
      "Requirement already satisfied: packaging>=21.3 in c:\\users\\lewis sword\\miniconda3\\envs\\pml3\\lib\\site-packages (from statsmodels>=0.13->tsfresh) (23.1)\n",
      "Requirement already satisfied: numba>=0.55.2 in c:\\users\\lewis sword\\miniconda3\\envs\\pml3\\lib\\site-packages (from stumpy>=1.7.2->tsfresh) (0.58.1)\n",
      "Requirement already satisfied: colorama in c:\\users\\lewis sword\\miniconda3\\envs\\pml3\\lib\\site-packages (from tqdm>=4.10.0->tsfresh) (0.4.6)\n",
      "Requirement already satisfied: llvmlite<0.42,>=0.41.0dev0 in c:\\users\\lewis sword\\miniconda3\\envs\\pml3\\lib\\site-packages (from numba>=0.55.2->stumpy>=1.7.2->tsfresh) (0.41.1)\n",
      "Requirement already satisfied: importlib-metadata in c:\\users\\lewis sword\\miniconda3\\envs\\pml3\\lib\\site-packages (from numba>=0.55.2->stumpy>=1.7.2->tsfresh) (6.8.0)\n",
      "Requirement already satisfied: zipp>=0.5 in c:\\users\\lewis sword\\miniconda3\\envs\\pml3\\lib\\site-packages (from importlib-metadata->numba>=0.55.2->stumpy>=1.7.2->tsfresh) (3.16.2)\n",
      "Using cached tsfresh-0.20.2-py2.py3-none-any.whl (95 kB)\n",
      "Using cached stumpy-1.12.0-py3-none-any.whl (169 kB)\n",
      "Installing collected packages: stumpy, tsfresh\n",
      "Successfully installed stumpy-1.12.0 tsfresh-0.20.2\n"
     ]
    },
    {
     "name": "stderr",
     "output_type": "stream",
     "text": [
      "WARNING: Ignoring invalid distribution -rotobuf (c:\\users\\lewis sword\\miniconda3\\envs\\pml3\\lib\\site-packages)\n",
      "WARNING: Ignoring invalid distribution -rotobuf (c:\\users\\lewis sword\\miniconda3\\envs\\pml3\\lib\\site-packages)\n"
     ]
    }
   ],
   "source": [
    "!pip install tsfresh"
   ]
  },
  {
   "cell_type": "code",
   "execution_count": 162,
   "id": "7b4aae1b-a015-4ee1-a763-138b4c465388",
   "metadata": {},
   "outputs": [
    {
     "name": "stderr",
     "output_type": "stream",
     "text": [
      "Feature Extraction: 100%|██████████████████████████████████████████████████████████████| 10/10 [00:02<00:00,  4.41it/s]\n"
     ]
    }
   ],
   "source": [
    "from tsfresh.feature_extraction import extract_features\n",
    "from tsfresh.feature_extraction import ComprehensiveFCParameters\n",
    "settings = ComprehensiveFCParameters()\n",
    "out=extract_features(data, column_id='Time', default_fc_parameters=settings)"
   ]
  },
  {
   "cell_type": "code",
   "execution_count": 176,
   "id": "bce04b6b-7358-49c1-a144-bf306e4f17ef",
   "metadata": {},
   "outputs": [
    {
     "data": {
      "text/plain": [
       "Target__variance_larger_than_standard_deviation             True\n",
       "Target__has_duplicate_max                                   True\n",
       "Target__has_duplicate_min                                   True\n",
       "Target__has_duplicate                                       True\n",
       "Target__sum_values                                          True\n",
       "                                                            ... \n",
       "index__permutation_entropy__dimension_5__tau_1              True\n",
       "index__permutation_entropy__dimension_6__tau_1              True\n",
       "index__permutation_entropy__dimension_7__tau_1              True\n",
       "index__query_similarity_count__query_None__threshold_0.0    True\n",
       "index__mean_n_absolute_max__number_of_maxima_7              True\n",
       "Length: 1566, dtype: bool"
      ]
     },
     "execution_count": 176,
     "metadata": {},
     "output_type": "execute_result"
    }
   ],
   "source": [
    "out.isna().count() <6"
   ]
  },
  {
   "cell_type": "markdown",
   "id": "e33fd355-10bf-4c05-a3de-a141b45f8173",
   "metadata": {},
   "source": [
    "A lot of various features! tsfresh does this."
   ]
  },
  {
   "cell_type": "code",
   "execution_count": 178,
   "id": "7284fee7-05cd-4db0-8cfc-2165bea9c121",
   "metadata": {},
   "outputs": [
    {
     "name": "stdout",
     "output_type": "stream",
     "text": [
      "Collecting sktime\n",
      "  Obtaining dependency information for sktime from https://files.pythonhosted.org/packages/fd/87/cd95d03f10a38bb7d59e1546f1003a8767094458a47c5e631759e8875bd1/sktime-0.27.0-py3-none-any.whl.metadata\n",
      "  Using cached sktime-0.27.0-py3-none-any.whl.metadata (29 kB)\n",
      "Requirement already satisfied: numpy<1.27,>=1.21 in c:\\users\\lewis sword\\miniconda3\\envs\\pml3\\lib\\site-packages (from sktime) (1.24.3)\n",
      "Requirement already satisfied: packaging in c:\\users\\lewis sword\\miniconda3\\envs\\pml3\\lib\\site-packages (from sktime) (23.1)\n",
      "Requirement already satisfied: pandas<2.2.0,>=1.1 in c:\\users\\lewis sword\\miniconda3\\envs\\pml3\\lib\\site-packages (from sktime) (1.5.3)\n",
      "Requirement already satisfied: scikit-base<0.8.0 in c:\\users\\lewis sword\\miniconda3\\envs\\pml3\\lib\\site-packages (from sktime) (0.7.5)\n",
      "Requirement already satisfied: scikit-learn<1.5.0,>=0.24 in c:\\users\\lewis sword\\miniconda3\\envs\\pml3\\lib\\site-packages (from sktime) (1.3.0)\n",
      "Requirement already satisfied: scipy<2.0.0,>=1.2 in c:\\users\\lewis sword\\miniconda3\\envs\\pml3\\lib\\site-packages (from sktime) (1.10.1)\n",
      "Requirement already satisfied: python-dateutil>=2.8.1 in c:\\users\\lewis sword\\miniconda3\\envs\\pml3\\lib\\site-packages (from pandas<2.2.0,>=1.1->sktime) (2.8.2)\n",
      "Requirement already satisfied: pytz>=2020.1 in c:\\users\\lewis sword\\miniconda3\\envs\\pml3\\lib\\site-packages (from pandas<2.2.0,>=1.1->sktime) (2023.3)\n",
      "Requirement already satisfied: joblib>=1.1.1 in c:\\users\\lewis sword\\miniconda3\\envs\\pml3\\lib\\site-packages (from scikit-learn<1.5.0,>=0.24->sktime) (1.3.1)\n",
      "Requirement already satisfied: threadpoolctl>=2.0.0 in c:\\users\\lewis sword\\miniconda3\\envs\\pml3\\lib\\site-packages (from scikit-learn<1.5.0,>=0.24->sktime) (3.2.0)\n",
      "Requirement already satisfied: six>=1.5 in c:\\users\\lewis sword\\miniconda3\\envs\\pml3\\lib\\site-packages (from python-dateutil>=2.8.1->pandas<2.2.0,>=1.1->sktime) (1.16.0)\n",
      "Using cached sktime-0.27.0-py3-none-any.whl (21.9 MB)\n",
      "Installing collected packages: sktime\n",
      "Successfully installed sktime-0.27.0\n"
     ]
    },
    {
     "name": "stderr",
     "output_type": "stream",
     "text": [
      "WARNING: Ignoring invalid distribution -rotobuf (c:\\users\\lewis sword\\miniconda3\\envs\\pml3\\lib\\site-packages)\n",
      "WARNING: Ignoring invalid distribution -rotobuf (c:\\users\\lewis sword\\miniconda3\\envs\\pml3\\lib\\site-packages)\n"
     ]
    }
   ],
   "source": [
    "!pip install sktime"
   ]
  },
  {
   "cell_type": "markdown",
   "id": "11a905a0-e273-4e76-be6b-1d8a1e242f2b",
   "metadata": {},
   "source": [
    "Again... Another outdated way of doing things. This is the hazard of newish Libraries."
   ]
  },
  {
   "cell_type": "code",
   "execution_count": 4,
   "id": "cef5c0c4-16cd-498f-b860-fc60c2c5d05b",
   "metadata": {},
   "outputs": [],
   "source": [
    "from sktime.transformations.panel.rocket import Rocket\n",
    "from sktime.datasets import load_unit_test\n",
    "X_train, y_train = load_unit_test(split=\"train\") \n",
    "X_test, y_test = load_unit_test(split=\"test\") \n",
    "trf = Rocket(num_kernels=512) \n",
    "trf.fit(X_train) \n",
    "X_train = trf.transform(X_train) \n",
    "X_test = trf.transform(X_test) "
   ]
  },
  {
   "cell_type": "code",
   "execution_count": 5,
   "id": "fd9915db-7c6d-4cef-b4d7-ebc89ce711ac",
   "metadata": {},
   "outputs": [
    {
     "data": {
      "text/html": [
       "<div>\n",
       "<style scoped>\n",
       "    .dataframe tbody tr th:only-of-type {\n",
       "        vertical-align: middle;\n",
       "    }\n",
       "\n",
       "    .dataframe tbody tr th {\n",
       "        vertical-align: top;\n",
       "    }\n",
       "\n",
       "    .dataframe thead th {\n",
       "        text-align: right;\n",
       "    }\n",
       "</style>\n",
       "<table border=\"1\" class=\"dataframe\">\n",
       "  <thead>\n",
       "    <tr style=\"text-align: right;\">\n",
       "      <th></th>\n",
       "      <th>0</th>\n",
       "      <th>1</th>\n",
       "      <th>2</th>\n",
       "      <th>3</th>\n",
       "      <th>4</th>\n",
       "      <th>5</th>\n",
       "      <th>6</th>\n",
       "      <th>7</th>\n",
       "      <th>8</th>\n",
       "      <th>9</th>\n",
       "      <th>...</th>\n",
       "      <th>1014</th>\n",
       "      <th>1015</th>\n",
       "      <th>1016</th>\n",
       "      <th>1017</th>\n",
       "      <th>1018</th>\n",
       "      <th>1019</th>\n",
       "      <th>1020</th>\n",
       "      <th>1021</th>\n",
       "      <th>1022</th>\n",
       "      <th>1023</th>\n",
       "    </tr>\n",
       "  </thead>\n",
       "  <tbody>\n",
       "    <tr>\n",
       "      <th>0</th>\n",
       "      <td>0.333333</td>\n",
       "      <td>2.650548</td>\n",
       "      <td>0.291667</td>\n",
       "      <td>2.252931</td>\n",
       "      <td>0.285714</td>\n",
       "      <td>1.590197</td>\n",
       "      <td>0.625</td>\n",
       "      <td>2.867302</td>\n",
       "      <td>0.708333</td>\n",
       "      <td>3.331926</td>\n",
       "      <td>...</td>\n",
       "      <td>0.500000</td>\n",
       "      <td>3.366151</td>\n",
       "      <td>0.357143</td>\n",
       "      <td>2.744410</td>\n",
       "      <td>0.333333</td>\n",
       "      <td>5.094441</td>\n",
       "      <td>0.375000</td>\n",
       "      <td>1.528162</td>\n",
       "      <td>0.416667</td>\n",
       "      <td>1.192739</td>\n",
       "    </tr>\n",
       "    <tr>\n",
       "      <th>1</th>\n",
       "      <td>0.444444</td>\n",
       "      <td>1.820337</td>\n",
       "      <td>0.291667</td>\n",
       "      <td>2.129019</td>\n",
       "      <td>0.357143</td>\n",
       "      <td>1.638367</td>\n",
       "      <td>0.750</td>\n",
       "      <td>3.277806</td>\n",
       "      <td>0.708333</td>\n",
       "      <td>2.781354</td>\n",
       "      <td>...</td>\n",
       "      <td>0.458333</td>\n",
       "      <td>3.083562</td>\n",
       "      <td>0.500000</td>\n",
       "      <td>2.890094</td>\n",
       "      <td>0.416667</td>\n",
       "      <td>4.716590</td>\n",
       "      <td>0.250000</td>\n",
       "      <td>1.064834</td>\n",
       "      <td>0.333333</td>\n",
       "      <td>1.200450</td>\n",
       "    </tr>\n",
       "    <tr>\n",
       "      <th>2</th>\n",
       "      <td>0.444444</td>\n",
       "      <td>1.746784</td>\n",
       "      <td>0.208333</td>\n",
       "      <td>2.219698</td>\n",
       "      <td>0.357143</td>\n",
       "      <td>1.234915</td>\n",
       "      <td>0.625</td>\n",
       "      <td>2.984140</td>\n",
       "      <td>0.666667</td>\n",
       "      <td>3.203511</td>\n",
       "      <td>...</td>\n",
       "      <td>0.458333</td>\n",
       "      <td>3.295496</td>\n",
       "      <td>0.500000</td>\n",
       "      <td>2.676944</td>\n",
       "      <td>0.375000</td>\n",
       "      <td>4.764408</td>\n",
       "      <td>0.375000</td>\n",
       "      <td>1.355716</td>\n",
       "      <td>0.500000</td>\n",
       "      <td>1.226455</td>\n",
       "    </tr>\n",
       "    <tr>\n",
       "      <th>3</th>\n",
       "      <td>0.555556</td>\n",
       "      <td>1.328399</td>\n",
       "      <td>0.291667</td>\n",
       "      <td>1.279053</td>\n",
       "      <td>0.285714</td>\n",
       "      <td>0.579151</td>\n",
       "      <td>0.875</td>\n",
       "      <td>3.208432</td>\n",
       "      <td>0.666667</td>\n",
       "      <td>2.199131</td>\n",
       "      <td>...</td>\n",
       "      <td>0.416667</td>\n",
       "      <td>2.916452</td>\n",
       "      <td>0.428571</td>\n",
       "      <td>1.584545</td>\n",
       "      <td>0.500000</td>\n",
       "      <td>3.938594</td>\n",
       "      <td>0.208333</td>\n",
       "      <td>1.519930</td>\n",
       "      <td>0.333333</td>\n",
       "      <td>0.685611</td>\n",
       "    </tr>\n",
       "    <tr>\n",
       "      <th>4</th>\n",
       "      <td>0.500000</td>\n",
       "      <td>1.546476</td>\n",
       "      <td>0.291667</td>\n",
       "      <td>1.635412</td>\n",
       "      <td>0.285714</td>\n",
       "      <td>1.282433</td>\n",
       "      <td>0.750</td>\n",
       "      <td>3.197473</td>\n",
       "      <td>0.750000</td>\n",
       "      <td>2.109186</td>\n",
       "      <td>...</td>\n",
       "      <td>0.416667</td>\n",
       "      <td>3.003610</td>\n",
       "      <td>0.428571</td>\n",
       "      <td>2.220884</td>\n",
       "      <td>0.416667</td>\n",
       "      <td>4.928964</td>\n",
       "      <td>0.291667</td>\n",
       "      <td>0.775961</td>\n",
       "      <td>0.416667</td>\n",
       "      <td>0.875928</td>\n",
       "    </tr>\n",
       "  </tbody>\n",
       "</table>\n",
       "<p>5 rows × 1024 columns</p>\n",
       "</div>"
      ],
      "text/plain": [
       "       0         1         2         3         4         5      6     \\\n",
       "0  0.333333  2.650548  0.291667  2.252931  0.285714  1.590197  0.625   \n",
       "1  0.444444  1.820337  0.291667  2.129019  0.357143  1.638367  0.750   \n",
       "2  0.444444  1.746784  0.208333  2.219698  0.357143  1.234915  0.625   \n",
       "3  0.555556  1.328399  0.291667  1.279053  0.285714  0.579151  0.875   \n",
       "4  0.500000  1.546476  0.291667  1.635412  0.285714  1.282433  0.750   \n",
       "\n",
       "       7         8         9     ...      1014      1015      1016      1017  \\\n",
       "0  2.867302  0.708333  3.331926  ...  0.500000  3.366151  0.357143  2.744410   \n",
       "1  3.277806  0.708333  2.781354  ...  0.458333  3.083562  0.500000  2.890094   \n",
       "2  2.984140  0.666667  3.203511  ...  0.458333  3.295496  0.500000  2.676944   \n",
       "3  3.208432  0.666667  2.199131  ...  0.416667  2.916452  0.428571  1.584545   \n",
       "4  3.197473  0.750000  2.109186  ...  0.416667  3.003610  0.428571  2.220884   \n",
       "\n",
       "       1018      1019      1020      1021      1022      1023  \n",
       "0  0.333333  5.094441  0.375000  1.528162  0.416667  1.192739  \n",
       "1  0.416667  4.716590  0.250000  1.064834  0.333333  1.200450  \n",
       "2  0.375000  4.764408  0.375000  1.355716  0.500000  1.226455  \n",
       "3  0.500000  3.938594  0.208333  1.519930  0.333333  0.685611  \n",
       "4  0.416667  4.928964  0.291667  0.775961  0.416667  0.875928  \n",
       "\n",
       "[5 rows x 1024 columns]"
      ]
     },
     "execution_count": 5,
     "metadata": {},
     "output_type": "execute_result"
    }
   ],
   "source": [
    "X_train.head()"
   ]
  },
  {
   "cell_type": "markdown",
   "id": "a6b58c9f-5594-43dd-ba9d-15a36f356aba",
   "metadata": {},
   "source": [
    "Rocket has split up our initial data into 1024 features! Pretty impressive!"
   ]
  },
  {
   "cell_type": "markdown",
   "id": "c59d7bfb-66fe-4d94-8b14-189d51b1d42d",
   "metadata": {},
   "source": [
    "# 4/. Introduction to Machine Learning for Time-Series"
   ]
  },
  {
   "cell_type": "markdown",
   "id": "6bbc265a-e217-4c60-8c1f-b62754eb59fc",
   "metadata": {},
   "source": [
    "In time-series forecasting, the historical values are extrapolated into the future. The only features are the past values. For example, we could be estimating the calls into a call center over the next month based on calls during the last 2 years. The forecasting task could be univariate, relying on and extrapolating a single feature, or multivariate, where multiple features are projected into the future."
   ]
  },
  {
   "cell_type": "markdown",
   "id": "702146e9-1e5d-4a9f-b519-c9284d478574",
   "metadata": {},
   "source": [
    "# 5/. Forecasting with Moving Averages and Autoregressive Models"
   ]
  },
  {
   "cell_type": "markdown",
   "id": "93f1d166-7a9c-463a-8ff3-0702d7349596",
   "metadata": {},
   "source": [
    "- Classical models - those rooted in mathematics and statistics.\n",
    "- Moving averages and autoregressive approaches for forecasting. Main points here.\n",
    "- Box and Jenkins formalized the ARIMA model and described how to apply it to time-series forecasting."
   ]
  },
  {
   "cell_type": "markdown",
   "id": "879a423a-f827-46a0-9b9c-dc141e0d6b2a",
   "metadata": {},
   "source": [
    "- Many time-series exhibit trends and seasonality, while many of the models in this chapter assume stationarity. If a time-series is stationary, its mean and standard deviation stays constant over time. This implies that the time-series has no trend and no cyclic variability.\n",
    "- Therefore, the removal of irregular components, trends, and seasonal fluctuations is an intrinsic aspect of applying these models. The models then forecast what's left after removing seasonality and trend: business cycles."
   ]
  },
  {
   "cell_type": "markdown",
   "id": "8780ae70-88b9-4896-9753-c12ee412d106",
   "metadata": {},
   "source": [
    "Classical model application pipeline:\n",
    "\n",
    "- Test for stationarity\r",
    "- \n",
    "Differencing([if stationarity detcted)\n",
    "- Fit method and forecast\n",
    "- Add back trend and seasonalityity"
   ]
  },
  {
   "cell_type": "markdown",
   "id": "89ffee1a-f4ae-43ef-b3c0-a3d2dca49941",
   "metadata": {},
   "source": [
    "Univariate study most relevant here."
   ]
  },
  {
   "cell_type": "markdown",
   "id": "c26425f7-3c75-48dc-9c12-1ee117be60a8",
   "metadata": {},
   "source": [
    "## Moving average and autoregression"
   ]
  },
  {
   "cell_type": "markdown",
   "id": "ccae5138-300e-46e4-9b62-99f7649d828b",
   "metadata": {},
   "source": [
    "- ARMA and ARIMA: Moving average (MA) and Autoregressive (AR) models, popularised by Box-Jenkins."
   ]
  },
  {
   "cell_type": "markdown",
   "id": "8762b33a-9974-4494-96dc-e90e7d7794ce",
   "metadata": {},
   "source": [
    "- Simple moving average: $$ \\frac{1}{k}\\sum_{i=1}^{k} x_{i}$$ where $x_{i}$ are the observed time-series signal values.\n",
    "- Can be used to smooth out a signal, removing noise and periodic fluctuations.\n",
    "- Hooker - \"trend as the direction in which a series is moving when oscillations are disregarded.\""
   ]
  },
  {
   "cell_type": "markdown",
   "id": "d24769fb-eec3-4ff0-9f64-97079b7bb769",
   "metadata": {},
   "source": [
    "Moving average of order q: $$MA(q): x_{t} = \\mu + \\epsilon_{t} + \\sum_{i=0}^{q} \\phi_{i} \\epsilon_{t-i}$$ where $\\mu$ is the average of $x_{t}$ (usually assumed to be 0, as in normal distribution) $\\phi_{i}$ are paramters and $\\epsilon_{i}$ is random noise."
   ]
  },
  {
   "cell_type": "markdown",
   "id": "07967fe5-5786-4c68-a606-88ab12702896",
   "metadata": {},
   "source": [
    "To connect to normal notation $x_{t}$ is playing the dependent variable role here (usually y), $\\phi_{i}$ are the tunable weights, $\\epsilon_{i}$ is almost like the input data, but it is random."
   ]
  },
  {
   "cell_type": "markdown",
   "id": "d4242f9c-a9fe-40b1-b76d-b8dbeea7e4ef",
   "metadata": {},
   "source": [
    "Autogression:\n",
    "\n",
    " An autoregressive model regresses the variable on its own lagged values. In other words, the current value of the value is driven by immediately preceding values using a linear combination."
   ]
  },
  {
   "cell_type": "markdown",
   "id": "cb50e4da-d76e-49ae-8902-d33f11484678",
   "metadata": {},
   "source": [
    "Weak stationarity:\n",
    "\n",
    "1/. Finite variation, 2/. constant mean, 3/. constant variation. Constant variation means the variation of the time-series, in a window between two points, is constant over time.\n",
    "\n",
    "This is weak stationarity. Strict stationarity is when the probability density function is unchanged over time."
   ]
  },
  {
   "cell_type": "markdown",
   "id": "750f1e78-f7d4-48d8-9df4-a6ccdcb2c7da",
   "metadata": {},
   "source": [
    "Wold -  observed that stationary time-series can be expressed as the sum of a deterministic component (autoregressive) and a stochastic component (noise)."
   ]
  },
  {
   "cell_type": "markdown",
   "id": "18f3ce3b-c89d-422a-8338-fa18d91f6b9e",
   "metadata": {},
   "source": [
    "Autoregressive model of order p:\n",
    "\n",
    "$$AR(p): x_{t} = c + \\sum_{i=1}^{p} \\phi_{i} x_{t-i} + \\epsilon_{t}$$"
   ]
  },
  {
   "cell_type": "markdown",
   "id": "4fdafadd-0321-410c-a2a5-aa6f4dde93e0",
   "metadata": {},
   "source": [
    "WHittle - Combined AR and MA models into one as the ARMA."
   ]
  },
  {
   "cell_type": "markdown",
   "id": "fbbc0fea-f593-4b58-968a-571a75d7ff86",
   "metadata": {},
   "source": [
    "ARMA hence consists of two tupes of lagged values, one for the AR component; one for the MA component $$ARMA(p,q): x_{t} = c + \\epsilon_{t} + \\sum_{i=1}^{p} \\phi_{i} x_{t-i} + \\sum_{j=0}^{q} \\psi_{j} \\epsilon_{t-j}$$"
   ]
  },
  {
   "cell_type": "markdown",
   "id": "556ee19e-f6eb-4342-b589-bd41ec873430",
   "metadata": {},
   "source": [
    " The so-called Box-Jenkins method is one of the most popular forecasting methods. Their book also contained a description of the autoregressive integrated moving average model (ARIMA)."
   ]
  },
  {
   "cell_type": "markdown",
   "id": "02569c78-e397-4da7-9d05-8c5dcf66ea38",
   "metadata": {},
   "source": [
    "$ARIMA(p, d, q)$ includes a data preprocessing step, called integration, to make the time-series stationary, which is by replacing values by subtracting the immediate past values, a transformation called differencing."
   ]
  },
  {
   "cell_type": "markdown",
   "id": "8d774ae2-938f-4b50-8ec8-95cf9431cca7",
   "metadata": {},
   "source": [
    "The model integration is parametrized by $d$, which is the number of times differences have been taken between current and previous values."
   ]
  },
  {
   "cell_type": "markdown",
   "id": "02501c3f-0c7c-481a-83e6-dec41886a436",
   "metadata": {},
   "source": [
    "Seasonal Auto Regressive Integrative Moving Average models (SARIMA), can also deal with non-stationary time-series."
   ]
  },
  {
   "cell_type": "markdown",
   "id": "c63a4d6c-e901-4807-aa1b-12b2dd2483e3",
   "metadata": {},
   "source": [
    "We can produce different models by choosing different parameters $(p,q)$. We opt for the Occams razor approach: one that makes the fewest assumptions."
   ]
  },
  {
   "cell_type": "markdown",
   "id": "1d881fd3-456d-4073-bca7-6cd20e21d41f",
   "metadata": {},
   "source": [
    "Just like vector autoregression is a multivariate generalization of autoregression, vector ARIMA (VARIMA) is an extension of the univariate ARIMA model to multivariate time-series."
   ]
  },
  {
   "cell_type": "code",
   "execution_count": 5,
   "id": "5afda309-f118-4d8b-bec1-58908ded5393",
   "metadata": {},
   "outputs": [
    {
     "name": "stdout",
     "output_type": "stream",
     "text": [
      "Collecting yfinance\n",
      "  Obtaining dependency information for yfinance from https://files.pythonhosted.org/packages/14/03/3c854ca3e02eedf614abba4b2e177c469bf3af58207fa30d5098c5d652fe/yfinance-0.2.37-py2.py3-none-any.whl.metadata\n",
      "  Downloading yfinance-0.2.37-py2.py3-none-any.whl.metadata (11 kB)\n",
      "Requirement already satisfied: pandas>=1.3.0 in c:\\users\\lewis sword\\miniconda3\\envs\\pml3\\lib\\site-packages (from yfinance) (1.5.3)\n",
      "Requirement already satisfied: numpy>=1.16.5 in c:\\users\\lewis sword\\miniconda3\\envs\\pml3\\lib\\site-packages (from yfinance) (1.24.3)\n",
      "Requirement already satisfied: requests>=2.31 in c:\\users\\lewis sword\\miniconda3\\envs\\pml3\\lib\\site-packages (from yfinance) (2.31.0)\n",
      "Collecting multitasking>=0.0.7 (from yfinance)\n",
      "  Obtaining dependency information for multitasking>=0.0.7 from https://files.pythonhosted.org/packages/3e/8a/bb3160e76e844db9e69a413f055818969c8acade64e1a9ac5ce9dfdcf6c1/multitasking-0.0.11-py3-none-any.whl.metadata\n",
      "  Downloading multitasking-0.0.11-py3-none-any.whl.metadata (5.5 kB)\n",
      "Requirement already satisfied: lxml>=4.9.1 in c:\\users\\lewis sword\\miniconda3\\envs\\pml3\\lib\\site-packages (from yfinance) (5.1.0)\n",
      "Collecting appdirs>=1.4.4 (from yfinance)\n",
      "  Obtaining dependency information for appdirs>=1.4.4 from https://files.pythonhosted.org/packages/3b/00/2344469e2084fb287c2e0b57b72910309874c3245463acd6cf5e3db69324/appdirs-1.4.4-py2.py3-none-any.whl.metadata\n",
      "  Downloading appdirs-1.4.4-py2.py3-none-any.whl.metadata (9.0 kB)\n",
      "Requirement already satisfied: pytz>=2022.5 in c:\\users\\lewis sword\\miniconda3\\envs\\pml3\\lib\\site-packages (from yfinance) (2023.3)\n",
      "Collecting frozendict>=2.3.4 (from yfinance)\n",
      "  Obtaining dependency information for frozendict>=2.3.4 from https://files.pythonhosted.org/packages/e7/d5/0dd1fcc7fd492210767df51efe1c71db4862b7a808444253ddaa138eb3d8/frozendict-2.4.0-cp38-cp38-win_amd64.whl.metadata\n",
      "  Downloading frozendict-2.4.0-cp38-cp38-win_amd64.whl.metadata (23 kB)\n",
      "Collecting peewee>=3.16.2 (from yfinance)\n",
      "  Downloading peewee-3.17.1.tar.gz (3.0 MB)\n",
      "     ---------------------------------------- 0.0/3.0 MB ? eta -:--:--\n",
      "     ---- ----------------------------------- 0.3/3.0 MB 10.2 MB/s eta 0:00:01\n",
      "     --------- ------------------------------ 0.7/3.0 MB 8.8 MB/s eta 0:00:01\n",
      "     -------------- ------------------------- 1.0/3.0 MB 7.3 MB/s eta 0:00:01\n",
      "     ------------------- -------------------- 1.4/3.0 MB 8.1 MB/s eta 0:00:01\n",
      "     ------------------------- -------------- 1.9/3.0 MB 8.6 MB/s eta 0:00:01\n",
      "     ------------------------------ --------- 2.2/3.0 MB 7.9 MB/s eta 0:00:01\n",
      "     ---------------------------------- ----- 2.6/3.0 MB 7.8 MB/s eta 0:00:01\n",
      "     ---------------------------------------  2.9/3.0 MB 7.8 MB/s eta 0:00:01\n",
      "     ---------------------------------------- 3.0/3.0 MB 7.5 MB/s eta 0:00:00\n",
      "  Installing build dependencies: started\n",
      "  Installing build dependencies: finished with status 'done'\n",
      "  Getting requirements to build wheel: started\n",
      "  Getting requirements to build wheel: finished with status 'done'\n",
      "  Preparing metadata (pyproject.toml): started\n",
      "  Preparing metadata (pyproject.toml): finished with status 'done'\n",
      "Requirement already satisfied: beautifulsoup4>=4.11.1 in c:\\users\\lewis sword\\miniconda3\\envs\\pml3\\lib\\site-packages (from yfinance) (4.12.2)\n",
      "Collecting html5lib>=1.1 (from yfinance)\n",
      "  Obtaining dependency information for html5lib>=1.1 from https://files.pythonhosted.org/packages/6c/dd/a834df6482147d48e225a49515aabc28974ad5a4ca3215c18a882565b028/html5lib-1.1-py2.py3-none-any.whl.metadata\n",
      "  Downloading html5lib-1.1-py2.py3-none-any.whl.metadata (16 kB)\n",
      "Requirement already satisfied: soupsieve>1.2 in c:\\users\\lewis sword\\miniconda3\\envs\\pml3\\lib\\site-packages (from beautifulsoup4>=4.11.1->yfinance) (2.4.1)\n",
      "Requirement already satisfied: six>=1.9 in c:\\users\\lewis sword\\miniconda3\\envs\\pml3\\lib\\site-packages (from html5lib>=1.1->yfinance) (1.16.0)\n",
      "Requirement already satisfied: webencodings in c:\\users\\lewis sword\\miniconda3\\envs\\pml3\\lib\\site-packages (from html5lib>=1.1->yfinance) (0.5.1)\n",
      "Requirement already satisfied: python-dateutil>=2.8.1 in c:\\users\\lewis sword\\miniconda3\\envs\\pml3\\lib\\site-packages (from pandas>=1.3.0->yfinance) (2.8.2)\n",
      "Requirement already satisfied: charset-normalizer<4,>=2 in c:\\users\\lewis sword\\miniconda3\\envs\\pml3\\lib\\site-packages (from requests>=2.31->yfinance) (3.2.0)\n",
      "Requirement already satisfied: idna<4,>=2.5 in c:\\users\\lewis sword\\miniconda3\\envs\\pml3\\lib\\site-packages (from requests>=2.31->yfinance) (3.4)\n",
      "Requirement already satisfied: urllib3<3,>=1.21.1 in c:\\users\\lewis sword\\miniconda3\\envs\\pml3\\lib\\site-packages (from requests>=2.31->yfinance) (1.26.16)\n",
      "Requirement already satisfied: certifi>=2017.4.17 in c:\\users\\lewis sword\\miniconda3\\envs\\pml3\\lib\\site-packages (from requests>=2.31->yfinance) (2023.7.22)\n",
      "Downloading yfinance-0.2.37-py2.py3-none-any.whl (72 kB)\n",
      "   ---------------------------------------- 0.0/73.0 kB ? eta -:--:--\n",
      "   ---------------------------------------- 73.0/73.0 kB ? eta 0:00:00\n",
      "Using cached appdirs-1.4.4-py2.py3-none-any.whl (9.6 kB)\n",
      "Downloading frozendict-2.4.0-cp38-cp38-win_amd64.whl (36 kB)\n",
      "Downloading html5lib-1.1-py2.py3-none-any.whl (112 kB)\n",
      "   ---------------------------------------- 0.0/112.2 kB ? eta -:--:--\n",
      "   ---------------------------------------- 112.2/112.2 kB 6.4 MB/s eta 0:00:00\n",
      "Downloading multitasking-0.0.11-py3-none-any.whl (8.5 kB)\n",
      "Building wheels for collected packages: peewee\n",
      "  Building wheel for peewee (pyproject.toml): started\n",
      "  Building wheel for peewee (pyproject.toml): finished with status 'done'\n",
      "  Created wheel for peewee: filename=peewee-3.17.1-py3-none-any.whl size=136948 sha256=f40b70ec100d1ac12c1e54329b3053f0d0b3d66fc91275610cbc1d296ffdf3cd\n",
      "  Stored in directory: c:\\users\\lewis sword\\appdata\\local\\pip\\cache\\wheels\\1e\\4a\\07\\c474654b3579715bde7f51c764d7854bd01b760f62272f196c\n",
      "Successfully built peewee\n",
      "Installing collected packages: peewee, multitasking, appdirs, html5lib, frozendict, yfinance\n",
      "Successfully installed appdirs-1.4.4 frozendict-2.4.0 html5lib-1.1 multitasking-0.0.11 peewee-3.17.1 yfinance-0.2.37\n"
     ]
    },
    {
     "name": "stderr",
     "output_type": "stream",
     "text": [
      "WARNING: Ignoring invalid distribution -rotobuf (c:\\users\\lewis sword\\miniconda3\\envs\\pml3\\lib\\site-packages)\n",
      "WARNING: Ignoring invalid distribution -rotobuf (c:\\users\\lewis sword\\miniconda3\\envs\\pml3\\lib\\site-packages)\n"
     ]
    }
   ],
   "source": [
    "#!pip install statsmodels pandas_datareader\n",
    "!pip install yfinance"
   ]
  },
  {
   "cell_type": "code",
   "execution_count": 6,
   "id": "ea19b9dd-39ff-408a-97bf-8acda7293c85",
   "metadata": {},
   "outputs": [
    {
     "name": "stderr",
     "output_type": "stream",
     "text": [
      "[*********************100%%**********************]  1 of 1 completed\n"
     ]
    }
   ],
   "source": [
    "from datetime import datetime\n",
    "import yfinance as yf\n",
    "  \n",
    "start_date = datetime(2005, 1, 1)\n",
    "end_date = datetime(2021, 1, 1)\n",
    "df = yf.download(\n",
    "    'SPY',\n",
    "    start=start_date,\n",
    "    end = end_date\n",
    ")"
   ]
  },
  {
   "cell_type": "code",
   "execution_count": null,
   "id": "b1562d61-5198-45da-a8c1-8f3531feb562",
   "metadata": {},
   "outputs": [],
   "source": []
  }
 ],
 "metadata": {
  "kernelspec": {
   "display_name": "Python 3 (ipykernel)",
   "language": "python",
   "name": "python3"
  },
  "language_info": {
   "codemirror_mode": {
    "name": "ipython",
    "version": 3
   },
   "file_extension": ".py",
   "mimetype": "text/x-python",
   "name": "python",
   "nbconvert_exporter": "python",
   "pygments_lexer": "ipython3",
   "version": "3.8.0"
  }
 },
 "nbformat": 4,
 "nbformat_minor": 5
}
